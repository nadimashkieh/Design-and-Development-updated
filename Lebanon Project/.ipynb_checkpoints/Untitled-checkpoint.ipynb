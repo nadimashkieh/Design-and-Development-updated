{
 "cells": [
  {
   "cell_type": "markdown",
   "id": "dbd80482",
   "metadata": {},
   "source": [
    "# Project Design\n",
    "## Lebanon Opposition Groups Websites Analysis\n",
    "### Project Overview\n",
    "#### Lebanon is considered a test lab for the larger Middle East. Crumbling under disasters, the country is at the brink of total collapse. The October revolution replaced sectarian divides with a unified public against corrupt political elites. The approaching 2022 elections revived the opposition groups’ shared goal for a functional state. The opposition movements, however, differ in their approach to achieve the goal. This project will attempt to gain insight into the opposition movements’ objectives through Data Mining. Data will be scraped from eight opposition web sites using an HTML parser.\n"
   ]
  },
  {
   "cell_type": "markdown",
   "id": "6bd408db",
   "metadata": {},
   "source": [
    "### Dependencies"
   ]
  },
  {
   "cell_type": "code",
   "execution_count": null,
   "id": "c9d73a90",
   "metadata": {},
   "outputs": [],
   "source": []
  },
  {
   "cell_type": "markdown",
   "id": "8a1e4e5a",
   "metadata": {},
   "source": [
    "### Collection"
   ]
  },
  {
   "cell_type": "code",
   "execution_count": null,
   "id": "997acdee",
   "metadata": {},
   "outputs": [],
   "source": []
  },
  {
   "cell_type": "markdown",
   "id": "b1432fa3",
   "metadata": {},
   "source": [
    "### Processing"
   ]
  },
  {
   "cell_type": "code",
   "execution_count": null,
   "id": "2d5ece01",
   "metadata": {},
   "outputs": [],
   "source": []
  },
  {
   "cell_type": "markdown",
   "id": "e5973360",
   "metadata": {},
   "source": [
    "### Analysis"
   ]
  },
  {
   "cell_type": "code",
   "execution_count": null,
   "id": "beaca4e1",
   "metadata": {},
   "outputs": [],
   "source": []
  },
  {
   "cell_type": "markdown",
   "id": "bdacb6af",
   "metadata": {},
   "source": [
    "### Visualization"
   ]
  },
  {
   "cell_type": "code",
   "execution_count": null,
   "id": "b2348643",
   "metadata": {},
   "outputs": [],
   "source": []
  }
 ],
 "metadata": {
  "kernelspec": {
   "display_name": "Python 3 (ipykernel)",
   "language": "python",
   "name": "python3"
  },
  "language_info": {
   "codemirror_mode": {
    "name": "ipython",
    "version": 3
   },
   "file_extension": ".py",
   "mimetype": "text/x-python",
   "name": "python",
   "nbconvert_exporter": "python",
   "pygments_lexer": "ipython3",
   "version": "3.8.3"
  }
 },
 "nbformat": 4,
 "nbformat_minor": 5
}
