{
 "cells": [
  {
   "cell_type": "code",
   "execution_count": 21,
   "id": "67de4af4",
   "metadata": {},
   "outputs": [
    {
     "name": "stdout",
     "output_type": "stream",
     "text": [
      "10\n",
      "['texts/Eugene Oneguine .txt',\n",
      " 'texts/Frank Merriwell on the '\n",
      " 'Boulevards; Or, Astonishing the '\n",
      " 'Europeans.txt',\n",
      " 'texts/In the Wonderful Land of '\n",
      " 'Hez.txt',\n",
      " 'texts/Lost Lenore: The Adventures of '\n",
      " 'a Rolling Stone.txt',\n",
      " 'texts/Miss Caprice.txt',\n",
      " 'texts/Nancy MacIntyre: A Tale of the '\n",
      " 'Prairies.txt',\n",
      " 'texts/The Mystery of a Turkish '\n",
      " 'Bath.txt',\n",
      " 'texts/Told in the Coffee House: '\n",
      " 'Turkish Tales.txt',\n",
      " 'texts/Trust; Or, Never Say Die.txt',\n",
      " 'texts/Turkish fairy tales and folk '\n",
      " 'tales.txt']\n"
     ]
    }
   ],
   "source": [
    "import pandas as pd\n",
    "import os\n",
    "import numpy as np\n",
    "import pprint\n",
    "\n",
    "documents = []\n",
    "path = 'india_texts/'\n",
    "pp = pprint.PrettyPrinter(width=41, compact=True)\n",
    "\n",
    "filenames=sorted([os.path.join(path, fn) for fn in os.listdir(path) if not fn.startswith('.')])\n",
    "\n",
    "pp.pprint(len(filenames)) # count files in corpus\n",
    "pp.pprint(filenames[:10]) # print names of 1st ten files in corpus"
   ]
  },
  {
   "cell_type": "code",
   "execution_count": 22,
   "id": "b2e5ff34",
   "metadata": {},
   "outputs": [
    {
     "name": "stderr",
     "output_type": "stream",
     "text": [
      "/Users/nada/opt/anaconda3/lib/python3.8/site-packages/sklearn/utils/deprecation.py:87: FutureWarning: Function get_feature_names is deprecated; get_feature_names is deprecated in 1.0 and will be removed in 1.2. Please use get_feature_names_out instead.\n",
      "  warnings.warn(msg, category=FutureWarning)\n"
     ]
    }
   ],
   "source": [
    "import sklearn.feature_extraction.text as text\n",
    "\n",
    "vectorizer=text.CountVectorizer(input='filename', stop_words=\"english\", min_df=1)\n",
    "dtm=vectorizer.fit_transform(filenames).toarray() # defines document term matrix\n",
    "\n",
    "vocab=np.array(vectorizer.get_feature_names())"
   ]
  },
  {
   "cell_type": "code",
   "execution_count": 23,
   "id": "03c0e370",
   "metadata": {},
   "outputs": [
    {
     "name": "stdout",
     "output_type": "stream",
     "text": [
      "Shape of document-term matrix: (10, 19972). Number of tokens 239201\n"
     ]
    }
   ],
   "source": [
    "print(f'Shape of document-term matrix: {dtm.shape}. '\n",
    "      f'Number of tokens {dtm.sum()}')"
   ]
  },
  {
   "cell_type": "code",
   "execution_count": 24,
   "id": "01fb9a4e",
   "metadata": {},
   "outputs": [],
   "source": [
    "import sklearn.decomposition as decomposition\n",
    "model = decomposition.LatentDirichletAllocation(\n",
    "    n_components=100, learning_method='online', random_state=1)"
   ]
  },
  {
   "cell_type": "code",
   "execution_count": 25,
   "id": "a2202ec7",
   "metadata": {},
   "outputs": [],
   "source": [
    "document_topic_distributions = model.fit_transform(dtm)"
   ]
  },
  {
   "cell_type": "code",
   "execution_count": 26,
   "id": "b20d8b23",
   "metadata": {},
   "outputs": [
    {
     "name": "stderr",
     "output_type": "stream",
     "text": [
      "/Users/nada/opt/anaconda3/lib/python3.8/site-packages/sklearn/utils/deprecation.py:87: FutureWarning: Function get_feature_names is deprecated; get_feature_names is deprecated in 1.0 and will be removed in 1.2. Please use get_feature_names_out instead.\n",
      "  warnings.warn(msg, category=FutureWarning)\n"
     ]
    }
   ],
   "source": [
    "vocabulary = vectorizer.get_feature_names()\n",
    "# (# topics, # vocabulary)\n",
    "assert model.components_.shape == (100, len(vocabulary))\n",
    "# (# documents, # topics)\n",
    "assert document_topic_distributions.shape == (dtm.shape[0], 100)"
   ]
  },
  {
   "cell_type": "code",
   "execution_count": 27,
   "id": "f6091f44",
   "metadata": {},
   "outputs": [
    {
     "name": "stdout",
     "output_type": "stream",
     "text": [
      "                00       000        05        10       100       101  \\\n",
      "Topic 0   0.237947  0.194301  0.193602  0.185325  0.240021  0.189227   \n",
      "Topic 1   0.190490  0.172375  0.156569  0.205567  0.220027  0.168429   \n",
      "Topic 2   0.212664  0.198298  0.194604  0.178876  0.229012  0.179083   \n",
      "Topic 3   0.193902  0.215080  0.190658  0.206606  0.199202  0.182999   \n",
      "Topic 4   0.203990  0.245198  0.181667  0.190730  0.186380  0.195505   \n",
      "...            ...       ...       ...       ...       ...       ...   \n",
      "Topic 95  0.211747  0.208131  0.198420  0.225771  0.224003  0.193598   \n",
      "Topic 96  0.199035  0.210455  0.191971  0.200519  0.230566  0.208412   \n",
      "Topic 97  0.209955  0.171234  0.211832  0.216598  0.200073  0.210788   \n",
      "Topic 98  0.224333  0.184270  0.163595  0.231726  0.182243  0.184705   \n",
      "Topic 99  0.187471  0.219636  0.188694  0.208748  0.218110  0.230755   \n",
      "\n",
      "               102       103       104       105  ...       âme     æneid  \\\n",
      "Topic 0   0.234110  0.166433  0.226859  0.182991  ...  0.191518  0.207659   \n",
      "Topic 1   0.195538  0.201239  0.224591  0.232372  ...  0.181441  0.178909   \n",
      "Topic 2   0.195149  0.190530  0.202772  0.172655  ...  0.193706  0.231349   \n",
      "Topic 3   0.188329  0.210428  0.215963  0.196203  ...  0.212693  0.254395   \n",
      "Topic 4   0.185879  0.180785  0.235498  0.180265  ...  0.182957  0.204874   \n",
      "...            ...       ...       ...       ...  ...       ...       ...   \n",
      "Topic 95  0.214204  0.199668  0.210650  0.209137  ...  0.216335  0.171092   \n",
      "Topic 96  0.172908  0.206320  0.205497  0.206384  ...  0.198066  0.186957   \n",
      "Topic 97  0.216800  0.191223  0.192402  0.219292  ...  0.214226  0.205185   \n",
      "Topic 98  0.195787  0.177196  0.232601  0.184244  ...  0.190870  0.206181   \n",
      "Topic 99  0.175188  0.208205  0.211049  0.207677  ...  0.210139  0.186467   \n",
      "\n",
      "              æsop   élysées     étais     était  étourderie     étude  \\\n",
      "Topic 0   0.209170  0.225202  0.205417  0.178933    0.219454  0.199157   \n",
      "Topic 1   0.211690  0.189079  0.166698  0.197021    0.188738  0.197780   \n",
      "Topic 2   0.191574  0.201548  0.151878  0.198998    0.218428  0.206668   \n",
      "Topic 3   0.224544  0.214450  0.182911  0.209975    0.239166  0.193405   \n",
      "Topic 4   0.215038  0.172391  0.216439  0.214533    0.182077  0.224723   \n",
      "...            ...       ...       ...       ...         ...       ...   \n",
      "Topic 95  0.208434  0.207789  0.200368  0.185647    0.195548  0.194691   \n",
      "Topic 96  0.199392  0.187985  0.213899  0.179695    0.193676  0.214916   \n",
      "Topic 97  0.239317  0.223255  0.191481  0.194161    0.211424  0.193251   \n",
      "Topic 98  0.206729  0.209569  0.216061  0.196765    0.230812  0.218737   \n",
      "Topic 99  0.172622  0.188556  0.218346  0.193190    0.206040  0.207210   \n",
      "\n",
      "              être    œdipus  \n",
      "Topic 0   0.171136  0.189703  \n",
      "Topic 1   0.221114  0.182847  \n",
      "Topic 2   0.218733  0.195282  \n",
      "Topic 3   0.201465  0.220381  \n",
      "Topic 4   0.206423  0.185346  \n",
      "...            ...       ...  \n",
      "Topic 95  0.228512  0.180936  \n",
      "Topic 96  0.201277  0.204166  \n",
      "Topic 97  0.174874  0.234474  \n",
      "Topic 98  0.187644  0.208732  \n",
      "Topic 99  0.191556  0.221193  \n",
      "\n",
      "[100 rows x 19972 columns]\n"
     ]
    }
   ],
   "source": [
    "topic_names = [f'Topic {k}' for k in range(100)]\n",
    "topic_word_distributions = pd.DataFrame(\n",
    "    model.components_, columns=vocabulary, index=topic_names)\n",
    "print(topic_word_distributions)"
   ]
  },
  {
   "cell_type": "code",
   "execution_count": 28,
   "id": "34e3171b",
   "metadata": {},
   "outputs": [
    {
     "data": {
      "text/plain": [
       "man          1.185301\n",
       "said         1.077946\n",
       "frank        0.985834\n",
       "men          0.805978\n",
       "know         0.805286\n",
       "john         0.774630\n",
       "gutenberg    0.772004\n",
       "time         0.744252\n",
       "little       0.691111\n",
       "came         0.691066\n",
       "like         0.685948\n",
       "face         0.680662\n",
       "think        0.658739\n",
       "make         0.623812\n",
       "away         0.615304\n",
       "did          0.612992\n",
       "hand         0.602929\n",
       "project      0.600136\n",
       "Name: Topic 8, dtype: float64"
      ]
     },
     "execution_count": 28,
     "metadata": {},
     "output_type": "execute_result"
    }
   ],
   "source": [
    "topic_word_distributions.loc['Topic 8'].sort_values(ascending=False).head(18)"
   ]
  },
  {
   "cell_type": "code",
   "execution_count": 29,
   "id": "790bb11e",
   "metadata": {},
   "outputs": [
    {
     "name": "stdout",
     "output_type": "stream",
     "text": [
      "        Topic 0       Topic 1       Topic 2       Topic 3       Topic 4  \\\n",
      "0  4.407811e-07  4.407811e-07  4.407811e-07  4.407811e-07  4.407811e-07   \n",
      "1  3.827898e-07  3.827898e-07  3.827898e-07  3.827898e-07  3.827898e-07   \n",
      "2  6.433350e-07  6.433350e-07  6.433350e-07  6.433350e-07  6.433350e-07   \n",
      "3  1.801834e-07  1.801834e-07  1.801834e-07  1.801834e-07  1.801834e-07   \n",
      "4  3.930818e-07  3.930818e-07  3.930818e-07  3.930818e-07  3.930818e-07   \n",
      "5  1.316136e-06  1.316136e-06  1.316136e-06  1.316136e-06  1.316136e-06   \n",
      "6  6.809206e-07  6.809206e-07  6.809206e-07  6.809206e-07  6.809206e-07   \n",
      "7  7.384979e-07  7.384979e-07  7.384979e-07  7.384979e-07  7.384979e-07   \n",
      "8  3.324800e-07  3.324800e-07  3.324800e-07  3.324800e-07  3.324800e-07   \n",
      "9  3.569516e-07  3.569516e-07  3.569516e-07  3.569516e-07  3.569516e-07   \n",
      "\n",
      "        Topic 5       Topic 6       Topic 7       Topic 8       Topic 9  ...  \\\n",
      "0  4.407811e-07  4.407811e-07  4.407811e-07  4.407811e-07  4.407811e-07  ...   \n",
      "1  3.827898e-07  3.827898e-07  3.827898e-07  3.827898e-07  3.827898e-07  ...   \n",
      "2  6.433350e-07  6.433350e-07  6.433350e-07  6.433350e-07  6.433350e-07  ...   \n",
      "3  1.801834e-07  1.801834e-07  1.801834e-07  1.801834e-07  1.801834e-07  ...   \n",
      "4  3.930818e-07  3.930818e-07  3.930818e-07  3.930818e-07  3.930818e-07  ...   \n",
      "5  1.316136e-06  1.316136e-06  1.316136e-06  1.316136e-06  1.316136e-06  ...   \n",
      "6  6.809206e-07  6.809206e-07  6.809206e-07  6.809206e-07  6.809206e-07  ...   \n",
      "7  7.384979e-07  7.384979e-07  7.384979e-07  7.384979e-07  7.384979e-07  ...   \n",
      "8  3.324800e-07  3.324800e-07  3.324800e-07  3.324800e-07  3.324800e-07  ...   \n",
      "9  3.569516e-07  3.569516e-07  3.569516e-07  3.569516e-07  3.569516e-07  ...   \n",
      "\n",
      "       Topic 90      Topic 91      Topic 92      Topic 93      Topic 94  \\\n",
      "0  4.407811e-07  4.407811e-07  4.407811e-07  4.407811e-07  4.407811e-07   \n",
      "1  3.827898e-07  3.827898e-07  3.827898e-07  3.827898e-07  3.827898e-07   \n",
      "2  6.433350e-07  6.433350e-07  6.433350e-07  6.433350e-07  6.433350e-07   \n",
      "3  1.801834e-07  1.801834e-07  1.801834e-07  1.801834e-07  1.801834e-07   \n",
      "4  3.930818e-07  3.930818e-07  3.930818e-07  3.930818e-07  3.930818e-07   \n",
      "5  1.316136e-06  1.316136e-06  1.316136e-06  1.316136e-06  1.316136e-06   \n",
      "6  6.809206e-07  6.809206e-07  6.809206e-07  6.809206e-07  6.809206e-07   \n",
      "7  7.384979e-07  7.384979e-07  7.384979e-07  7.384979e-07  7.384979e-07   \n",
      "8  3.324800e-07  3.324800e-07  3.324800e-07  3.324800e-07  3.324800e-07   \n",
      "9  3.569516e-07  3.569516e-07  3.569516e-07  3.569516e-07  3.569516e-07   \n",
      "\n",
      "       Topic 95      Topic 96      Topic 97      Topic 98      Topic 99  \n",
      "0  4.407811e-07  4.407811e-07  4.407811e-07  4.407811e-07  4.407811e-07  \n",
      "1  3.827898e-07  3.827898e-07  3.827898e-07  3.827898e-07  3.827898e-07  \n",
      "2  6.433350e-07  6.433350e-07  6.433350e-07  6.433350e-07  6.433350e-07  \n",
      "3  1.801834e-07  1.801834e-07  1.801834e-07  1.801834e-07  1.801834e-07  \n",
      "4  3.930818e-07  3.930818e-07  3.930818e-07  3.930818e-07  3.930818e-07  \n",
      "5  1.316136e-06  1.316136e-06  1.316136e-06  1.316136e-06  1.316136e-06  \n",
      "6  6.809206e-07  6.809206e-07  6.809206e-07  6.809206e-07  6.809206e-07  \n",
      "7  7.384979e-07  7.384979e-07  7.384979e-07  7.384979e-07  7.384979e-07  \n",
      "8  3.324800e-07  3.324800e-07  3.324800e-07  3.324800e-07  3.324800e-07  \n",
      "9  3.569516e-07  3.569516e-07  3.569516e-07  3.569516e-07  3.569516e-07  \n",
      "\n",
      "[10 rows x 100 columns]\n"
     ]
    }
   ],
   "source": [
    "document_topic_distributions = pd.DataFrame(\n",
    "    document_topic_distributions, columns=topic_names)\n",
    "print(document_topic_distributions)"
   ]
  },
  {
   "cell_type": "code",
   "execution_count": 30,
   "id": "7c8c8b43",
   "metadata": {},
   "outputs": [
    {
     "data": {
      "text/plain": [
       "frank        1.198456\n",
       "man          0.951432\n",
       "gutenberg    0.849304\n",
       "said         0.820261\n",
       "time         0.699160\n",
       "like         0.653592\n",
       "merriwell    0.630777\n",
       "did          0.548389\n",
       "project      0.530975\n",
       "tm           0.517697\n",
       "old          0.513720\n",
       "hand         0.506189\n",
       "merry        0.500261\n",
       "come         0.477091\n",
       "life         0.455304\n",
       "way          0.447911\n",
       "works        0.437391\n",
       "know         0.433607\n",
       "Name: Topic 2, dtype: float64"
      ]
     },
     "execution_count": 30,
     "metadata": {},
     "output_type": "execute_result"
    }
   ],
   "source": [
    "words = topic_word_distributions.loc['Topic 2'].sort_values(ascending=False).head(18)\n",
    "words"
   ]
  },
  {
   "cell_type": "code",
   "execution_count": 31,
   "id": "c3fff884",
   "metadata": {},
   "outputs": [
    {
     "name": "stdout",
     "output_type": "stream",
     "text": [
      "00     0.212664\n",
      "000    0.198298\n",
      "05     0.194604\n",
      "10     0.178876\n",
      "100    0.229012\n",
      "101    0.179083\n",
      "102    0.195149\n",
      "103    0.190530\n",
      "104    0.202772\n",
      "105    0.172655\n",
      "106    0.182100\n",
      "107    0.170455\n",
      "108    0.191788\n",
      "109    0.202389\n",
      "11     0.233226\n",
      "110    0.205224\n",
      "111    0.222749\n",
      "112    0.205388\n",
      "113    0.216660\n",
      "114    0.191298\n",
      "Name: Topic 2, dtype: float64\n"
     ]
    },
    {
     "data": {
      "image/png": "[encoded data removed]",
      "text/plain": [
       "<Figure size 432x288 with 1 Axes>"
      ]
     },
     "metadata": {
      "needs_background": "light"
     },
     "output_type": "display_data"
    }
   ],
   "source": [
    "from matplotlib import pyplot as plt\n",
    "from wordcloud import WordCloud, STOPWORDS\n",
    "import matplotlib.colors as mcolors\n",
    "\n",
    "print(topic_word_distributions.loc['Topic 2'].head(20))\n",
    "\n",
    "# Create and generate a word cloud image:\n",
    "wordcloud = WordCloud().generate_from_frequencies(words)\n",
    "\n",
    "# Display the generated image:\n",
    "plt.imshow(wordcloud, interpolation='bilinear')\n",
    "plt.axis(\"off\")\n",
    "plt.show()"
   ]
  },
  {
   "cell_type": "code",
   "execution_count": 32,
   "id": "139e9c39",
   "metadata": {},
   "outputs": [
    {
     "name": "stderr",
     "output_type": "stream",
     "text": [
      "[nltk_data] Downloading package vader_lexicon to\n",
      "[nltk_data]     /Users/nada/nltk_data...\n",
      "[nltk_data]   Package vader_lexicon is already up-to-date!\n",
      "[nltk_data] Downloading package punkt to /Users/nada/nltk_data...\n",
      "[nltk_data]   Package punkt is already up-to-date!\n"
     ]
    },
    {
     "data": {
      "text/plain": [
       "True"
      ]
     },
     "execution_count": 32,
     "metadata": {},
     "output_type": "execute_result"
    }
   ],
   "source": [
    "import nltk\n",
    "nltk.download('vader_lexicon')\n",
    "nltk.download('punkt')"
   ]
  },
  {
   "cell_type": "code",
   "execution_count": 33,
   "id": "3f26aa08",
   "metadata": {},
   "outputs": [],
   "source": [
    "from nltk.sentiment.vader import SentimentIntensityAnalyzer\n",
    "sid = SentimentIntensityAnalyzer()\n",
    "\n",
    "# the variable 'message_text' now contains the text we will analyze.\n",
    "message_text = '''Colonel Lionel Blunt has seen much service in India and around Cape\n",
    "Colony. He gained an enviable reputation for deeds of valor, and is\n",
    "disposed to look upon our friend from Chicago as an amiable boy, though\n",
    "after seeing how they rush things out in that Western metropolis he may\n",
    "have occasional qualms of fear lest this young doctor finally reach the\n",
    "goal for which both are aiming. That goal, any one can see, is the\n",
    "favor of the bright English girl whom fate has thrown in their way.\n",
    "Perhaps it is not all fate, since Colonel Lionel has recently crossed\n",
    "the States coming from India, and seems to pursue Lady Ruth with\n",
    "singular pertinacity.'''"
   ]
  },
  {
   "cell_type": "code",
   "execution_count": 34,
   "id": "01e26ae2",
   "metadata": {},
   "outputs": [
    {
     "name": "stdout",
     "output_type": "stream",
     "text": [
      "Colonel Lionel Blunt has seen much service in India and around Cape\n",
      "Colony. He gained an enviable reputation for deeds of valor, and is\n",
      "disposed to look upon our friend from Chicago as an amiable boy, though\n",
      "after seeing how they rush things out in that Western metropolis he may\n",
      "have occasional qualms of fear lest this young doctor finally reach the\n",
      "goal for which both are aiming. That goal, any one can see, is the\n",
      "favor of the bright English girl whom fate has thrown in their way.\n",
      "Perhaps it is not all fate, since Colonel Lionel has recently crossed\n",
      "the States coming from India, and seems to pursue Lady Ruth with\n",
      "singular pertinacity.\n",
      "compound: 0.8074, neg: 0.026, neu: 0.874, pos: 0.1, "
     ]
    }
   ],
   "source": [
    "print(message_text)\n",
    "\n",
    "# Calling the polarity_scores method on sid and passing in the message_text outputs a dictionary with negative, neutral, positive, and compound scores for the input text\n",
    "scores = sid.polarity_scores(message_text)\n",
    "for key in sorted(scores):\n",
    "        print('{0}: {1}, '.format(key, scores[key]), end='')"
   ]
  },
  {
   "cell_type": "code",
   "execution_count": 35,
   "id": "0c6caac7",
   "metadata": {
    "scrolled": true
   },
   "outputs": [
    {
     "name": "stdout",
     "output_type": "stream",
     "text": [
      "Living in a remote part of India under very careless guardianship, and\n",
      "with no one to care for their pursuits, or remark them, they had made\n",
      "the acquaintance of a learned and somewhat mysterious native, and from\n",
      "his lips they first heard some hints of the wonders that nature reveals\n",
      "to the earnest student.\n",
      "compound: 0.3626, neg: 0.084, neu: 0.807, pos: 0.109, \n",
      "As time went on they were separated--the boy\n",
      "was sent to England, the girl remained in the East.\n",
      "compound: 0.0, neg: 0.0, neu: 1.0, pos: 0.0, \n",
      "When they met again\n",
      "he was a young lieutenant in an infantry regiment stationed at one of\n",
      "the most popular stations of a popular Presidency, and she was the\n",
      "reigning queen of the same station.\n",
      "compound: 0.734, neg: 0.0, neu: 0.834, pos: 0.166, \n",
      "Again fate parted them.\n",
      "compound: 0.0, neg: 0.0, neu: 1.0, pos: 0.0, \n",
      "Two years\n",
      "went by.\n",
      "compound: 0.0, neg: 0.0, neu: 1.0, pos: 0.0, \n",
      "Their next meeting was in Egypt, where she was travelling with\n",
      "her guardian.\n",
      "compound: 0.0, neg: 0.0, neu: 1.0, pos: 0.0, \n"
     ]
    }
   ],
   "source": [
    "import nltk.data\n",
    "from nltk.sentiment.vader import SentimentIntensityAnalyzer\n",
    "from nltk import sentiment\n",
    "from nltk import word_tokenize\n",
    "\n",
    "# Next, we initialize VADER so we can use it within our Python script\n",
    "sid = SentimentIntensityAnalyzer()\n",
    "\n",
    "# We will also initialize our 'english.pickle' function and give it a short name\n",
    "\n",
    "tokenizer = nltk.data.load('tokenizers/punkt/english.pickle')\n",
    "message_text = '''Living in a remote part of India under very careless guardianship, and\n",
    "with no one to care for their pursuits, or remark them, they had made\n",
    "the acquaintance of a learned and somewhat mysterious native, and from\n",
    "his lips they first heard some hints of the wonders that nature reveals\n",
    "to the earnest student.  As time went on they were separated--the boy\n",
    "was sent to England, the girl remained in the East.  When they met again\n",
    "he was a young lieutenant in an infantry regiment stationed at one of\n",
    "the most popular stations of a popular Presidency, and she was the\n",
    "reigning queen of the same station.  Again fate parted them.  Two years\n",
    "went by.  Their next meeting was in Egypt, where she was travelling with\n",
    "her guardian.'''\n",
    "# The tokenize method breaks up the paragraph into a list of strings. In this example, note that the tokenizer is confused by the absence of spaces after periods and actually fails to break up sentences in two instances. How might you fix that?\n",
    "\n",
    "sentences = tokenizer.tokenize(message_text)\n",
    "\n",
    "# We add the additional step of iterating through the list of sentences and calculating and printing polarity scores for each one.\n",
    "\n",
    "for sentence in sentences:\n",
    "        print(sentence)\n",
    "        scores = sid.polarity_scores(sentence)\n",
    "        for key in sorted(scores):\n",
    "                print('{0}: {1}, '.format(key, scores[key]), end='')\n",
    "        print()"
   ]
  },
  {
   "cell_type": "code",
   "execution_count": 1,
   "id": "4ed4b34d",
   "metadata": {},
   "outputs": [],
   "source": [
    "import markovify\n",
    "import random"
   ]
  },
  {
   "cell_type": "code",
   "execution_count": 4,
   "id": "8961c58f",
   "metadata": {},
   "outputs": [],
   "source": [
    "with open(\"texts/Miss Caprice.txt\",encoding='utf-8') as f:\n",
    "    text = f.read()"
   ]
  },
  {
   "cell_type": "code",
   "execution_count": 5,
   "id": "0f21a146",
   "metadata": {},
   "outputs": [],
   "source": [
    "text_model = markovify.Text(text)"
   ]
  },
  {
   "cell_type": "code",
   "execution_count": 6,
   "id": "c2f75397",
   "metadata": {},
   "outputs": [
    {
     "name": "stdout",
     "output_type": "stream",
     "text": [
      "They have long since learned to trust the rest of the cavalcade.\n"
     ]
    }
   ],
   "source": [
    "print( text_model.make_sentence() )"
   ]
  },
  {
   "cell_type": "code",
   "execution_count": 8,
   "id": "6d12ffd0",
   "metadata": {},
   "outputs": [
    {
     "name": "stdout",
     "output_type": "stream",
     "text": [
      ".DS_Store\n",
      "In the Wonderful Land of Hez.txt\n",
      "Miss Caprice.txt\n",
      "Nancy MacIntyre: A Tale of the Prairies.txt\n",
      "Frank Merriwell on the Boulevards; Or, Astonishing the Europeans.txt\n",
      "The Mystery of a Turkish Bath.txt\n",
      "Trust; Or, Never Say Die.txt\n",
      "Told in the Coffee House: Turkish Tales.txt\n",
      "Eugene Oneguine .txt\n",
      "Lost Lenore: The Adventures of a Rolling Stone.txt\n",
      "Turkish fairy tales and folk tales.txt\n"
     ]
    }
   ],
   "source": [
    "import os\n",
    "path = 'texts/'\n",
    "with os.scandir(path) as entries:\n",
    "    for entry in entries:\n",
    "        print(entry.name)\n",
    "        f = open(f'texts/Miss Caprice.txt',encoding='utf-8')\n",
    "        text += f.read()"
   ]
  },
  {
   "cell_type": "code",
   "execution_count": 9,
   "id": "ec421955",
   "metadata": {},
   "outputs": [
    {
     "name": "stdout",
     "output_type": "stream",
     "text": [
      "He can even see the World's Fair, and remain.\n"
     ]
    }
   ],
   "source": [
    "text_model = markovify.Text(text)\n",
    "print( text_model.make_sentence() )"
   ]
  },
  {
   "cell_type": "code",
   "execution_count": 10,
   "id": "d5e3ab26",
   "metadata": {},
   "outputs": [
    {
     "name": "stdout",
     "output_type": "stream",
     "text": [
      "This encounter makes John think of a Frank through Al Jezira at night. Then he swallows a sob, and braces himself for the Arab, whom he last saw close by the presence of Pauline Potter--that she had hoped to get some sleep, if such a huge advance over his anger to abate a particle. So she tells him in a hurry, but generally good-natured withal. Such scenes as these the passage-way would be found in: https://www.gutenberg.org/1/5/9/7/15979/ Produced by Marilynda Fraser-Cunliffe, Mary Meehan, and the appearance of the house on the part of a mother--his own--he refused to risk his life to save a child, and that having retired she is secretly fuming, as he shouts at his suggestion brought a lantern along, but of course this will excite the curiosity of the clerk, he finds the mother who has possibly been lassoed by some one clutches his arm, bared almost to the wounded. Hence Valetta is not all become reconciled to British rule, and although his knowledge of the American, and smiles sweetly. We do not charge anything for copies of or providing access to electronic works provided that - You pay a good hater, especially if the French soldiers are unable to prevail against his foes. A hail that stirs the blood in their minds now, revenge for what has passed escapes his ear. \n",
      "\n",
      "1.E.4. Do not charge anything for himself; that spirit so moves him, he can about the sudden rage of the brute toward the east, where, just peeping above the singular city of Malta appears perplexed. Again from the use of anyone anywhere at no cost and with the intention of finding some other order in bonds that are to do, or on account of any going ashore. In his eyes fall upon his face. With the hope of making such a summons, and can be sent out into the wild scene with a wall of coldness. What he has taken it while he fails to hear. Pauline is a chance to gaze upon such a distinguished-looking gentleman. Then comes the notes of a stranger first would be totally dark, even on the scene of the battle is with the terms of this electronic work, without prominently displaying the sentence set forth in the dark, there is a peculiar accident causing the steamer on which they were formerly known, covering the same; the latter looks at her and laughs. When they reach the scene. \n",
      "\n",
      "Already has John managed to reload his revolver, and this makes him decidedly uneasy. Then, again, he thinks of just at the piles of slain that incumber the cavern, follows her friends. A fall means instant death, and it looks like a deer through the streets of Algiers. Why, he has some knowledge of the steamer, for her cruel words. \n",
      "\n",
      "John has expected, the dog, others to gaze upon it will not pay to stop the wicked beast before he can afford to give good reasons for them, since they rest only upon the taking of human life. Omnibuses are seen, and they sound vindictive in their veins--it is a rustling of paper, and the weariness of the rope to his room he has made her brazen, this midnight beauty with the other. He raises his hand as compromise himself. Again and again the guards are all interested in the Arab desert outlaws. Of course their thoughts are wholly bent on escape, and presently reach the central square known as the Piazza St. Giorgio. The Sister has not yet lost confidence in the street. I'll see what he needs, and John Craig hastens his footsteps, and there is nothing to say. \n",
      "\n",
      "\n"
     ]
    }
   ],
   "source": [
    "novel = ''\n",
    "while (len( novel.split(\" \")) < 500):\n",
    "  for i in range(random.randrange(3,9)):\n",
    "    novel += text_model.make_sentence() + \" \"\n",
    "  novel += \"\\n\\n\"\n",
    "    # print(text_model.make_sentence()\n",
    "\n",
    "print(novel)"
   ]
  },
  {
   "cell_type": "code",
   "execution_count": null,
   "id": "509aaed0",
   "metadata": {},
   "outputs": [],
   "source": []
  }
 ],
 "metadata": {
  "kernelspec": {
   "display_name": "Python 3 (ipykernel)",
   "language": "python",
   "name": "python3"
  },
  "language_info": {
   "codemirror_mode": {
    "name": "ipython",
    "version": 3
   },
   "file_extension": ".py",
   "mimetype": "text/x-python",
   "name": "python",
   "nbconvert_exporter": "python",
   "pygments_lexer": "ipython3",
   "version": "3.8.3"
  }
 },
 "nbformat": 4,
 "nbformat_minor": 5
}
