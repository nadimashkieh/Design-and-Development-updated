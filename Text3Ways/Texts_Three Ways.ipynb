{
 "cells": [
  {
   "cell_type": "markdown",
   "id": "6488d486",
   "metadata": {},
   "source": [
    "# Text Three Ways\n",
    "### Import libraries\n",
    "### Collect ten text documents about India"
   ]
  },
  {
   "cell_type": "code",
   "execution_count": 2,
   "id": "67de4af4",
   "metadata": {},
   "outputs": [
    {
     "name": "stdout",
     "output_type": "stream",
     "text": [
      "10\n",
      "['india_texts/ modern_india.txt',\n",
      " 'india_texts/autobiography_of_lutfallah.txt',\n",
      " 'india_texts/forty_one_years_in_india.txt',\n",
      " 'india_texts/india_and_its_inhabitant.txt',\n",
      " 'india_texts/indian_nationalism.txt',\n",
      " 'india_texts/indian_revolt.txt',\n",
      " 'india_texts/my_trip_to_india.txt',\n",
      " 'india_texts/observations_on_india.txt',\n",
      " 'india_texts/our_little_hindu_cousin.txt',\n",
      " 'india_texts/rebellion_of_india.txt']\n"
     ]
    }
   ],
   "source": [
    "import pandas as pd\n",
    "import os\n",
    "import numpy as np\n",
    "import pprint\n",
    "\n",
    "documents = []\n",
    "path = 'india_texts/'\n",
    "pp = pprint.PrettyPrinter(width=41, compact=True)\n",
    "\n",
    "filenames=sorted([os.path.join(path, fn) for fn in os.listdir(path) if not fn.startswith('.')])\n",
    "\n",
    "pp.pprint(len(filenames)) # count files in corpus\n",
    "pp.pprint(filenames[:10]) # print names of 1st ten files in corpus"
   ]
  },
  {
   "cell_type": "markdown",
   "id": "94944ba0",
   "metadata": {},
   "source": [
    "### Build a topic model of the documents using sklearn"
   ]
  },
  {
   "cell_type": "code",
   "execution_count": 4,
   "id": "b2e5ff34",
   "metadata": {},
   "outputs": [],
   "source": [
    "import sklearn.feature_extraction.text as text\n",
    "\n",
    "vectorizer=text.CountVectorizer(input='filename', stop_words=\"english\", min_df=1)\n",
    "dtm=vectorizer.fit_transform(filenames).toarray() # defines document term matrix\n",
    "\n",
    "vocab=np.array(vectorizer.get_feature_names())"
   ]
  },
  {
   "cell_type": "markdown",
   "id": "4862122f",
   "metadata": {},
   "source": [
    "### Print the shape of document-term matrix and number of tokens"
   ]
  },
  {
   "cell_type": "code",
   "execution_count": 6,
   "id": "03c0e370",
   "metadata": {},
   "outputs": [
    {
     "name": "stdout",
     "output_type": "stream",
     "text": [
      "Shape of document-term matrix: (10, 30125). Number of tokens 294321\n"
     ]
    }
   ],
   "source": [
    "print(f'Shape of document-term matrix: {dtm.shape}. '\n",
    "      f'Number of tokens {dtm.sum()}')"
   ]
  },
  {
   "cell_type": "markdown",
   "id": "68ceef9a",
   "metadata": {},
   "source": [
    "### Decompose the texts"
   ]
  },
  {
   "cell_type": "code",
   "execution_count": 8,
   "id": "01fb9a4e",
   "metadata": {},
   "outputs": [],
   "source": [
    "import sklearn.decomposition as decomposition\n",
    "model = decomposition.LatentDirichletAllocation(\n",
    "    n_components=100, learning_method='online', random_state=1)"
   ]
  },
  {
   "cell_type": "markdown",
   "id": "36232699",
   "metadata": {},
   "source": [
    "### Transform the data matrix"
   ]
  },
  {
   "cell_type": "code",
   "execution_count": 9,
   "id": "a2202ec7",
   "metadata": {},
   "outputs": [],
   "source": [
    "document_topic_distributions = model.fit_transform(dtm)"
   ]
  },
  {
   "cell_type": "markdown",
   "id": "b9203043",
   "metadata": {},
   "source": [
    "### Build vocabulary for 100 topics"
   ]
  },
  {
   "cell_type": "code",
   "execution_count": 11,
   "id": "b20d8b23",
   "metadata": {},
   "outputs": [],
   "source": [
    "vocabulary = vectorizer.get_feature_names()\n",
    "# (# topics, # vocabulary)\n",
    "assert model.components_.shape == (100, len(vocabulary))\n",
    "# (# documents, # topics)\n",
    "assert document_topic_distributions.shape == (dtm.shape[0], 100)"
   ]
  },
  {
   "cell_type": "markdown",
   "id": "5d94b481",
   "metadata": {},
   "source": [
    "### Print data frame of the topics"
   ]
  },
  {
   "cell_type": "code",
   "execution_count": 12,
   "id": "f6091f44",
   "metadata": {},
   "outputs": [
    {
     "name": "stdout",
     "output_type": "stream",
     "text": [
      "                00        000      0001  00025764414      000z       001  \\\n",
      "Topic 0   0.252668   0.326016  0.193815     0.184454  0.240511  0.190912   \n",
      "Topic 1   0.194870   0.385581  0.201766     0.185510  0.209392  0.222468   \n",
      "Topic 2   0.193778   0.289095  0.175349     0.199127  0.202354  0.238306   \n",
      "Topic 3   0.220210   0.245785  0.229989     0.200167  0.237800  0.187043   \n",
      "Topic 4   0.231448   0.293606  0.218367     0.214358  0.214656  0.214233   \n",
      "...            ...        ...       ...          ...       ...       ...   \n",
      "Topic 95  0.216842   0.262371  0.246325     0.201665  0.194838  0.209352   \n",
      "Topic 96  0.213193   0.300625  0.242852     0.209623  0.213859  0.194051   \n",
      "Topic 97  0.210592   0.301532  0.187218     0.187375  0.201832  0.210097   \n",
      "Topic 98  0.194201   0.263194  0.209925     0.198157  0.254072  0.207574   \n",
      "Topic 99  2.360300  14.881024  0.232137     0.213009  0.254194  0.221892   \n",
      "\n",
      "               002  0039059952       005       00m  ...      ﬂown      ﬂows  \\\n",
      "Topic 0   0.234931    0.167144  0.230171  0.183527  ...  0.207550  0.193930   \n",
      "Topic 1   0.260349    0.211882  0.223715  0.196723  ...  0.195794  0.200975   \n",
      "Topic 2   0.186073    0.184000  0.206926  0.192200  ...  0.191032  0.205164   \n",
      "Topic 3   0.212945    0.169448  0.175268  0.205509  ...  0.247623  0.205202   \n",
      "Topic 4   0.188535    0.199257  0.227279  0.225793  ...  0.199252  0.188655   \n",
      "...            ...         ...       ...       ...  ...       ...       ...   \n",
      "Topic 95  0.221874    0.183999  0.194427  0.194365  ...  0.197849  0.210666   \n",
      "Topic 96  0.228495    0.192427  0.212204  0.176272  ...  0.195078  0.206364   \n",
      "Topic 97  0.223314    0.219075  0.209779  0.208400  ...  0.227064  0.206240   \n",
      "Topic 98  0.208896    0.224990  0.185183  0.208455  ...  0.192276  0.195329   \n",
      "Topic 99  0.202521    0.200515  0.229117  0.951721  ...  0.924554  2.430200   \n",
      "\n",
      "                ﬂt        ﬂu   ﬂuently      ﬂuid     ﬂukes       ﬂuv  \\\n",
      "Topic 0   0.200841  0.189022  0.178433  0.219509  0.226608  0.193167   \n",
      "Topic 1   0.237821  0.256161  0.246846  0.222988  0.235964  0.234079   \n",
      "Topic 2   0.231845  0.183526  0.205806  0.211635  0.240401  0.227022   \n",
      "Topic 3   0.183357  0.199199  0.207231  0.231301  0.245522  0.204559   \n",
      "Topic 4   0.225693  0.233835  0.197555  0.240790  0.184710  0.214156   \n",
      "...            ...       ...       ...       ...       ...       ...   \n",
      "Topic 95  0.196516  0.170486  0.221640  0.209150  0.194198  0.212643   \n",
      "Topic 96  0.217062  0.177593  0.186471  0.239377  0.211422  0.201851   \n",
      "Topic 97  0.226078  0.209280  0.185928  0.219454  0.251521  0.204181   \n",
      "Topic 98  0.211245  0.202966  0.209511  0.190267  0.221665  0.194409   \n",
      "Topic 99  0.891016  1.701367  0.998503  0.937083  0.877016  0.897722   \n",
      "\n",
      "                ﬂy     ﬂying  \n",
      "Topic 0   0.193780  0.220581  \n",
      "Topic 1   0.184971  0.185381  \n",
      "Topic 2   0.180991  0.209322  \n",
      "Topic 3   0.209400  0.197050  \n",
      "Topic 4   0.191785  0.196282  \n",
      "...            ...       ...  \n",
      "Topic 95  0.180644  0.255379  \n",
      "Topic 96  0.174955  0.234356  \n",
      "Topic 97  0.241377  0.218565  \n",
      "Topic 98  0.248103  0.203143  \n",
      "Topic 99  7.445275  9.669203  \n",
      "\n",
      "[100 rows x 30125 columns]\n"
     ]
    }
   ],
   "source": [
    "topic_names = [f'Topic {k}' for k in range(100)]\n",
    "topic_word_distributions = pd.DataFrame(\n",
    "    model.components_, columns=vocabulary, index=topic_names)\n",
    "print(topic_word_distributions)"
   ]
  },
  {
   "cell_type": "markdown",
   "id": "a3225e3e",
   "metadata": {},
   "source": [
    "### Print the most common vocabulary words of topic 8"
   ]
  },
  {
   "cell_type": "code",
   "execution_count": 13,
   "id": "34e3171b",
   "metadata": {},
   "outputs": [
    {
     "data": {
      "text/plain": [
       "india         0.670175\n",
       "great         0.541829\n",
       "having        0.539504\n",
       "time          0.526772\n",
       "man           0.503255\n",
       "country       0.477427\n",
       "men           0.471237\n",
       "general       0.465671\n",
       "day           0.463835\n",
       "place         0.461056\n",
       "government    0.451354\n",
       "little        0.450688\n",
       "years         0.446292\n",
       "native        0.438086\n",
       "good          0.434163\n",
       "said          0.429140\n",
       "sir           0.421204\n",
       "people        0.417507\n",
       "Name: Topic 8, dtype: float64"
      ]
     },
     "execution_count": 13,
     "metadata": {},
     "output_type": "execute_result"
    }
   ],
   "source": [
    "topic_word_distributions.loc['Topic 8'].sort_values(ascending=False).head(18)"
   ]
  },
  {
   "cell_type": "markdown",
   "id": "f70cee54",
   "metadata": {},
   "source": [
    "### Print document distribution by topic"
   ]
  },
  {
   "cell_type": "code",
   "execution_count": 14,
   "id": "790bb11e",
   "metadata": {},
   "outputs": [
    {
     "name": "stdout",
     "output_type": "stream",
     "text": [
      "        Topic 0       Topic 1       Topic 2       Topic 3       Topic 4  \\\n",
      "0  2.996883e-07  2.996883e-07  2.996883e-07  2.996883e-07  2.996883e-07   \n",
      "1  2.105086e-07  2.105086e-07  2.105086e-07  2.105086e-07  2.105086e-07   \n",
      "2  1.298853e-07  1.298853e-07  1.298853e-07  1.298853e-07  1.298853e-07   \n",
      "3  2.856000e-07  2.856000e-07  2.856000e-07  2.856000e-07  2.856000e-07   \n",
      "4  8.427440e-07  8.427440e-07  8.427440e-07  8.427440e-07  8.427440e-07   \n",
      "5  1.280246e-06  1.280246e-06  1.280246e-06  1.280246e-06  1.280246e-06   \n",
      "6  2.669443e-07  2.669443e-07  2.669443e-07  2.669443e-07  2.669443e-07   \n",
      "7  3.495159e-07  3.495159e-07  3.495159e-07  3.495159e-07  3.495159e-07   \n",
      "8  1.009387e-06  1.009387e-06  1.009387e-06  1.009387e-06  1.009387e-06   \n",
      "9  1.724733e-06  1.724733e-06  1.724733e-06  1.724733e-06  1.724733e-06   \n",
      "\n",
      "        Topic 5       Topic 6       Topic 7       Topic 8       Topic 9  ...  \\\n",
      "0  2.996883e-07  2.996883e-07  2.996883e-07  2.996883e-07  2.996883e-07  ...   \n",
      "1  2.105086e-07  2.105086e-07  2.105086e-07  2.105086e-07  2.105086e-07  ...   \n",
      "2  1.298853e-07  1.298853e-07  1.298853e-07  1.298853e-07  1.298853e-07  ...   \n",
      "3  2.856000e-07  2.856000e-07  2.856000e-07  2.856000e-07  2.856000e-07  ...   \n",
      "4  8.427440e-07  8.427440e-07  8.427440e-07  8.427440e-07  8.427440e-07  ...   \n",
      "5  1.280246e-06  1.280246e-06  1.280246e-06  1.280246e-06  1.280246e-06  ...   \n",
      "6  2.669443e-07  2.669443e-07  2.669443e-07  2.669443e-07  2.669443e-07  ...   \n",
      "7  3.495159e-07  3.495159e-07  3.495159e-07  3.495159e-07  3.495159e-07  ...   \n",
      "8  1.009387e-06  1.009387e-06  1.009387e-06  1.009387e-06  1.009387e-06  ...   \n",
      "9  1.724733e-06  1.724733e-06  1.724733e-06  1.724733e-06  1.724733e-06  ...   \n",
      "\n",
      "       Topic 90      Topic 91      Topic 92      Topic 93      Topic 94  \\\n",
      "0  2.996883e-07  2.996883e-07  2.996883e-07  2.996883e-07  2.996883e-07   \n",
      "1  2.105086e-07  2.105086e-07  2.105086e-07  2.105086e-07  2.105086e-07   \n",
      "2  1.298853e-07  1.298853e-07  1.298853e-07  1.298853e-07  1.298853e-07   \n",
      "3  2.856000e-07  2.856000e-07  2.856000e-07  2.856000e-07  2.856000e-07   \n",
      "4  8.427440e-07  8.427440e-07  8.427440e-07  8.427440e-07  8.427440e-07   \n",
      "5  1.280246e-06  1.280246e-06  1.280246e-06  1.280246e-06  1.280246e-06   \n",
      "6  2.669443e-07  2.669443e-07  2.669443e-07  2.669443e-07  2.669443e-07   \n",
      "7  3.495159e-07  3.495159e-07  3.495159e-07  3.495159e-07  3.495159e-07   \n",
      "8  1.009387e-06  1.009387e-06  1.009387e-06  1.009387e-06  1.009387e-06   \n",
      "9  1.724733e-06  1.724733e-06  1.724733e-06  1.724733e-06  1.724733e-06   \n",
      "\n",
      "       Topic 95      Topic 96      Topic 97      Topic 98      Topic 99  \n",
      "0  2.996883e-07  2.996883e-07  2.996883e-07  2.996883e-07  2.996883e-07  \n",
      "1  2.105086e-07  2.105086e-07  2.105086e-07  2.105086e-07  2.105086e-07  \n",
      "2  1.298853e-07  1.298853e-07  1.298853e-07  1.298853e-07  1.298853e-07  \n",
      "3  2.856000e-07  2.856000e-07  2.856000e-07  2.856000e-07  9.981013e-01  \n",
      "4  8.427440e-07  8.427440e-07  8.427440e-07  8.427440e-07  7.978077e-01  \n",
      "5  1.280246e-06  1.280246e-06  1.280246e-06  1.280246e-06  1.280246e-06  \n",
      "6  2.669443e-07  2.669443e-07  2.669443e-07  2.669443e-07  9.999736e-01  \n",
      "7  3.495159e-07  3.495159e-07  3.495159e-07  3.495159e-07  4.939454e-04  \n",
      "8  1.009387e-06  1.009387e-06  1.009387e-06  1.009387e-06  5.804350e-02  \n",
      "9  1.724733e-06  1.724733e-06  1.724733e-06  1.724733e-06  1.724733e-06  \n",
      "\n",
      "[10 rows x 100 columns]\n"
     ]
    }
   ],
   "source": [
    "document_topic_distributions = pd.DataFrame(\n",
    "    document_topic_distributions, columns=topic_names)\n",
    "print(document_topic_distributions)"
   ]
  },
  {
   "cell_type": "markdown",
   "id": "ae8d7a06",
   "metadata": {},
   "source": [
    "### Print the most common vocabulary of topic 2"
   ]
  },
  {
   "cell_type": "code",
   "execution_count": 15,
   "id": "7c8c8b43",
   "metadata": {},
   "outputs": [
    {
     "data": {
      "text/plain": [
       "india         0.876780\n",
       "time          0.502606\n",
       "men           0.468177\n",
       "man           0.449749\n",
       "great         0.409246\n",
       "british       0.385231\n",
       "government    0.378595\n",
       "enemy         0.374150\n",
       "country       0.367019\n",
       "indian        0.365252\n",
       "said          0.362239\n",
       "general       0.359359\n",
       "little        0.357621\n",
       "native        0.353936\n",
       "years         0.353520\n",
       "life          0.346933\n",
       "near          0.346478\n",
       "troops        0.345525\n",
       "Name: Topic 2, dtype: float64"
      ]
     },
     "execution_count": 15,
     "metadata": {},
     "output_type": "execute_result"
    }
   ],
   "source": [
    "words = topic_word_distributions.loc['Topic 2'].sort_values(ascending=False).head(18)\n",
    "words"
   ]
  },
  {
   "cell_type": "markdown",
   "id": "671b7960",
   "metadata": {},
   "source": [
    "### Generate a word cloud of topic 2"
   ]
  },
  {
   "cell_type": "code",
   "execution_count": 16,
   "id": "c3fff884",
   "metadata": {},
   "outputs": [
    {
     "name": "stdout",
     "output_type": "stream",
     "text": [
      "00             0.193778\n",
      "000            0.289095\n",
      "0001           0.175349\n",
      "00025764414    0.199127\n",
      "000z           0.202354\n",
      "001            0.238306\n",
      "002            0.186073\n",
      "0039059952     0.184000\n",
      "005            0.206926\n",
      "00m            0.192200\n",
      "01             0.241332\n",
      "010            0.202145\n",
      "011            0.203596\n",
      "013            0.190202\n",
      "014            0.219638\n",
      "017            0.196655\n",
      "019            0.182218\n",
      "01t            0.233900\n",
      "02             0.217441\n",
      "020914055      0.206414\n",
      "Name: Topic 2, dtype: float64\n"
     ]
    },
    {
     "data": {
      "image/png": "[encoded data removed]",
      "text/plain": [
       "<Figure size 432x288 with 1 Axes>"
      ]
     },
     "metadata": {
      "needs_background": "light"
     },
     "output_type": "display_data"
    }
   ],
   "source": [
    "from matplotlib import pyplot as plt\n",
    "from wordcloud import WordCloud, STOPWORDS\n",
    "import matplotlib.colors as mcolors\n",
    "\n",
    "print(topic_word_distributions.loc['Topic 2'].head(20))\n",
    "\n",
    "# Create and generate a word cloud image:\n",
    "wordcloud = WordCloud().generate_from_frequencies(words)\n",
    "\n",
    "# Display the generated image:\n",
    "plt.imshow(wordcloud, interpolation='bilinear')\n",
    "plt.axis(\"off\")\n",
    "plt.show()"
   ]
  },
  {
   "cell_type": "markdown",
   "id": "cbaf773a",
   "metadata": {},
   "source": [
    "### Download sentiment analysis package"
   ]
  },
  {
   "cell_type": "code",
   "execution_count": 17,
   "id": "139e9c39",
   "metadata": {},
   "outputs": [
    {
     "name": "stderr",
     "output_type": "stream",
     "text": [
      "[nltk_data] Downloading package vader_lexicon to\n",
      "[nltk_data]     /Users/nada/nltk_data...\n",
      "[nltk_data]   Package vader_lexicon is already up-to-date!\n",
      "[nltk_data] Downloading package punkt to /Users/nada/nltk_data...\n",
      "[nltk_data]   Package punkt is already up-to-date!\n"
     ]
    },
    {
     "data": {
      "text/plain": [
       "True"
      ]
     },
     "execution_count": 17,
     "metadata": {},
     "output_type": "execute_result"
    }
   ],
   "source": [
    "import nltk\n",
    "nltk.download('vader_lexicon')\n",
    "nltk.download('punkt')"
   ]
  },
  {
   "cell_type": "markdown",
   "id": "122b867f",
   "metadata": {},
   "source": [
    "### Get a segment fragment from the document \"Autobiography of Lutfallah\" for analysis"
   ]
  },
  {
   "cell_type": "code",
   "execution_count": 26,
   "id": "3f26aa08",
   "metadata": {},
   "outputs": [],
   "source": [
    "from nltk.sentiment.vader import SentimentIntensityAnalyzer\n",
    "sid = SentimentIntensityAnalyzer()\n",
    "\n",
    "# the variable 'message_text' now contains the text we will analyze.\n",
    "message_text = '''the sentiments of. eastern nations, know the intense\n",
    "anxiety which every man, whether Mohamedan or\n",
    "Hindu, feels to have a son to bear his. name, and\n",
    "transmit it (as the English poet says) \"to ages yet\n",
    "unborn.\" Such persons will be able to enter into\n",
    "the state of my father's feelings on finding himself,\n",
    "at an advanced period of life, a widower, and with\n",
    "the dreary prospect of descending into the grave\n",
    "the last male scion of his race. Had he consulted\n",
    "only his own inclinations, he would have been con-\n",
    "tent to suffer this fate, miserable as it was, rather\n",
    "than endeavour to forget in the society of a second\n",
    "wife the severe loss which he had sustained in the\n",
    "death of the former partner of his bosom. But, at\n",
    "the earnest solicitation of his friends, he was induced,\n",
    "at the end of a year of widowhood, to wed a girl\n",
    "of seventeen, exquisite in beauty, elegant in manners,\n",
    "perfect in virtue and goodness, and of a family fully\n",
    "equal to his own, both as regarded sacred and social\n",
    "advantages. Reader, she was my mother; and you\n",
    "will, therefore, I am sure, forgive me if I display\n",
    "more than ordinary warmth in paying this tribute\n",
    "to her departed worth.\n",
    "It was not till three years after he had contracted\n",
    "this alliance, that the tree of my father's hope became\n",
    "fruitful, and that I, the humble author of these\n",
    "memoirs, made my appearance on the stage of exist-\n",
    "ence, to gladden the hearts of my fond parents and\n",
    "of all those who felt an interest in their happiness.'''"
   ]
  },
  {
   "cell_type": "markdown",
   "id": "91e6697b",
   "metadata": {},
   "source": [
    "### Get the polarity scores of the text in a dictionary"
   ]
  },
  {
   "cell_type": "code",
   "execution_count": 27,
   "id": "01e26ae2",
   "metadata": {},
   "outputs": [
    {
     "name": "stdout",
     "output_type": "stream",
     "text": [
      "the sentiments of. eastern nations, know the intense\n",
      "anxiety which every man, whether Mohamedan or\n",
      "Hindu, feels to have a son to bear his. name, and\n",
      "transmit it (as the English poet says) \"to ages yet\n",
      "unborn.\" Such persons will be able to enter into\n",
      "the state of my father's feelings on finding himself,\n",
      "at an advanced period of life, a widower, and with\n",
      "the dreary prospect of descending into the grave\n",
      "the last male scion of his race. Had he consulted\n",
      "only his own inclinations, he would have been con-\n",
      "tent to suffer this fate, miserable as it was, rather\n",
      "than endeavour to forget in the society of a second\n",
      "wife the severe loss which he had sustained in the\n",
      "death of the former partner of his bosom. But, at\n",
      "the earnest solicitation of his friends, he was induced,\n",
      "at the end of a year of widowhood, to wed a girl\n",
      "of seventeen, exquisite in beauty, elegant in manners,\n",
      "perfect in virtue and goodness, and of a family fully\n",
      "equal to his own, both as regarded sacred and social\n",
      "advantages. Reader, she was my mother; and you\n",
      "will, therefore, I am sure, forgive me if I display\n",
      "more than ordinary warmth in paying this tribute\n",
      "to her departed worth.\n",
      "It was not till three years after he had contracted\n",
      "this alliance, that the tree of my father's hope became\n",
      "fruitful, and that I, the humble author of these\n",
      "memoirs, made my appearance on the stage of exist-\n",
      "ence, to gladden the hearts of my fond parents and\n",
      "of all those who felt an interest in their happiness.\n",
      "compound: 0.9955, neg: 0.052, neu: 0.735, pos: 0.213, "
     ]
    }
   ],
   "source": [
    "print(message_text)\n",
    "\n",
    "# Calling the polarity_scores method on sid and passing in the message_text outputs a dictionary with negative, neutral, positive, and compound scores for the input text\n",
    "scores = sid.polarity_scores(message_text)\n",
    "for key in sorted(scores):\n",
    "        print('{0}: {1}, '.format(key, scores[key]), end='')"
   ]
  },
  {
   "cell_type": "markdown",
   "id": "ee4478c4",
   "metadata": {},
   "source": [
    "### Initialize Vader and Sentiment Intensity Analyzer\n",
    "### Use pickle fuction for English language\n",
    "### Tokenize into sentences, and get polarity scores for each"
   ]
  },
  {
   "cell_type": "code",
   "execution_count": 29,
   "id": "0c6caac7",
   "metadata": {
    "scrolled": true
   },
   "outputs": [
    {
     "name": "stdout",
     "output_type": "stream",
     "text": [
      "the sentiments of.\n",
      "compound: 0.0, neg: 0.0, neu: 1.0, pos: 0.0, \n",
      "eastern nations, know the intense\n",
      "anxiety which every man, whether Mohamedan or\n",
      "Hindu, feels to have a son to bear his.\n",
      "compound: -0.1027, neg: 0.081, neu: 0.857, pos: 0.062, \n",
      "name, and\n",
      "transmit it (as the English poet says) \"to ages yet\n",
      "unborn.\"\n",
      "compound: 0.0, neg: 0.0, neu: 1.0, pos: 0.0, \n",
      "Such persons will be able to enter into\n",
      "the state of my father's feelings on finding himself,\n",
      "at an advanced period of life, a widower, and with\n",
      "the dreary prospect of descending into the grave\n",
      "the last male scion of his race.\n",
      "compound: -0.2023, neg: 0.108, neu: 0.801, pos: 0.091, \n",
      "Had he consulted\n",
      "only his own inclinations, he would have been con-\n",
      "tent to suffer this fate, miserable as it was, rather\n",
      "than endeavour to forget in the society of a second\n",
      "wife the severe loss which he had sustained in the\n",
      "death of the former partner of his bosom.\n",
      "compound: -0.9468, neg: 0.288, neu: 0.712, pos: 0.0, \n",
      "But, at\n",
      "the earnest solicitation of his friends, he was induced,\n",
      "at the end of a year of widowhood, to wed a girl\n",
      "of seventeen, exquisite in beauty, elegant in manners,\n",
      "perfect in virtue and goodness, and of a family fully\n",
      "equal to his own, both as regarded sacred and social\n",
      "advantages.\n",
      "compound: 0.989, neg: 0.0, neu: 0.547, pos: 0.453, \n",
      "Reader, she was my mother; and you\n",
      "will, therefore, I am sure, forgive me if I display\n",
      "more than ordinary warmth in paying this tribute\n",
      "to her departed worth.\n",
      "compound: 0.8207, neg: 0.0, neu: 0.706, pos: 0.294, \n",
      "It was not till three years after he had contracted\n",
      "this alliance, that the tree of my father's hope became\n",
      "fruitful, and that I, the humble author of these\n",
      "memoirs, made my appearance on the stage of exist-\n",
      "ence, to gladden the hearts of my fond parents and\n",
      "of all those who felt an interest in their happiness.\n",
      "compound: 0.9081, neg: 0.0, neu: 0.813, pos: 0.187, \n"
     ]
    }
   ],
   "source": [
    "import nltk.data\n",
    "from nltk.sentiment.vader import SentimentIntensityAnalyzer\n",
    "from nltk import sentiment\n",
    "from nltk import word_tokenize\n",
    "\n",
    "# Next, we initialize VADER so we can use it within our Python script\n",
    "sid = SentimentIntensityAnalyzer()\n",
    "\n",
    "# We will also initialize our 'english.pickle' function and give it a short name\n",
    "\n",
    "tokenizer = nltk.data.load('tokenizers/punkt/english.pickle')\n",
    "message_text = '''the sentiments of. eastern nations, know the intense\n",
    "anxiety which every man, whether Mohamedan or\n",
    "Hindu, feels to have a son to bear his. name, and\n",
    "transmit it (as the English poet says) \"to ages yet\n",
    "unborn.\" Such persons will be able to enter into\n",
    "the state of my father's feelings on finding himself,\n",
    "at an advanced period of life, a widower, and with\n",
    "the dreary prospect of descending into the grave\n",
    "the last male scion of his race. Had he consulted\n",
    "only his own inclinations, he would have been con-\n",
    "tent to suffer this fate, miserable as it was, rather\n",
    "than endeavour to forget in the society of a second\n",
    "wife the severe loss which he had sustained in the\n",
    "death of the former partner of his bosom. But, at\n",
    "the earnest solicitation of his friends, he was induced,\n",
    "at the end of a year of widowhood, to wed a girl\n",
    "of seventeen, exquisite in beauty, elegant in manners,\n",
    "perfect in virtue and goodness, and of a family fully\n",
    "equal to his own, both as regarded sacred and social\n",
    "advantages. Reader, she was my mother; and you\n",
    "will, therefore, I am sure, forgive me if I display\n",
    "more than ordinary warmth in paying this tribute\n",
    "to her departed worth.\n",
    "It was not till three years after he had contracted\n",
    "this alliance, that the tree of my father's hope became\n",
    "fruitful, and that I, the humble author of these\n",
    "memoirs, made my appearance on the stage of exist-\n",
    "ence, to gladden the hearts of my fond parents and\n",
    "of all those who felt an interest in their happiness.'''\n",
    "# The tokenize method breaks up the paragraph into a list of strings. In this example, note that the tokenizer is confused by the absence of spaces after periods and actually fails to break up sentences in two instances. How might you fix that?\n",
    "\n",
    "sentences = tokenizer.tokenize(message_text)\n",
    "\n",
    "# We add the additional step of iterating through the list of sentences and calculating and printing polarity scores for each one.\n",
    "\n",
    "for sentence in sentences:\n",
    "        print(sentence)\n",
    "        scores = sid.polarity_scores(sentence)\n",
    "        for key in sorted(scores):\n",
    "                print('{0}: {1}, '.format(key, scores[key]), end='')\n",
    "        print()"
   ]
  },
  {
   "cell_type": "markdown",
   "id": "49c363a7",
   "metadata": {},
   "source": [
    "### Import libraries for generating text"
   ]
  },
  {
   "cell_type": "code",
   "execution_count": 30,
   "id": "4ed4b34d",
   "metadata": {},
   "outputs": [],
   "source": [
    "import markovify\n",
    "import random"
   ]
  },
  {
   "cell_type": "markdown",
   "id": "19292f00",
   "metadata": {},
   "source": [
    "### Read the text file \" Autobiography of Lutfallah\""
   ]
  },
  {
   "cell_type": "code",
   "execution_count": 31,
   "id": "8961c58f",
   "metadata": {},
   "outputs": [],
   "source": [
    "with open(\"india_texts/autobiography_of_lutfallah.txt\",encoding='utf-8') as f:\n",
    "    text = f.read()"
   ]
  },
  {
   "cell_type": "markdown",
   "id": "15a479ce",
   "metadata": {},
   "source": [
    "### Generate a sentence using one of the documents"
   ]
  },
  {
   "cell_type": "code",
   "execution_count": 32,
   "id": "0f21a146",
   "metadata": {},
   "outputs": [],
   "source": [
    "text_model = markovify.Text(text)"
   ]
  },
  {
   "cell_type": "code",
   "execution_count": 33,
   "id": "c2f75397",
   "metadata": {},
   "outputs": [
    {
     "name": "stdout",
     "output_type": "stream",
     "text": [
      "It happened that this small boat.\n"
     ]
    }
   ],
   "source": [
    "print( text_model.make_sentence() )"
   ]
  },
  {
   "cell_type": "markdown",
   "id": "df1037f5",
   "metadata": {},
   "source": [
    "### Use OS to get the text files names"
   ]
  },
  {
   "cell_type": "code",
   "execution_count": 55,
   "id": "6d12ffd0",
   "metadata": {},
   "outputs": [
    {
     "name": "stdout",
     "output_type": "stream",
     "text": [
      "rebellion_of_india.txt\n",
      "our_little_hindu_cousin.txt\n",
      "indian_nationalism.txt\n",
      "indian_revolt.txt\n",
      "observations_on_india.txt\n",
      "modern_india.txt\n",
      "autobiography_of_lutfallah.txt\n",
      "my_trip_to_india.txt\n",
      "india_and_its_inhabitant.txt\n",
      "forty_one_years_in_india.txt\n"
     ]
    }
   ],
   "source": [
    "import os\n",
    "path = 'india_texts/'\n",
    "\n",
    "with os.scandir(path) as entries:\n",
    "    for entry in entries:     \n",
    "        if not entry.name.startswith('.'):\n",
    "            print(entry.name)\n",
    "            f = open(f'india_texts/autobiography_of_lutfallah.txt',encoding ='utf-8' ) \n",
    "            text += f.read()"
   ]
  },
  {
   "cell_type": "markdown",
   "id": "f6d6633a",
   "metadata": {},
   "source": [
    "### Generate a sentence"
   ]
  },
  {
   "cell_type": "code",
   "execution_count": 56,
   "id": "ec421955",
   "metadata": {},
   "outputs": [
    {
     "name": "stdout",
     "output_type": "stream",
     "text": [
      "He asked me if I could not speak my language.\n"
     ]
    }
   ],
   "source": [
    "text_model = markovify.Text(text)\n",
    "print( text_model.make_sentence() )"
   ]
  },
  {
   "cell_type": "markdown",
   "id": "cdb06954",
   "metadata": {},
   "source": [
    "### Generate a longer text fragment using all of the documents"
   ]
  },
  {
   "cell_type": "code",
   "execution_count": 57,
   "id": "d5e3ab26",
   "metadata": {},
   "outputs": [
    {
     "name": "stdout",
     "output_type": "stream",
     "text": [
      "The rooms were then locked and sealed up again, and led their prayers to the mosque. So again I gave him some days before. 125 the two ladies. The pile now being ready, the corpse washed by that element. The inhabitants are wealthy. I asked one of the death of the lookers on. 409 my chief of Amran, attended with success, there were lying on my master, and that all his state, wealth, and talent, perhaps of French origin, but well qualified in the English secretary, Mr. ~T. J. A. Scott, and of obtaining L 2 ## p. \n",
      "\n",
      "From this we started at about eight o'clock in the camp, to my monotonous life at the public domain, meaning that it was ceded by them to be under the tree of my fond parents and of the Court. The beginning of 1817. We gladly received this order, and commenced folding up our books, etc. In the afternoon at his elbow, and my box, though mentally I consigned him to be coaled, we stopped one day. It is under the tree, whence we had a few days; and then condescended to say to them, without undergoing the bi-weekly operation of depilation. Matters went on board the Rahmati, without taking any business: a sneeze in his life, beholding his own children; or, if it can serve the English alphabet, and enabled myself to undertake the task of studying at any of the gentry, headed by his brother, and that secretly, not to come to pay an ## p. On the 29th, again the gigantic engine of our new friends in the journey. The plaintiff, shocked at this season to rise; its waters, though always muddy, are very narrow in some book that when our first long nightly march we crossed to Bombay on sick leave. \n",
      "\n",
      "251 rupees worth of jewels, a part of the country being settled, there is scarce a Sipahi in our welfare and prosperity. 169 from my presents, and purchased a Turkish dress at Cairc^ and thereby relieve my exhausted limbs. On the 16th I accompanied Captain Eastwick being informed that a sense of excessive pleasure at my leisure hours, promising to reward me very respectfully, asked me to determine on another revenge, which I owed my life. Having wind and stream in our vessels froze during the latter part of the river's cutting the very foot of a very few days more, having reached home, I tendered my resig- nation from the performer, and went away to the East India House; and were kindly accepted by His Highness, whom I had some money in support of the birth of this place of our destination. \n",
      "\n",
      "In the night before, in which Misri Khan himself received two wounds on his way, and the minarets of mosques, rising above groves of ## p. He was said to be as well as of all kinds. This was the place, makes fire by his Minister, Raghunath Rao Bapu; and, staying a little distance equal to his Creator, by the forest trees as far as the old man, representing their father, appeared on the part of the sons of the town, in company with my liberality in the afternoon, I entered into conversation with us demonstrated his high acquirements at once. Early on the part of the least idea that these were of course defeated and driven to a tank in the city. On our arrival there, all of them in every sense of hearing was gratified with excellent music and dances. I arrived at Pardhari, eleven miles distant, about nine o'clock A.M., whilst they sat by the mirage into ## p. My uncle recovered from my mouth, nose, and black pebbles, repre- sented Persian carpets, spread in straight lines every- where. \n",
      "\n",
      "\n"
     ]
    }
   ],
   "source": [
    "novel = ''\n",
    "while (len( novel.split(\" \")) < 500):\n",
    "  for i in range(random.randrange(3,9)):\n",
    "    novel += text_model.make_sentence() + \" \"\n",
    "  novel += \"\\n\\n\"\n",
    "    # print(text_model.make_sentence()\n",
    "\n",
    "print(novel)"
   ]
  }
 ],
 "metadata": {
  "kernelspec": {
   "display_name": "Python 3 (ipykernel)",
   "language": "python",
   "name": "python3"
  },
  "language_info": {
   "codemirror_mode": {
    "name": "ipython",
    "version": 3
   },
   "file_extension": ".py",
   "mimetype": "text/x-python",
   "name": "python",
   "nbconvert_exporter": "python",
   "pygments_lexer": "ipython3",
   "version": "3.8.3"
  }
 },
 "nbformat": 4,
 "nbformat_minor": 5
}
