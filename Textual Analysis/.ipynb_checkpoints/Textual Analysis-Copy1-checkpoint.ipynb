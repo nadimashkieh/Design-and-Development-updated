{
 "cells": [
  {
   "cell_type": "code",
   "execution_count": 88,
   "metadata": {},
   "outputs": [
    {
     "data": {
      "image/png": "[encoded data removed]",
      "text/plain": [
       "<Figure size 432x288 with 1 Axes>"
      ]
     },
     "metadata": {
      "needs_background": "light"
     },
     "output_type": "display_data"
    }
   ],
   "source": [
    "from collections import Counter\n",
    "import pandas as pd\n",
    "import PyPDF2 as PDF\n",
    "import re\n",
    "import numpy as np\n",
    "\n",
    "\n",
    "# creating an object \n",
    "file = open('/Users/nada/git/Design-and-Development/week7/A House of Many Mansions, The History of Lebanon Reconsidered by Salibi, Kamal S (z-lib.org).pdf', 'rb')\n",
    "\n",
    "# creating a pdf reader object\n",
    "pdf = PDF.PdfFileReader(file)\n",
    "concatenate = True\n",
    "# print the number of pages in pdf file\n",
    "\n",
    "texts = ''\n",
    " \n",
    "book1 = []\n",
    "book2 = []\n",
    "book3 = []\n",
    "#if page_numbers is None:  \n",
    "#    page_numbers = range(pdf.getNumPages()) \n",
    "#elif isinstance(page_numbers, int): \n",
    "\n",
    "#page_numbers = [page_numbers] \n",
    " \n",
    "for n in range(pdf.getNumPages()):\n",
    "    book1 += re.findall(r'\\w', pdf.getPage(n).extractText().lower())\n",
    "    \n",
    "  #  texts += pdf.getPage(n).extractText()\n",
    "\n",
    "book1_words = Counter(book1).most_common(40)\n",
    "\n",
    "word_list = ['lebanon']\n",
    "\n",
    "with open(\"/Users/nada/Downloads/Lebanon A House Divided by Sandra Mackey (z-lib.org).epub.txt\") as f1:\n",
    "    book2.append(Counter(f1.read().lower().split()))\n",
    "book2_words = Counter(book2[0]).most_common(40)\n",
    "\n",
    "book1_counts = 0\n",
    "for i in book1_words:\n",
    "    if( i[0].find( word_list[0] ) == 0) :\n",
    "        book1_counts = i[1]\n",
    "        break\n",
    "        \n",
    "book2_counts = 0        \n",
    "for i in book2_words:\n",
    "    if( i[0].find( word_list[0] ) == 0) :\n",
    "        book2_counts = i[1]\n",
    "        break\n",
    "\n",
    "\n",
    "#print(Counter(book2[0]).most_common(40))   \n",
    "\n",
    "import matplotlib.pyplot as plt\n",
    "titles = [\"Book1\", \"Book2\", \"Book3\"]\n",
    "x = np.arange(len(titles))\n",
    "width = 0.3\n",
    "\n",
    "fig, ax = plt.subplots()\n",
    "rects1 = ax.bar(x - width/2, book1_counts, width, label='Book1')\n",
    "rects2 = ax.bar(x + width/2, book2_counts, width, label='Book2')\n",
    "\n",
    "ax.set_ylabel('Word Count')\n",
    "ax.set_title('Gender Binary Word Frequency')\n",
    "ax.set_xticks(x)\n",
    "ax.set_xticklabels(titles)\n",
    "ax.legend()\n",
    "\n",
    "fig.tight_layout()\n",
    "\n",
    "plt.show()\n",
    "\n"
   ]
  },
  {
   "cell_type": "code",
   "execution_count": 15,
   "metadata": {},
   "outputs": [],
   "source": [
    "import PyPDF2 as PDF\n",
    "import numpy as np\n",
    "import re\n",
    "from collections import Counter\n",
    "import matplotlib.pyplot as plt"
   ]
  },
  {
   "cell_type": "code",
   "execution_count": 35,
   "metadata": {},
   "outputs": [
    {
     "name": "stdout",
     "output_type": "stream",
     "text": [
      "[[901, 632, 573], [236, 328, 128], [39, 3, 61], [218, 248, 61], [183, 150, 38]]\n"
     ]
    },
    {
     "data": {
      "image/png": "[encoded data removed]",
      "text/plain": [
       "<Figure size 432x288 with 1 Axes>"
      ]
     },
     "metadata": {
      "needs_background": "light"
     },
     "output_type": "display_data"
    }
   ],
   "source": [
    "books = [\n",
    "        'books/A History of Modern Lebanon by Fawwaz Traboulsi (z-lib.org).pdf',\n",
    "        'books/A House of Many Mansions, The History of Lebanon Reconsidered by Salibi, Kamal S (z-lib.org).pdf',\n",
    "        'books/Lebanon The Fractured Country by David Gilmour (z-lib.org).pdf'\n",
    "        ]\n",
    "\n",
    "vocabulary = [\"lebanon\", \"syria\", \"sunni\", \"christian\", \"druze\"]\n",
    "\n",
    "def get_dict( book_title ):\n",
    "    with open( book_title, 'rb' ) as f1:\n",
    "        pdf = PDF.PdfFileReader(f1)\n",
    "   \n",
    "        book_words = []\n",
    "        for n in range(pdf.getNumPages()):\n",
    "            book_words += re.findall(r'\\w+', pdf.getPage(n).extractText().lower())\n",
    "\n",
    "        return( dict( Counter( book_words ) ) )\n",
    "\n",
    "book_dicts = []\n",
    "for book in books:\n",
    "    book_dicts.append( get_dict( book ) )\n",
    "    \n",
    "matrix = []\n",
    "for vocab in vocabulary:\n",
    "    book_list = []\n",
    "    for i in range(len(book_dicts)):\n",
    "        book_list.append( book_dicts[i][vocab])\n",
    "    matrix.append( book_list )\n",
    "    \n",
    "print( matrix )\n",
    "\n",
    "\n",
    "x = np.arange(3)\n",
    "width = 0.5\n",
    "\n",
    "fig, ax = plt.subplots()\n",
    "for i in range(0,4):\n",
    "    for j in range(0,2):\n",
    "        rectsx = ax.bar(x, matrix[i], width, label=vocabulary[j])\n",
    "\n",
    "ax.set_ylabel('Word Count')\n",
    "ax.set_title('Word Frequency')\n",
    "ax.set_xticks(x)\n",
    "ax.set_xticklabels(vocabulary)\n",
    "ax.legend()\n",
    "\n",
    "fig.tight_layout()\n",
    "\n",
    "plt.show()"
   ]
  },
  {
   "cell_type": "code",
   "execution_count": null,
   "metadata": {},
   "outputs": [],
   "source": []
  }
 ],
 "metadata": {
  "kernelspec": {
   "display_name": "Python 3",
   "language": "python",
   "name": "python3"
  },
  "language_info": {
   "codemirror_mode": {
    "name": "ipython",
    "version": 3
   },
   "file_extension": ".py",
   "mimetype": "text/x-python",
   "name": "python",
   "nbconvert_exporter": "python",
   "pygments_lexer": "ipython3",
   "version": "3.8.3"
  }
 },
 "nbformat": 4,
 "nbformat_minor": 4
}
