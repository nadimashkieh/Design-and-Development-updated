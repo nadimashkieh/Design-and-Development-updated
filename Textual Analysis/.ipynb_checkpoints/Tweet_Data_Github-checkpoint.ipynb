{
 "cells": [
  {
   "cell_type": "markdown",
   "id": "dd0d8ad2",
   "metadata": {},
   "source": [
    "## Use this code to source the data from twitter.\n",
    "## The code wil have to be run twice - adjust the dates for pre and post data"
   ]
  },
  {
   "cell_type": "code",
   "execution_count": null,
   "id": "487deb8b-0a13-4e70-868b-b77db07c06e8",
   "metadata": {
    "scrolled": false
   },
   "outputs": [],
   "source": [
    "from datetime import datetime, timedelta\n",
    "import pandas as pd\n",
    "import pprint\n",
    "import re \n",
    "\n",
    "def date_range(start, end):\n",
    "    delta = end - start  # as timedelta\n",
    "    days = [start + timedelta(days=i) for i in range(delta.days + 1)]\n",
    "    return days\n",
    "\n",
    "# start_date = datetime(2021, 7, 1)\n",
    "# end_date = datetime(2021, 10, 24)\n",
    "\n",
    "start_date = datetime(2021, 12, 1)\n",
    "end_date = datetime(2022, 4, 24)\n",
    " \n",
    "my_dates = date_range(start_date, end_date)\n",
    "# for day in my_dates:\n",
    "#     print(day)\n",
    "\n",
    "    \n",
    "import tweepy\n",
    "import time\n",
    "\n",
    "client = tweepy.Client( bearer_token='your_bearer_token_here')\n",
    "# Replace with your own search query\n",
    "query = \"لقاحات OR تطعيم OR لقاح OR تطعيمات\"\n",
    "\n",
    "# tweets = client.search_all_tweets(query=query, \n",
    "#                                   tweet_fields=['author_id', 'geo', 'id', 'text', 'created_at'],\n",
    "#                                   start_time='2021-7-01T00:00:00Z',\n",
    "#                                   end_time='2021-7-31T00:00:00Z', max_results=500)\n",
    "\n",
    "bdf = pd.DataFrame()\n",
    "\n",
    "for day in my_dates:\n",
    "\n",
    "    start_time = day.strftime(\"%Y-%m-%dT%H:%M:%HZ\")\n",
    "    day = day + timedelta(seconds=86399)\n",
    "    end_time =   day.strftime(\"%Y-%m-%dT%H:%M:%HZ\")\n",
    "    print(start_time, end_time)\n",
    "    \n",
    "    tweets = client.search_all_tweets(query=query, \n",
    "                                      tweet_fields=['author_id', 'geo', 'id', 'text', 'created_at'],\n",
    "                                      start_time=start_time,\n",
    "                                      end_time=end_time, max_results=500)\n",
    "    df = pd.DataFrame(data=tweets.data)\n",
    "    print(start_time, end_time, len(df))\n",
    "    bdf = bdf.append(df, ignore_index = True)\n",
    "    time.sleep(2)\n",
    "\n",
    "bdf.to_csv('your_tweet_data_post_omicron.csv')\n",
    "print(len(bdf))\n",
    "    \n"
   ]
  }
 ],
 "metadata": {
  "kernelspec": {
   "display_name": "Python 3 (ipykernel)",
   "language": "python",
   "name": "python3"
  },
  "language_info": {
   "codemirror_mode": {
    "name": "ipython",
    "version": 3
   },
   "file_extension": ".py",
   "mimetype": "text/x-python",
   "name": "python",
   "nbconvert_exporter": "python",
   "pygments_lexer": "ipython3",
   "version": "3.8.3"
  }
 },
 "nbformat": 4,
 "nbformat_minor": 5
}
