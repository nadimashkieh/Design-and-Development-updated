{
 "cells": [
  {
   "cell_type": "code",
   "execution_count": 125,
   "id": "4554f7c3-a6f8-4fc6-a4be-dc426f232c26",
   "metadata": {},
   "outputs": [],
   "source": [
    "import pandas as pd\n",
    "\n",
    "Intensity = {\n",
    "    'S' : 'significant',\n",
    "    'R' : 'relational', \n",
    "    'W' : 'weak',\n",
    "    'I' : 'insignificant'\n",
    "}\n",
    "\n",
    "Polarity = {\n",
    "    'P' : 'positive',\n",
    "    'N' : 'negative',\n",
    "    'U' : 'neutral'\n",
    "}\n",
    "\n",
    "Mode = {\n",
    "    'T' : 'Transmission',\n",
    "    'C' : 'Cases',\n",
    "    'M' : 'Mortality'\n",
    "}\n",
    "\n",
    "authors = pd.read_csv(\"cov_env/authors.csv\")\n",
    "codes = pd.read_csv(\"cov_env/codes.csv\")"
   ]
  },
  {
   "cell_type": "code",
   "execution_count": 126,
   "id": "97ee0c00-d06b-4621-b927-4e82a5867204",
   "metadata": {},
   "outputs": [
    {
     "data": {
      "text/html": [
       "<div>\n",
       "<style scoped>\n",
       "    .dataframe tbody tr th:only-of-type {\n",
       "        vertical-align: middle;\n",
       "    }\n",
       "\n",
       "    .dataframe tbody tr th {\n",
       "        vertical-align: top;\n",
       "    }\n",
       "\n",
       "    .dataframe thead th {\n",
       "        text-align: right;\n",
       "    }\n",
       "</style>\n",
       "<table border=\"1\" class=\"dataframe\">\n",
       "  <thead>\n",
       "    <tr style=\"text-align: right;\">\n",
       "      <th></th>\n",
       "      <th>I</th>\n",
       "    </tr>\n",
       "  </thead>\n",
       "  <tbody>\n",
       "    <tr>\n",
       "      <th>0</th>\n",
       "      <td>IRC</td>\n",
       "    </tr>\n",
       "    <tr>\n",
       "      <th>1</th>\n",
       "      <td>IRM</td>\n",
       "    </tr>\n",
       "    <tr>\n",
       "      <th>2</th>\n",
       "      <td>IRT</td>\n",
       "    </tr>\n",
       "    <tr>\n",
       "      <th>3</th>\n",
       "      <td>NR</td>\n",
       "    </tr>\n",
       "    <tr>\n",
       "      <th>4</th>\n",
       "      <td>NRC</td>\n",
       "    </tr>\n",
       "    <tr>\n",
       "      <th>...</th>\n",
       "      <td>...</td>\n",
       "    </tr>\n",
       "    <tr>\n",
       "      <th>58</th>\n",
       "      <td>WR</td>\n",
       "    </tr>\n",
       "    <tr>\n",
       "      <th>59</th>\n",
       "      <td>WRC</td>\n",
       "    </tr>\n",
       "    <tr>\n",
       "      <th>60</th>\n",
       "      <td>WRI</td>\n",
       "    </tr>\n",
       "    <tr>\n",
       "      <th>61</th>\n",
       "      <td>WRT(SURFACE)</td>\n",
       "    </tr>\n",
       "    <tr>\n",
       "      <th>62</th>\n",
       "      <td>WRT|PRC</td>\n",
       "    </tr>\n",
       "  </tbody>\n",
       "</table>\n",
       "<p>63 rows × 1 columns</p>\n",
       "</div>"
      ],
      "text/plain": [
       "               I\n",
       "0            IRC\n",
       "1            IRM\n",
       "2            IRT\n",
       "3             NR\n",
       "4            NRC\n",
       "..           ...\n",
       "58            WR\n",
       "59           WRC\n",
       "60           WRI\n",
       "61  WRT(SURFACE)\n",
       "62       WRT|PRC\n",
       "\n",
       "[63 rows x 1 columns]"
      ]
     },
     "execution_count": 126,
     "metadata": {},
     "output_type": "execute_result"
    }
   ],
   "source": [
    "codes"
   ]
  },
  {
   "cell_type": "code",
   "execution_count": 127,
   "id": "d4a1bd5e-f709-4ccc-b654-14c8266dfd7b",
   "metadata": {},
   "outputs": [],
   "source": [
    "cov_env = pd.read_csv( \"cov_env/Covid_and_Environment.csv\" ).fillna(0)\n",
    "#list(cov_env.columns)"
   ]
  },
  {
   "cell_type": "code",
   "execution_count": 128,
   "id": "06c74e6a-fdcb-4da3-935f-2b14a486bc2c",
   "metadata": {},
   "outputs": [
    {
     "data": {
      "text/plain": [
       "0      IRC\n",
       "1      IRC\n",
       "2      IRC\n",
       "3      IRC\n",
       "4      NaN\n",
       "      ... \n",
       "168    IRC\n",
       "169    IRC\n",
       "170    IRC\n",
       "171    IRC\n",
       "172    IRC\n",
       "Name: Max Temperature, Length: 173, dtype: object"
      ]
     },
     "execution_count": 128,
     "metadata": {},
     "output_type": "execute_result"
    }
   ],
   "source": [
    "#cov_env.transpose()\n",
    "cov_env = cov_env[ 'Max Temperature' ].map(codes.I) \n",
    "\n",
    "cov_env"
   ]
  },
  {
   "cell_type": "code",
   "execution_count": 130,
   "id": "f853d321-3601-4cb1-96f2-aa4e618b56d3",
   "metadata": {},
   "outputs": [
    {
     "data": {
      "text/plain": [
       "0      IRC\n",
       "1      IRC\n",
       "2      IRC\n",
       "3      IRC\n",
       "4      NaN\n",
       "      ... \n",
       "168    IRC\n",
       "169    IRC\n",
       "170    IRC\n",
       "171    IRC\n",
       "172    IRC\n",
       "Name: Max Temperature, Length: 173, dtype: object"
      ]
     },
     "execution_count": 130,
     "metadata": {},
     "output_type": "execute_result"
    }
   ],
   "source": [
    "cov_env"
   ]
  },
  {
   "cell_type": "code",
   "execution_count": null,
   "id": "429c4369-72da-4f51-8aa1-e8173d3c1bbb",
   "metadata": {},
   "outputs": [],
   "source": []
  }
 ],
 "metadata": {
  "kernelspec": {
   "display_name": "Python 3 (ipykernel)",
   "language": "python",
   "name": "python3"
  },
  "language_info": {
   "codemirror_mode": {
    "name": "ipython",
    "version": 3
   },
   "file_extension": ".py",
   "mimetype": "text/x-python",
   "name": "python",
   "nbconvert_exporter": "python",
   "pygments_lexer": "ipython3",
   "version": "3.8.3"
  }
 },
 "nbformat": 4,
 "nbformat_minor": 5
}
