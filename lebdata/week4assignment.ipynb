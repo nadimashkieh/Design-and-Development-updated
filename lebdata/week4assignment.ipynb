{
 "cells": [
  {
   "cell_type": "code",
   "execution_count": 87,
   "metadata": {
    "scrolled": true
   },
   "outputs": [
    {
     "name": "stdout",
     "output_type": "stream",
     "text": [
      "IntroductionBackgroundFollowing World War I, France acquired a mandate over the northern portion of \n"
     ]
    }
   ],
   "source": [
    "# open the text file in read mode, assign it to text_in variable\n",
    "import re\n",
    "\n",
    "f = open('lebdata.txt', 'r')\n",
    "text_in = f.read()\n",
    "f.close()\n",
    "# remove the HTML brackets\n",
    "\n",
    "inside = 0\n",
    "text = ''\n",
    "\n",
    "for char in text_in:\n",
    "    if char == '<':\n",
    "        inside = 1\n",
    "    elif (inside == 1 and char == '>'):\n",
    "        inside = 0\n",
    "    elif inside== 1:\n",
    "        continue\n",
    "    else: \n",
    "        text += char\n",
    "        \n",
    "# remove backslash \n",
    "text = text.replace(\"\\\\n\",\"\")\n",
    "text = text.replace(\"\\\\r\",\"\")\n",
    "print(text[0: 100])\n",
    "\n",
    "# open the clean file, call it lebdata_clean and overwrite it\n",
    "f = open('lebdata_clean.txt','w')\n",
    "f.write(text)\n",
    "f.close()\n"
   ]
  },
  {
   "cell_type": "code",
   "execution_count": 89,
   "metadata": {},
   "outputs": [
    {
     "name": "stdout",
     "output_type": "stream",
     "text": [
      "['introductionbackgroundfollowing', 'world', 'war', 'i', 'france', 'acquired', 'a', 'mandate', 'over', 'the', 'northern', 'portion', 'of', 'the', 'former', 'ottoman', 'empire', 'province', 'of', 'syria', 'the', 'french', 'demarcated', 'the', 'region', 'of', 'lebanon', 'in', '1920', 'and', 'granted', 'this', 'area', 'independence', 'in', '1943', 'since', 'independence', 'the', 'country', 'has', 'been', 'marked', 'by', 'periods', 'of', 'political', 'turmoil', 'interspersed', 'with', 'prosperity', 'built', 'on', 'its', 'position', 'as', 'a', 'regional', 'center', 'for', 'finance', 'and', 'trade', 'the', 'country', 's', '1975', '90', 'civil', 'war', 'which', 'resulted', 'in', 'an', 'estimated', '120', '000', 'fatalities', 'was', 'followed', 'by', 'years', 'of', 'social', 'and', 'political', 'instability', 'sectarianism', 'is', 'a', 'key', 'element', 'of', 'lebanese', 'political', 'life', 'neighboring', 'syria', 'has', 'historically']\n"
     ]
    }
   ],
   "source": [
    "# define a function to process the text, import regular expression, remove unicode, and split into words.\n",
    "def preprocess_text(text):\n",
    "    import re\n",
    "    return re.compile(r'\\W+', re.UNICODE).split(text)\n",
    "\n",
    "# open lebdata in read mode, assign the content to a variable named text\n",
    "filename = 'lebdata_clean.txt';\n",
    "f = open(filename, 'r')\n",
    "text = f.read()\n",
    "f.close()\n",
    "# convert into lower case\n",
    "text = text.lower()\n",
    "# call the preprocess_text function and pass the parameter 'text' to it\n",
    "word_bag = preprocess_text(text)\n",
    "\n",
    "print(word_bag[0:100])"
   ]
  },
  {
   "cell_type": "code",
   "execution_count": 90,
   "metadata": {},
   "outputs": [
    {
     "name": "stdout",
     "output_type": "stream",
     "text": [
      "['introductionbackgroundfollowing', 'world', 'war', 'i', 'france', 'acquired', 'a', 'mandate', 'over', 'the', 'northern', 'portion', 'of', 'the', 'former', 'ottoman', 'empire', 'province', 'of', 'syria', 'the', 'french', 'demarcated', 'the', 'region', 'of', 'lebanon', 'in', 'and', 'granted', 'this', 'area', 'independence', 'in', 'since', 'independence', 'the', 'country', 'has', 'been', 'marked', 'by', 'periods', 'of', 'political', 'turmoil', 'interspersed', 'with', 'prosperity', 'built', 'on', 'its', 'position', 'as', 'a', 'regional', 'center', 'for', 'finance', 'and', 'trade', 'the', 'country', 's', 'civil', 'war', 'which', 'resulted', 'in', 'an', 'estimated', 'fatalities', 'was', 'followed', 'by', 'years', 'of', 'social', 'and', 'political', 'instability', 'sectarianism', 'is', 'a', 'key', 'element', 'of', 'lebanese', 'political', 'life', 'neighboring', 'syria', 'has', 'historically', 'influenced', 'lebanon', 's', 'foreign', 'policy', 'and', 'internal', 'policies', 'and', 'its', 'military', 'occupied', 'lebanon', 'from', 'until', 'the', 'lebanon', 'based', 'hizballah', 'militia', 'and', 'israel', 'continued', 'attacks', 'and', 'counterattacks', 'against', 'each', 'other', 'after', 'syria', 's', 'withdrawal', 'and', 'fought', 'a', 'brief', 'war', 'in', 'lebanon', 's', 'borders', 'with', 'syria', 'and', 'israel', 'remain', 'unresolved', 'tipvisit', 'the', 'definitions', 'and', 'notes', 'page', 'to', 'view', 'a', 'description', 'of', 'each', 'topic', 'definitions', 'and', 'notesarrow', 'right', 'icongeographylocationmiddle', 'east', 'bordering', 'the', 'mediterranean', 'sea', 'between', 'israel', 'and', 'syriageographic', 'coordinates33', 'n', 'emap', 'referencesmiddle', 'eastareatotal', 'sq', 'kmland', 'sq', 'kmwater', 'sq', 'kmcountry', 'comparison', 'to', 'the', 'world', 'comparativeabout', 'one', 'third', 'the', 'size', 'of', 'marylandabout', 'one', 'third', 'the', 'size', 'of', 'maryland', 'style', 'position', 'absolute', 'top', 'left', 'opacity', 'width', 'height', 'object', 'fit', 'cover', 'object', 'position', 'center', 'area', 'comparison', 'mapenlargeland', 'boundariestotal', 'kmborder', 'countries', 'israel', 'km', 'syria', 'kmcoastline225', 'kmmaritime', 'claimsterritorial', 'sea', 'nmclimatemediterranean', 'mild', 'to', 'cool', 'wet', 'winters', 'with', 'hot', 'dry', 'summers', 'the', 'lebanon', 'mountains', 'experience', 'heavy', 'winter', 'snowsterrainnarrow', 'coastal', 'plain', 'el', 'beqaa', 'bekaa', 'valley', 'separates', 'lebanon', 'and', 'anti', 'lebanon', 'mountainselevationhighest', 'point', 'qornet', 'es', 'saouda', 'mlowest', 'point', 'mediterranean', 'sea', 'mmean', 'elevation', 'mnatural', 'resourceslimestone', 'iron', 'ore', 'salt', 'water', 'surplus', 'state', 'in', 'a', 'water', 'deficit', 'region', 'arable', 'landland', 'useagricultural', 'land', 'est', 'arable', 'land', 'est', 'permanent', 'crops', 'est', 'permanent', 'pasture', 'est', 'forest', 'est', 'other', 'est', 'irrigated', 'land1', 'sq', 'km', 'total', 'renewable', 'water', 'resources4', 'billion', 'cubic', 'meters', 'est', 'population', 'distributionthe', 'majority', 'of', 'the', 'people', 'live', 'on', 'or', 'near', 'the', 'mediterranean', 'coast', 'and', 'of', 'these', 'most', 'live', 'in', 'and', 'around', 'the', 'capital', 'beirut', 'favorable', 'growing', 'conditions', 'in', 'the', 'bekaa', 'valley', 'on', 'the', 'southeastern', 'side', 'of', 'the', 'lebanon', 'mountains', 'have', 'attracted', 'farmers', 'and', 'thus', 'the', 'area', 'exhibits', 'a', 'smaller', 'population', 'densitynatural', 'hazardsearthquakes', 'dust', 'storms', 'sandstormsenvironment', 'international', 'agreementsparty', 'to', 'biodiversity', 'climate', 'change', 'climate', 'change', 'kyoto', 'protocol', 'climate', 'change', 'paris', 'agreement', 'comprehensive', 'nuclear', 'test', 'ban', 'desertification', 'endangered', 'species', 'hazardous', 'wastes', 'law', 'of', 'the', 'sea', 'nuclear', 'test', 'ban', 'ozone', 'layer', 'protection', 'ship', 'pollution', 'wetlandssigned', 'but', 'not', 'ratified', 'environmental', 'modification', 'marine', 'life', 'conservationgeography', 'notesmallest', 'country', 'in', 'continental', 'asia', 'nahr', 'el', 'litani', 'is', 'the', 'only', 'major', 'river', 'in', 'near', 'east', 'not', 'crossing', 'an', 'international', 'boundary', 'rugged', 'terrain', 'historically', 'helped', 'isolate', 'protect', 'and', 'develop', 'numerous', 'factional', 'groups', 'based', 'on', 'religion', 'clan', 'and', 'ethnicitypeople', 'and', 'societypopulation5', 'july', 'est', 'country', 'comparison', 'to', 'the', 'world', 'lebanese', 'singular', 'and', 'plural', 'adjective', 'lebaneseethnic', 'groupsarab', 'armenian', 'other', 'note', 'many', 'christian', 'lebanese', 'do', 'not', 'identify', 'themselves', 'as', 'arab', 'but', 'rather', 'as', 'descendants', 'of', 'the', 'ancient', 'canaanites', 'and', 'prefer', 'to', 'be', 'called', 'phoenicianslanguagesarabic', 'official', 'french', 'english', 'armenianmajor', 'language', 'sample', 's', 'arabic', 'the', 'world', 'factbook', 'the', 'indispensable', 'source', 'for', 'basic', 'information', 'arabic', 'audio', 'sample', 'religionsmuslim', 'sunni', 'shia', 'smaller', 'percentages', 'of', 'alawites', 'and', 'ismailis', 'christian', 'maronite', 'catholics', 'are', 'the', 'largest', 'christian', 'group', 'druze', 'very', 'small', 'numbers', 'of', 'jews', 'baha', 'is', 'buddhists', 'and', 'hindus', 'est', 'note', 'data', 'represent', 'the', 'religious', 'affiliation', 'of', 'the', 'citizen', 'population', 'data', 'do', 'not', 'include', 'lebanon', 's', 'sizable', 'syrian', 'and', 'palestinian', 'refugee', 'populations', 'religious', 'sects', 'recognizedmena', 'religious', 'affiliationfile', 'iconage', 'structure0', 'years', 'male', 'female', 'years', 'male', 'female', 'years', 'male', 'female', 'years', 'male', 'female', 'years', 'and', 'over', 'male', 'female', 'est', 'for', 'additional', 'information', 'please', 'see', 'the', 'entry', 'for', 'population', 'pyramid', 'on', 'the', 'definitions', 'and', 'notes', 'page', 'style', 'position', 'absolute', 'top', 'left', 'opacity', 'width', 'height', 'object', 'fit', 'cover', 'object', 'position', 'center', 'population', 'pyramidenlargedependency', 'ratiostotal', 'dependency', 'ratio', 'dependency', 'ratio', 'dependency', 'ratio', 'support', 'ratio', 'est', 'median', 'agetotal', 'yearsmale', 'yearsfemale', 'years', 'est', 'country', 'comparison', 'to', 'the', 'world', 'growth', 'rate0', 'est', 'country', 'comparison', 'to', 'the', 'world', 'rate13', 'births', 'population', 'est', 'country', 'comparison', 'to', 'the', 'world', 'rate5', 'deaths', 'population', 'est', 'country', 'comparison', 'to', 'the', 'world', 'migration', 'rate', 'migrant', 's', 'population', 'est', 'country', 'comparison', 'to', 'the', 'world', 'distributionthe', 'majority', 'of', 'the', 'people', 'live', 'on', 'or', 'near', 'the', 'mediterranean', 'coast', 'and', 'of', 'these', 'most', 'live', 'in', 'and', 'around', 'the', 'capital', 'beirut', 'favorable', 'growing', 'conditions', 'in', 'the', 'bekaa', 'valley', 'on', 'the', 'southeastern', 'side', 'of', 'the', 'lebanon', 'mountains', 'have', 'attracted', 'farmers', 'and', 'thus', 'the', 'area', 'exhibits', 'a', 'smaller', 'population', 'densityurbanizationurban', 'population', 'of', 'total', 'population', 'rate', 'of', 'urbanization', 'annual', 'rate', 'of', 'change', 'est', 'total', 'population', 'growth', 'rate', 'v', 'urban', 'population', 'growth', 'rate', 'iconmajor', 'urban', 'areas', 'population2', 'million', 'beirut', 'capital', 'sex', 'ratioat', 'birth', 'male', 's', 'female0', 'years', 'male', 's', 'female15', 'years', 'male', 's', 'female25', 'years', 'male', 's', 'female55', 'years', 'male', 's', 'female65', 'years', 'and', 'over', 'male', 's', 'femaletotal', 'population', 'male', 's', 'female', 'est', 'maternal', 'mortality', 'rate29', 'deaths', 'live', 'births', 'est', 'country', 'comparison', 'to', 'the', 'world', 'mortality', 'ratetotal', 'deaths', 'live', 'birthsmale', 'deaths', 'live', 'birthsfemale', 'deaths', 'live', 'births', 'est', 'country', 'comparison', 'to', 'the', 'world', 'expectancy', 'at', 'birthtotal', 'population', 'yearsmale', 'yearsfemale', 'years', 'est', 'country', 'comparison', 'to', 'the', 'world', 'fertility', 'rate1', 'children', 'born', 'woman', 'est', 'country', 'comparison', 'to', 'the', 'world', 'water', 'sourceimproved', 'total', 'of', 'populationunimproved', 'total', 'of', 'population', 'est', 'current', 'health', 'expenditure8', 'physicians', 'density2', 'physicians', 'population', 'hospital', 'bed', 'density2', 'beds', 'population', 'sanitation', 'facility', 'accessimproved', 'total', 'of', 'populationunimproved', 'total', 'of', 'population', 'est', 'hiv', 'aids', 'adult', 'prevalence', 'ratehiv', 'aids', 'people', 'living', 'with', 'hiv', 'aids2', 'est', 'country', 'comparison', 'to', 'the', 'world', 'aids', 'deathsmajor', 'infectious', 'diseasesnote', 'widespread', 'ongoing', 'transmission', 'of', 'a', 'respiratory', 'illness', 'caused', 'by', 'the', 'novel', 'coronavirus', 'covid', 'is', 'occurring', 'throughout', 'lebanon', 'as', 'of', 'april', 'lebanon', 'has', 'reported', 'a', 'total', 'of', 'cases', 'of', 'covid', 'or', 'cumulative', 'cases', 'of', 'covid', 'per', 'population', 'with', 'cumulative', 'deaths', 'per', 'population', 'as', 'of', 'april', 'of', 'the', 'population', 'has', 'received', 'at', 'least', 'one', 'dose', 'of', 'covid', 'vaccineobesity', 'adult', 'prevalence', 'rate32', 'country', 'comparison', 'to', 'the', 'world', 'expenditures2', 'of', 'gdp', 'country', 'comparison', 'to', 'the', 'world', 'age', 'and', 'over', 'can', 'read', 'and', 'writetotal', 'population', 'male', 'female', 'school', 'life', 'expectancy', 'primary', 'to', 'tertiary', 'education', 'total', 'yearsmale', 'yearsfemale', 'years', 'unemployment', 'youth', 'ages', 'male', 'female', 'country', 'comparison', 'to', 'the', 'world', 'current', 'issuesdeforestation', 'soil', 'deterioration', 'erosion', 'desertification', 'species', 'loss', 'air', 'pollution', 'in', 'beirut', 'from', 'vehicular', 'traffic', 'and', 'the', 'burning', 'of', 'industrial', 'wastes', 'pollution', 'of', 'coastal', 'waters', 'from', 'raw', 'sewage', 'and', 'oil', 'spills', 'waste', 'water', 'managementenvironment', 'international', 'agreementsparty', 'to', 'biodiversity', 'climate', 'change', 'climate', 'change', 'kyoto', 'protocol', 'climate', 'change', 'paris', 'agreement', 'comprehensive', 'nuclear', 'test', 'ban', 'desertification', 'endangered', 'species', 'hazardous', 'wastes', 'law', 'of', 'the', 'sea', 'nuclear', 'test', 'ban', 'ozone', 'layer', 'protection', 'ship', 'pollution', 'wetlandssigned', 'but', 'not', 'ratified', 'environmental', 'modification', 'marine', 'life', 'conservationair', 'pollutantsparticulate', 'matter', 'emissions', 'micrograms', 'per', 'cubic', 'meter', 'est', 'carbon', 'dioxide', 'emissions', 'megatons', 'est', 'methane', 'emissions', 'megatons', 'est', 'total', 'water', 'withdrawalmunicipal', 'million', 'cubic', 'meters', 'est', 'industrial', 'million', 'cubic', 'meters', 'est', 'agricultural', 'million', 'cubic', 'meters', 'est', 'total', 'renewable', 'water', 'resources4', 'billion', 'cubic', 'meters', 'est', 'climatemediterranean', 'mild', 'to', 'cool', 'wet', 'winters', 'with', 'hot', 'dry', 'summers', 'the', 'lebanon', 'mountains', 'experience', 'heavy', 'winter', 'snowsland', 'useagricultural', 'land', 'est', 'arable', 'land', 'est', 'permanent', 'crops', 'est', 'permanent', 'pasture', 'est', 'forest', 'est', 'other', 'est', 'revenue', 'from', 'forest', 'resourcesforest', 'revenues', 'of', 'gdp', 'est', 'country', 'comparison', 'to', 'the', 'world', 'from', 'coalcoal', 'revenues', 'of', 'gdp', 'est', 'country', 'comparison', 'to', 'the', 'world', 'population', 'of', 'total', 'population', 'rate', 'of', 'urbanization', 'annual', 'rate', 'of', 'change', 'est', 'total', 'population', 'growth', 'rate', 'v', 'urban', 'population', 'growth', 'rate', 'iconmajor', 'infectious', 'diseasesnote', 'widespread', 'ongoing', 'transmission', 'of', 'a', 'respiratory', 'illness', 'caused', 'by', 'the', 'novel', 'coronavirus', 'covid', 'is', 'occurring', 'throughout', 'lebanon', 'as', 'of', 'april', 'lebanon', 'has', 'reported', 'a', 'total', 'of', 'cases', 'of', 'covid', 'or', 'cumulative', 'cases', 'of', 'covid', 'per', 'population', 'with', 'cumulative', 'deaths', 'per', 'population', 'as', 'of', 'april', 'of', 'the', 'population', 'has', 'received', 'at', 'least', 'one', 'dose', 'of', 'covid', 'vaccinefood', 'insecurityexceptional', 'shortfall', 'in', 'aggregate', 'food', 'production', 'supplies', 'due', 'to', 'the', 'ongoing', 'financial', 'and', 'economic', 'crisis', 'in', 'august', 'the', 'un', 'economic', 'and', 'social', 'commission', 'for', 'western', 'asia', 'estimated', 'that', 'more', 'than', 'of', 'the', 'population', 'lived', 'in', 'poverty', 'up', 'from', '']\n"
     ]
    }
   ],
   "source": [
    "# create a regular expression variable omit_word and specify that any word that starts with the characters 'x' or a number between 0 to 9\n",
    "omit_word = re.compile(r'x+|[0-9]+')\n",
    "\n",
    "# Use a for loop to fill a new array with all words. Omit words that match the omit_word regular expression\n",
    "my_bag = []\n",
    "for word in word_bag:\n",
    "    if not omit_word.match( word ):\n",
    "        my_bag.append( word )\n",
    "word_bag = my_bag\n",
    "\n",
    "print(word_bag)"
   ]
  },
  {
   "cell_type": "code",
   "execution_count": 91,
   "metadata": {},
   "outputs": [
    {
     "name": "stdout",
     "output_type": "stream",
     "text": [
      "Frequencies: [1, 19, 3, 1, 1, 1, 12, 1, 4, 63, 1, 1, 53, 63, 1, 1, 1, 1, 53, 5, 63, 2, 1, 63, 2, 53, 16, 15, 36, 1, 1, 4, 2, 15, 1, 2, 63, 19, 6, 1, 1, 4, 1, 53, 3, 1, 1, 7, 1, 1, 7, 2, 5, 7, 12, 1, 3, 5, 1, 36, 1, 63, 19, 14, 1, 3, 1, 1, 15, 2, 2, 1, 1, 1, 4, 14, 53, 2, 36, 3, 1, 1, 5, 12, 1, 1, 53, 3, 3, 4, 1, 5, 6, 2, 1, 16, 14, 1, 1, 36]\n",
      "Pairs: [('introductionbackgroundfollowing', 1), ('world', 19), ('war', 3), ('i', 1), ('france', 1), ('acquired', 1), ('a', 12), ('mandate', 1), ('over', 4), ('the', 63), ('northern', 1), ('portion', 1), ('of', 53), ('the', 63), ('former', 1), ('ottoman', 1), ('empire', 1), ('province', 1), ('of', 53), ('syria', 5), ('the', 63), ('french', 2), ('demarcated', 1), ('the', 63), ('region', 2), ('of', 53), ('lebanon', 16), ('in', 15), ('and', 36), ('granted', 1), ('this', 1), ('area', 4), ('independence', 2), ('in', 15), ('since', 1), ('independence', 2), ('the', 63), ('country', 19), ('has', 6), ('been', 1), ('marked', 1), ('by', 4), ('periods', 1), ('of', 53), ('political', 3), ('turmoil', 1), ('interspersed', 1), ('with', 7), ('prosperity', 1), ('built', 1), ('on', 7), ('its', 2), ('position', 5), ('as', 7), ('a', 12), ('regional', 1), ('center', 3), ('for', 5), ('finance', 1), ('and', 36), ('trade', 1), ('the', 63), ('country', 19), ('s', 14), ('civil', 1), ('war', 3), ('which', 1), ('resulted', 1), ('in', 15), ('an', 2), ('estimated', 2), ('fatalities', 1), ('was', 1), ('followed', 1), ('by', 4), ('years', 14), ('of', 53), ('social', 2), ('and', 36), ('political', 3), ('instability', 1), ('sectarianism', 1), ('is', 5), ('a', 12), ('key', 1), ('element', 1), ('of', 53), ('lebanese', 3), ('political', 3), ('life', 4), ('neighboring', 1), ('syria', 5), ('has', 6), ('historically', 2), ('influenced', 1), ('lebanon', 16), ('s', 14), ('foreign', 1), ('policy', 1), ('and', 36)]\n"
     ]
    }
   ],
   "source": [
    "# create a for loop to count frequencies of words, then zip the frequencies and words into pairs\n",
    "word_freq = []\n",
    "for word in word_bag:\n",
    "    word_freq.append(word_bag.count(word))\n",
    "\n",
    "print(\"Frequencies: \" + str(word_freq[0:100]))\n",
    "print(\"Pairs: \" + str(list(zip(word_bag[0:100],word_freq[0:100]))))"
   ]
  },
  {
   "cell_type": "code",
   "execution_count": 92,
   "metadata": {},
   "outputs": [
    {
     "name": "stdout",
     "output_type": "stream",
     "text": [
      "{'introductionbackgroundfollowing': 1, 'world': 19, 'war': 3, 'i': 1, 'france': 1, 'acquired': 1, 'a': 12, 'mandate': 1, 'over': 4, 'the': 63, 'northern': 1, 'portion': 1, 'of': 53, 'former': 1, 'ottoman': 1, 'empire': 1, 'province': 1, 'syria': 5, 'french': 2, 'demarcated': 1, 'region': 2, 'lebanon': 16, 'in': 15, 'and': 36, 'granted': 1, 'this': 1, 'area': 4, 'independence': 2, 'since': 1, 'country': 19, 'has': 6, 'been': 1, 'marked': 1, 'by': 4, 'periods': 1, 'political': 3, 'turmoil': 1, 'interspersed': 1, 'with': 7, 'prosperity': 1, 'built': 1, 'on': 7, 'its': 2, 'position': 5, 'as': 7, 'regional': 1, 'center': 3, 'for': 5, 'finance': 1, 'trade': 1, 's': 14, 'civil': 1, 'which': 1, 'resulted': 1, 'an': 2, 'estimated': 2, 'fatalities': 1, 'was': 1, 'followed': 1, 'years': 14, 'social': 2, 'instability': 1, 'sectarianism': 1, 'is': 5, 'key': 1, 'element': 1, 'lebanese': 3, 'life': 4, 'neighboring': 1, 'historically': 2, 'influenced': 1, 'foreign': 1, 'policy': 1, 'internal': 1, 'policies': 1, 'military': 1, 'occupied': 1, 'from': 6, 'until': 1, 'based': 2, 'hizballah': 1, 'militia': 1, 'israel': 4, 'continued': 1, 'attacks': 1, 'counterattacks': 1, 'against': 1, 'each': 2, 'other': 4, 'after': 1, 'withdrawal': 1, 'fought': 1, 'brief': 1, 'borders': 1, 'remain': 1, 'unresolved': 1, 'tipvisit': 1, 'definitions': 3, 'notes': 2, 'page': 2, 'to': 25, 'view': 1, 'description': 1, 'topic': 1, 'notesarrow': 1, 'right': 1, 'icongeographylocationmiddle': 1, 'east': 2, 'bordering': 1, 'mediterranean': 4, 'sea': 5, 'between': 1, 'syriageographic': 1, 'coordinates33': 1, 'n': 1, 'emap': 1, 'referencesmiddle': 1, 'eastareatotal': 1, 'sq': 4, 'kmland': 1, 'kmwater': 1, 'kmcountry': 1, 'comparison': 18, 'comparativeabout': 1, 'one': 4, 'third': 2, 'size': 2, 'marylandabout': 1, 'maryland': 1, 'style': 2, 'absolute': 2, 'top': 2, 'left': 2, 'opacity': 2, 'width': 2, 'height': 2, 'object': 4, 'fit': 2, 'cover': 2, 'mapenlargeland': 1, 'boundariestotal': 1, 'kmborder': 1, 'countries': 1, 'km': 2, 'kmcoastline225': 1, 'kmmaritime': 1, 'claimsterritorial': 1, 'nmclimatemediterranean': 1, 'mild': 2, 'cool': 2, 'wet': 2, 'winters': 2, 'hot': 2, 'dry': 2, 'summers': 2, 'mountains': 4, 'experience': 2, 'heavy': 2, 'winter': 2, 'snowsterrainnarrow': 1, 'coastal': 2, 'plain': 1, 'el': 2, 'beqaa': 1, 'bekaa': 3, 'valley': 3, 'separates': 1, 'anti': 1, 'mountainselevationhighest': 1, 'point': 2, 'qornet': 1, 'es': 1, 'saouda': 1, 'mlowest': 1, 'mmean': 1, 'elevation': 1, 'mnatural': 1, 'resourceslimestone': 1, 'iron': 1, 'ore': 1, 'salt': 1, 'water': 7, 'surplus': 1, 'state': 1, 'deficit': 1, 'arable': 3, 'landland': 1, 'useagricultural': 2, 'land': 4, 'est': 41, 'permanent': 4, 'crops': 2, 'pasture': 2, 'forest': 3, 'irrigated': 1, 'land1': 1, 'total': 14, 'renewable': 2, 'resources4': 2, 'billion': 2, 'cubic': 6, 'meters': 5, 'population': 31, 'distributionthe': 2, 'majority': 2, 'people': 3, 'live': 8, 'or': 4, 'near': 3, 'coast': 2, 'these': 2, 'most': 2, 'around': 2, 'capital': 3, 'beirut': 4, 'favorable': 2, 'growing': 2, 'conditions': 2, 'southeastern': 2, 'side': 2, 'have': 2, 'attracted': 2, 'farmers': 2, 'thus': 2, 'exhibits': 2, 'smaller': 3, 'densitynatural': 1, 'hazardsearthquakes': 1, 'dust': 1, 'storms': 1, 'sandstormsenvironment': 1, 'international': 3, 'agreementsparty': 2, 'biodiversity': 2, 'climate': 6, 'change': 8, 'kyoto': 2, 'protocol': 2, 'paris': 2, 'agreement': 2, 'comprehensive': 2, 'nuclear': 4, 'test': 4, 'ban': 4, 'desertification': 3, 'endangered': 2, 'species': 3, 'hazardous': 2, 'wastes': 3, 'law': 2, 'ozone': 2, 'layer': 2, 'protection': 2, 'ship': 2, 'pollution': 4, 'wetlandssigned': 2, 'but': 3, 'not': 5, 'ratified': 2, 'environmental': 2, 'modification': 2, 'marine': 2, 'conservationgeography': 1, 'notesmallest': 1, 'continental': 1, 'asia': 2, 'nahr': 1, 'litani': 1, 'only': 1, 'major': 1, 'river': 1, 'crossing': 1, 'boundary': 1, 'rugged': 1, 'terrain': 1, 'helped': 1, 'isolate': 1, 'protect': 1, 'develop': 1, 'numerous': 1, 'factional': 1, 'groups': 1, 'religion': 1, 'clan': 1, 'ethnicitypeople': 1, 'societypopulation5': 1, 'july': 1, 'singular': 1, 'plural': 1, 'adjective': 1, 'lebaneseethnic': 1, 'groupsarab': 1, 'armenian': 1, 'note': 2, 'many': 1, 'christian': 3, 'do': 2, 'identify': 1, 'themselves': 1, 'arab': 1, 'rather': 1, 'descendants': 1, 'ancient': 1, 'canaanites': 1, 'prefer': 1, 'be': 1, 'called': 1, 'phoenicianslanguagesarabic': 1, 'official': 1, 'english': 1, 'armenianmajor': 1, 'language': 1, 'sample': 2, 'arabic': 2, 'factbook': 1, 'indispensable': 1, 'source': 1, 'basic': 1, 'information': 2, 'audio': 1, 'religionsmuslim': 1, 'sunni': 1, 'shia': 1, 'percentages': 1, 'alawites': 1, 'ismailis': 1, 'maronite': 1, 'catholics': 1, 'are': 1, 'largest': 1, 'group': 1, 'druze': 1, 'very': 1, 'small': 1, 'numbers': 1, 'jews': 1, 'baha': 1, 'buddhists': 1, 'hindus': 1, 'data': 2, 'represent': 1, 'religious': 3, 'affiliation': 1, 'citizen': 1, 'include': 1, 'sizable': 1, 'syrian': 1, 'palestinian': 1, 'refugee': 1, 'populations': 1, 'sects': 1, 'recognizedmena': 1, 'affiliationfile': 1, 'iconage': 1, 'structure0': 1, 'male': 14, 'female': 8, 'additional': 1, 'please': 1, 'see': 1, 'entry': 1, 'pyramid': 1, 'pyramidenlargedependency': 1, 'ratiostotal': 1, 'dependency': 3, 'ratio': 4, 'support': 1, 'median': 1, 'agetotal': 1, 'yearsmale': 3, 'yearsfemale': 3, 'growth': 5, 'rate0': 1, 'rate13': 1, 'births': 3, 'rate5': 1, 'deaths': 7, 'migration': 1, 'rate': 9, 'migrant': 1, 'densityurbanizationurban': 1, 'urbanization': 2, 'annual': 2, 'v': 2, 'urban': 3, 'iconmajor': 2, 'areas': 1, 'population2': 1, 'million': 4, 'sex': 1, 'ratioat': 1, 'birth': 1, 'female0': 1, 'female15': 1, 'female25': 1, 'female55': 1, 'female65': 1, 'femaletotal': 1, 'maternal': 1, 'mortality': 2, 'rate29': 1, 'ratetotal': 1, 'birthsmale': 1, 'birthsfemale': 1, 'expectancy': 2, 'at': 3, 'birthtotal': 1, 'fertility': 1, 'rate1': 1, 'children': 1, 'born': 1, 'woman': 1, 'sourceimproved': 1, 'populationunimproved': 2, 'current': 2, 'health': 1, 'expenditure8': 1, 'physicians': 2, 'density2': 2, 'hospital': 1, 'bed': 1, 'beds': 1, 'sanitation': 1, 'facility': 1, 'accessimproved': 1, 'hiv': 2, 'aids': 3, 'adult': 2, 'prevalence': 2, 'ratehiv': 1, 'living': 1, 'aids2': 1, 'deathsmajor': 1, 'infectious': 2, 'diseasesnote': 2, 'widespread': 2, 'ongoing': 3, 'transmission': 2, 'respiratory': 2, 'illness': 2, 'caused': 2, 'novel': 2, 'coronavirus': 2, 'covid': 8, 'occurring': 2, 'throughout': 2, 'april': 4, 'reported': 2, 'cases': 4, 'cumulative': 4, 'per': 5, 'received': 2, 'least': 2, 'dose': 2, 'vaccineobesity': 1, 'rate32': 1, 'expenditures2': 1, 'gdp': 3, 'age': 1, 'can': 1, 'read': 1, 'writetotal': 1, 'school': 1, 'primary': 1, 'tertiary': 1, 'education': 1, 'unemployment': 1, 'youth': 1, 'ages': 1, 'issuesdeforestation': 1, 'soil': 1, 'deterioration': 1, 'erosion': 1, 'loss': 1, 'air': 1, 'vehicular': 1, 'traffic': 1, 'burning': 1, 'industrial': 2, 'waters': 1, 'raw': 1, 'sewage': 1, 'oil': 1, 'spills': 1, 'waste': 1, 'managementenvironment': 1, 'conservationair': 1, 'pollutantsparticulate': 1, 'matter': 1, 'emissions': 3, 'micrograms': 1, 'meter': 1, 'carbon': 1, 'dioxide': 1, 'megatons': 2, 'methane': 1, 'withdrawalmunicipal': 1, 'agricultural': 1, 'climatemediterranean': 1, 'snowsland': 1, 'revenue': 1, 'resourcesforest': 1, 'revenues': 2, 'coalcoal': 1, 'vaccinefood': 1, 'insecurityexceptional': 1, 'shortfall': 1, 'aggregate': 1, 'food': 1, 'production': 1, 'supplies': 1, 'due': 1, 'financial': 1, 'economic': 2, 'crisis': 1, 'august': 1, 'un': 1, 'commission': 1, 'western': 1, 'that': 1, 'more': 1, 'than': 1, 'lived': 1, 'poverty': 1, 'up': 1, '': 1}\n"
     ]
    }
   ],
   "source": [
    "# function to create a dictionary of words and their frequency\n",
    "def wordsToDictionary(word_bag):\n",
    "    word_freq = [word_bag.count(word) for word in word_bag]\n",
    "    return dict(list(zip(word_bag,word_freq)))\n",
    "\n",
    "test_words = word_bag\n",
    "counted_words = wordsToDictionary(test_words)\n",
    "print(counted_words)"
   ]
  },
  {
   "cell_type": "code",
   "execution_count": 93,
   "metadata": {},
   "outputs": [
    {
     "name": "stdout",
     "output_type": "stream",
     "text": [
      "[(63, 'the'), (53, 'of'), (41, 'est'), (36, 'and'), (31, 'population'), (25, 'to'), (19, 'world'), (19, 'country'), (18, 'comparison'), (16, 'lebanon'), (15, 'in'), (14, 'years'), (14, 'total'), (14, 's'), (14, 'male'), (12, 'a'), (9, 'rate'), (8, 'live'), (8, 'female'), (8, 'covid'), (8, 'change'), (7, 'with'), (7, 'water'), (7, 'on'), (7, 'deaths'), (7, 'as'), (6, 'has'), (6, 'from'), (6, 'cubic'), (6, 'climate'), (5, 'syria'), (5, 'sea'), (5, 'position'), (5, 'per'), (5, 'not'), (5, 'meters'), (5, 'is'), (5, 'growth'), (5, 'for'), (4, 'test'), (4, 'sq'), (4, 'ratio'), (4, 'pollution'), (4, 'permanent'), (4, 'over'), (4, 'other'), (4, 'or'), (4, 'one'), (4, 'object'), (4, 'nuclear'), (4, 'mountains'), (4, 'million'), (4, 'mediterranean'), (4, 'life'), (4, 'land'), (4, 'israel'), (4, 'cumulative'), (4, 'cases'), (4, 'by'), (4, 'beirut'), (4, 'ban'), (4, 'area'), (4, 'april'), (3, 'yearsmale'), (3, 'yearsfemale'), (3, 'wastes'), (3, 'war'), (3, 'valley'), (3, 'urban'), (3, 'species'), (3, 'smaller'), (3, 'religious'), (3, 'political'), (3, 'people'), (3, 'ongoing'), (3, 'near'), (3, 'lebanese'), (3, 'international'), (3, 'gdp'), (3, 'forest'), (3, 'emissions'), (3, 'desertification'), (3, 'dependency'), (3, 'definitions'), (3, 'christian'), (3, 'center'), (3, 'capital'), (3, 'but'), (3, 'births'), (3, 'bekaa'), (3, 'at'), (3, 'arable'), (3, 'aids'), (2, 'winters'), (2, 'winter'), (2, 'width'), (2, 'widespread'), (2, 'wetlandssigned'), (2, 'wet'), (2, 'v'), (2, 'useagricultural'), (2, 'urbanization'), (2, 'transmission'), (2, 'top'), (2, 'thus'), (2, 'throughout'), (2, 'third'), (2, 'these'), (2, 'summers'), (2, 'style'), (2, 'southeastern'), (2, 'social'), (2, 'size'), (2, 'side'), (2, 'ship'), (2, 'sample'), (2, 'revenues'), (2, 'respiratory'), (2, 'resources4'), (2, 'reported'), (2, 'renewable'), (2, 'region'), (2, 'received'), (2, 'ratified'), (2, 'protocol'), (2, 'protection'), (2, 'prevalence'), (2, 'populationunimproved'), (2, 'point'), (2, 'physicians'), (2, 'pasture'), (2, 'paris'), (2, 'page'), (2, 'ozone'), (2, 'opacity'), (2, 'occurring'), (2, 'novel'), (2, 'notes'), (2, 'note'), (2, 'most'), (2, 'mortality'), (2, 'modification'), (2, 'mild'), (2, 'megatons'), (2, 'marine'), (2, 'majority'), (2, 'left'), (2, 'least'), (2, 'layer'), (2, 'law'), (2, 'kyoto'), (2, 'km'), (2, 'its'), (2, 'information'), (2, 'infectious'), (2, 'industrial'), (2, 'independence'), (2, 'illness'), (2, 'iconmajor'), (2, 'hot'), (2, 'hiv'), (2, 'historically'), (2, 'height'), (2, 'heavy'), (2, 'hazardous'), (2, 'have'), (2, 'growing'), (2, 'french'), (2, 'fit'), (2, 'favorable'), (2, 'farmers'), (2, 'experience'), (2, 'expectancy'), (2, 'exhibits'), (2, 'estimated'), (2, 'environmental'), (2, 'endangered'), (2, 'el'), (2, 'economic'), (2, 'east'), (2, 'each'), (2, 'dry'), (2, 'dose'), (2, 'do'), (2, 'distributionthe'), (2, 'diseasesnote'), (2, 'density2'), (2, 'data'), (2, 'current'), (2, 'crops'), (2, 'cover'), (2, 'coronavirus'), (2, 'cool'), (2, 'conditions'), (2, 'comprehensive'), (2, 'coastal'), (2, 'coast'), (2, 'caused'), (2, 'biodiversity'), (2, 'billion'), (2, 'based'), (2, 'attracted'), (2, 'asia'), (2, 'around'), (2, 'arabic'), (2, 'annual'), (2, 'an'), (2, 'agreementsparty'), (2, 'agreement'), (2, 'adult'), (2, 'absolute'), (1, 'youth'), (1, 'writetotal'), (1, 'woman'), (1, 'withdrawalmunicipal'), (1, 'withdrawal'), (1, 'which'), (1, 'western'), (1, 'waters'), (1, 'waste'), (1, 'was'), (1, 'view'), (1, 'very'), (1, 'vehicular'), (1, 'vaccineobesity'), (1, 'vaccinefood'), (1, 'up'), (1, 'until'), (1, 'unresolved'), (1, 'unemployment'), (1, 'un'), (1, 'turmoil'), (1, 'traffic'), (1, 'trade'), (1, 'topic'), (1, 'tipvisit'), (1, 'this'), (1, 'themselves'), (1, 'that'), (1, 'than'), (1, 'tertiary'), (1, 'terrain'), (1, 'syrian'), (1, 'syriageographic'), (1, 'surplus'), (1, 'support'), (1, 'supplies'), (1, 'sunni'), (1, 'structure0'), (1, 'storms'), (1, 'state'), (1, 'spills'), (1, 'sourceimproved'), (1, 'source'), (1, 'soil'), (1, 'societypopulation5'), (1, 'snowsterrainnarrow'), (1, 'snowsland'), (1, 'small'), (1, 'sizable'), (1, 'singular'), (1, 'since'), (1, 'shortfall'), (1, 'shia'), (1, 'sex'), (1, 'sewage'), (1, 'separates'), (1, 'see'), (1, 'sects'), (1, 'sectarianism'), (1, 'school'), (1, 'saouda'), (1, 'sanitation'), (1, 'sandstormsenvironment'), (1, 'salt'), (1, 'rugged'), (1, 'river'), (1, 'right'), (1, 'revenue'), (1, 'resulted'), (1, 'resourceslimestone'), (1, 'resourcesforest'), (1, 'represent'), (1, 'remain'), (1, 'religionsmuslim'), (1, 'religion'), (1, 'regional'), (1, 'refugee'), (1, 'referencesmiddle'), (1, 'recognizedmena'), (1, 'read'), (1, 'raw'), (1, 'ratiostotal'), (1, 'ratioat'), (1, 'rather'), (1, 'ratetotal'), (1, 'ratehiv'), (1, 'rate5'), (1, 'rate32'), (1, 'rate29'), (1, 'rate13'), (1, 'rate1'), (1, 'rate0'), (1, 'qornet'), (1, 'pyramidenlargedependency'), (1, 'pyramid'), (1, 'province'), (1, 'protect'), (1, 'prosperity'), (1, 'production'), (1, 'primary'), (1, 'prefer'), (1, 'poverty'), (1, 'portion'), (1, 'populations'), (1, 'population2'), (1, 'pollutantsparticulate'), (1, 'policy'), (1, 'policies'), (1, 'plural'), (1, 'please'), (1, 'plain'), (1, 'phoenicianslanguagesarabic'), (1, 'periods'), (1, 'percentages'), (1, 'palestinian'), (1, 'ottoman'), (1, 'ore'), (1, 'only'), (1, 'oil'), (1, 'official'), (1, 'occupied'), (1, 'numerous'), (1, 'numbers'), (1, 'notesmallest'), (1, 'notesarrow'), (1, 'northern'), (1, 'nmclimatemediterranean'), (1, 'neighboring'), (1, 'nahr'), (1, 'n'), (1, 'mountainselevationhighest'), (1, 'more'), (1, 'mnatural'), (1, 'mmean'), (1, 'mlowest'), (1, 'militia'), (1, 'military'), (1, 'migration'), (1, 'migrant'), (1, 'micrograms'), (1, 'methane'), (1, 'meter'), (1, 'median'), (1, 'matter'), (1, 'maternal'), (1, 'marylandabout'), (1, 'maryland'), (1, 'maronite'), (1, 'marked'), (1, 'mapenlargeland'), (1, 'many'), (1, 'mandate'), (1, 'managementenvironment'), (1, 'major'), (1, 'loss'), (1, 'living'), (1, 'lived'), (1, 'litani'), (1, 'lebaneseethnic'), (1, 'largest'), (1, 'language'), (1, 'landland'), (1, 'land1'), (1, 'kmwater'), (1, 'kmmaritime'), (1, 'kmland'), (1, 'kmcountry'), (1, 'kmcoastline225'), (1, 'kmborder'), (1, 'key'), (1, 'july'), (1, 'jews'), (1, 'issuesdeforestation'), (1, 'isolate'), (1, 'ismailis'), (1, 'irrigated'), (1, 'iron'), (1, 'introductionbackgroundfollowing'), (1, 'interspersed'), (1, 'internal'), (1, 'instability'), (1, 'insecurityexceptional'), (1, 'influenced'), (1, 'indispensable'), (1, 'include'), (1, 'identify'), (1, 'icongeographylocationmiddle'), (1, 'iconage'), (1, 'i'), (1, 'hospital'), (1, 'hizballah'), (1, 'hindus'), (1, 'helped'), (1, 'health'), (1, 'hazardsearthquakes'), (1, 'groupsarab'), (1, 'groups'), (1, 'group'), (1, 'granted'), (1, 'france'), (1, 'fought'), (1, 'former'), (1, 'foreign'), (1, 'food'), (1, 'followed'), (1, 'financial'), (1, 'finance'), (1, 'fertility'), (1, 'femaletotal'), (1, 'female65'), (1, 'female55'), (1, 'female25'), (1, 'female15'), (1, 'female0'), (1, 'fatalities'), (1, 'factional'), (1, 'factbook'), (1, 'facility'), (1, 'expenditures2'), (1, 'expenditure8'), (1, 'ethnicitypeople'), (1, 'es'), (1, 'erosion'), (1, 'entry'), (1, 'english'), (1, 'empire'), (1, 'emap'), (1, 'elevation'), (1, 'element'), (1, 'education'), (1, 'eastareatotal'), (1, 'dust'), (1, 'due'), (1, 'druze'), (1, 'dioxide'), (1, 'develop'), (1, 'deterioration'), (1, 'description'), (1, 'descendants'), (1, 'densityurbanizationurban'), (1, 'densitynatural'), (1, 'demarcated'), (1, 'deficit'), (1, 'deathsmajor'), (1, 'crossing'), (1, 'crisis'), (1, 'countries'), (1, 'counterattacks'), (1, 'coordinates33'), (1, 'continued'), (1, 'continental'), (1, 'conservationgeography'), (1, 'conservationair'), (1, 'comparativeabout'), (1, 'commission'), (1, 'coalcoal'), (1, 'climatemediterranean'), (1, 'clan'), (1, 'claimsterritorial'), (1, 'civil'), (1, 'citizen'), (1, 'children'), (1, 'catholics'), (1, 'carbon'), (1, 'canaanites'), (1, 'can'), (1, 'called'), (1, 'burning'), (1, 'built'), (1, 'buddhists'), (1, 'brief'), (1, 'boundary'), (1, 'boundariestotal'), (1, 'born'), (1, 'borders'), (1, 'bordering'), (1, 'birthtotal'), (1, 'birthsmale'), (1, 'birthsfemale'), (1, 'birth'), (1, 'between'), (1, 'beqaa'), (1, 'been'), (1, 'beds'), (1, 'bed'), (1, 'be'), (1, 'basic'), (1, 'baha'), (1, 'august'), (1, 'audio'), (1, 'attacks'), (1, 'armenianmajor'), (1, 'armenian'), (1, 'areas'), (1, 'are'), (1, 'arab'), (1, 'anti'), (1, 'ancient'), (1, 'alawites'), (1, 'air'), (1, 'aids2'), (1, 'agricultural'), (1, 'aggregate'), (1, 'agetotal'), (1, 'ages'), (1, 'age'), (1, 'against'), (1, 'after'), (1, 'affiliationfile'), (1, 'affiliation'), (1, 'adjective'), (1, 'additional'), (1, 'acquired'), (1, 'accessimproved'), (1, '')]\n"
     ]
    }
   ],
   "source": [
    "# fuction to sort and reverse the counted_words\n",
    "def sortDictionary(counted_words):\n",
    "    aux = [(counted_words[key], key) for key in counted_words]\n",
    "    aux.sort()\n",
    "    aux.reverse()\n",
    "    return aux\n",
    "\n",
    "counted_words = sortDictionary(counted_words)\n",
    "print(counted_words)"
   ]
  },
  {
   "cell_type": "code",
   "execution_count": 94,
   "metadata": {},
   "outputs": [
    {
     "name": "stdout",
     "output_type": "stream",
     "text": [
      "[(41, 'est'), (31, 'population'), (19, 'world'), (19, 'country'), (18, 'comparison'), (16, 'lebanon'), (14, 'years'), (14, 'total'), (14, 'male'), (9, 'rate'), (8, 'live'), (8, 'female'), (8, 'covid'), (8, 'change'), (7, 'with'), (7, 'water'), (7, 'deaths'), (7, 'as'), (6, 'has'), (6, 'from'), (6, 'cubic'), (6, 'climate'), (5, 'syria'), (5, 'sea'), (5, 'position'), (5, 'per'), (5, 'not'), (5, 'meters'), (5, 'growth'), (5, 'for'), (4, 'test'), (4, 'sq'), (4, 'ratio'), (4, 'pollution'), (4, 'permanent'), (4, 'other'), (4, 'one'), (4, 'object'), (4, 'nuclear'), (4, 'mountains'), (4, 'million'), (4, 'mediterranean'), (4, 'life'), (4, 'land'), (4, 'israel'), (4, 'cumulative'), (4, 'cases'), (4, 'beirut'), (4, 'ban'), (4, 'area'), (4, 'april'), (3, 'yearsmale'), (3, 'yearsfemale'), (3, 'wastes'), (3, 'war'), (3, 'valley'), (3, 'urban'), (3, 'species'), (3, 'smaller'), (3, 'religious'), (3, 'political'), (3, 'people'), (3, 'ongoing'), (3, 'near'), (3, 'lebanese'), (3, 'international'), (3, 'gdp'), (3, 'forest'), (3, 'emissions'), (3, 'desertification'), (3, 'dependency'), (3, 'definitions'), (3, 'christian'), (3, 'center'), (3, 'capital'), (3, 'but'), (3, 'births'), (3, 'bekaa'), (3, 'at'), (3, 'arable'), (3, 'aids'), (2, 'winters'), (2, 'winter'), (2, 'width'), (2, 'widespread'), (2, 'wetlandssigned'), (2, 'wet'), (2, 'v'), (2, 'useagricultural'), (2, 'urbanization'), (2, 'transmission'), (2, 'top'), (2, 'thus'), (2, 'throughout'), (2, 'third'), (2, 'these'), (2, 'summers'), (2, 'style'), (2, 'southeastern'), (2, 'social'), (2, 'size'), (2, 'side'), (2, 'ship'), (2, 'sample'), (2, 'revenues'), (2, 'respiratory'), (2, 'resources4'), (2, 'reported'), (2, 'renewable'), (2, 'region'), (2, 'received'), (2, 'ratified'), (2, 'protocol'), (2, 'protection'), (2, 'prevalence'), (2, 'populationunimproved'), (2, 'point'), (2, 'physicians'), (2, 'pasture'), (2, 'paris'), (2, 'page'), (2, 'ozone'), (2, 'opacity'), (2, 'occurring'), (2, 'novel'), (2, 'notes'), (2, 'note'), (2, 'most'), (2, 'mortality'), (2, 'modification'), (2, 'mild'), (2, 'megatons'), (2, 'marine'), (2, 'majority'), (2, 'left'), (2, 'least'), (2, 'layer'), (2, 'law'), (2, 'kyoto'), (2, 'km'), (2, 'its'), (2, 'information'), (2, 'infectious'), (2, 'industrial'), (2, 'independence'), (2, 'illness'), (2, 'iconmajor'), (2, 'hot'), (2, 'hiv'), (2, 'historically'), (2, 'height'), (2, 'heavy'), (2, 'hazardous'), (2, 'have'), (2, 'growing'), (2, 'french'), (2, 'fit'), (2, 'favorable'), (2, 'farmers'), (2, 'experience'), (2, 'expectancy'), (2, 'exhibits'), (2, 'estimated'), (2, 'environmental'), (2, 'endangered'), (2, 'el'), (2, 'economic'), (2, 'east'), (2, 'each'), (2, 'dry'), (2, 'dose'), (2, 'do'), (2, 'distributionthe'), (2, 'diseasesnote'), (2, 'density2'), (2, 'data'), (2, 'current'), (2, 'crops'), (2, 'cover'), (2, 'coronavirus'), (2, 'cool'), (2, 'conditions'), (2, 'comprehensive'), (2, 'coastal'), (2, 'coast'), (2, 'caused'), (2, 'biodiversity'), (2, 'billion'), (2, 'based'), (2, 'attracted'), (2, 'asia'), (2, 'around'), (2, 'arabic'), (2, 'annual'), (2, 'agreementsparty'), (2, 'agreement'), (2, 'adult'), (2, 'absolute'), (1, 'youth'), (1, 'writetotal'), (1, 'woman'), (1, 'withdrawalmunicipal'), (1, 'withdrawal'), (1, 'which'), (1, 'western'), (1, 'waters'), (1, 'waste'), (1, 'was'), (1, 'view'), (1, 'very'), (1, 'vehicular'), (1, 'vaccineobesity'), (1, 'vaccinefood'), (1, 'up'), (1, 'until'), (1, 'unresolved'), (1, 'unemployment'), (1, 'un'), (1, 'turmoil'), (1, 'traffic'), (1, 'trade'), (1, 'topic'), (1, 'tipvisit'), (1, 'themselves'), (1, 'that'), (1, 'than'), (1, 'tertiary'), (1, 'terrain'), (1, 'syrian'), (1, 'syriageographic'), (1, 'surplus'), (1, 'support'), (1, 'supplies'), (1, 'sunni'), (1, 'structure0'), (1, 'storms'), (1, 'state'), (1, 'spills'), (1, 'sourceimproved'), (1, 'source'), (1, 'soil'), (1, 'societypopulation5'), (1, 'snowsterrainnarrow'), (1, 'snowsland'), (1, 'small'), (1, 'sizable'), (1, 'singular'), (1, 'since'), (1, 'shortfall'), (1, 'shia'), (1, 'sex'), (1, 'sewage'), (1, 'separates'), (1, 'see'), (1, 'sects'), (1, 'sectarianism'), (1, 'school'), (1, 'saouda'), (1, 'sanitation'), (1, 'sandstormsenvironment'), (1, 'salt'), (1, 'rugged'), (1, 'river'), (1, 'right'), (1, 'revenue'), (1, 'resulted'), (1, 'resourceslimestone'), (1, 'resourcesforest'), (1, 'represent'), (1, 'remain'), (1, 'religionsmuslim'), (1, 'religion'), (1, 'regional'), (1, 'refugee'), (1, 'referencesmiddle'), (1, 'recognizedmena'), (1, 'read'), (1, 'raw'), (1, 'ratiostotal'), (1, 'ratioat'), (1, 'rather'), (1, 'ratetotal'), (1, 'ratehiv'), (1, 'rate5'), (1, 'rate32'), (1, 'rate29'), (1, 'rate13'), (1, 'rate1'), (1, 'rate0'), (1, 'qornet'), (1, 'pyramidenlargedependency'), (1, 'pyramid'), (1, 'province'), (1, 'protect'), (1, 'prosperity'), (1, 'production'), (1, 'primary'), (1, 'prefer'), (1, 'poverty'), (1, 'portion'), (1, 'populations'), (1, 'population2'), (1, 'pollutantsparticulate'), (1, 'policy'), (1, 'policies'), (1, 'plural'), (1, 'please'), (1, 'plain'), (1, 'phoenicianslanguagesarabic'), (1, 'periods'), (1, 'percentages'), (1, 'palestinian'), (1, 'ottoman'), (1, 'ore'), (1, 'only'), (1, 'oil'), (1, 'official'), (1, 'occupied'), (1, 'numerous'), (1, 'numbers'), (1, 'notesmallest'), (1, 'notesarrow'), (1, 'northern'), (1, 'nmclimatemediterranean'), (1, 'neighboring'), (1, 'nahr'), (1, 'n'), (1, 'mountainselevationhighest'), (1, 'more'), (1, 'mnatural'), (1, 'mmean'), (1, 'mlowest'), (1, 'militia'), (1, 'military'), (1, 'migration'), (1, 'migrant'), (1, 'micrograms'), (1, 'methane'), (1, 'meter'), (1, 'median'), (1, 'matter'), (1, 'maternal'), (1, 'marylandabout'), (1, 'maryland'), (1, 'maronite'), (1, 'marked'), (1, 'mapenlargeland'), (1, 'many'), (1, 'mandate'), (1, 'managementenvironment'), (1, 'major'), (1, 'loss'), (1, 'living'), (1, 'lived'), (1, 'litani'), (1, 'lebaneseethnic'), (1, 'largest'), (1, 'language'), (1, 'landland'), (1, 'land1'), (1, 'kmwater'), (1, 'kmmaritime'), (1, 'kmland'), (1, 'kmcountry'), (1, 'kmcoastline225'), (1, 'kmborder'), (1, 'key'), (1, 'july'), (1, 'jews'), (1, 'issuesdeforestation'), (1, 'isolate'), (1, 'ismailis'), (1, 'irrigated'), (1, 'iron'), (1, 'introductionbackgroundfollowing'), (1, 'interspersed'), (1, 'internal'), (1, 'instability'), (1, 'insecurityexceptional'), (1, 'influenced'), (1, 'indispensable'), (1, 'include'), (1, 'identify'), (1, 'icongeographylocationmiddle'), (1, 'iconage'), (1, 'hospital'), (1, 'hizballah'), (1, 'hindus'), (1, 'helped'), (1, 'health'), (1, 'hazardsearthquakes'), (1, 'groupsarab'), (1, 'groups'), (1, 'group'), (1, 'granted'), (1, 'france'), (1, 'fought'), (1, 'former'), (1, 'foreign'), (1, 'food'), (1, 'followed'), (1, 'financial'), (1, 'finance'), (1, 'fertility'), (1, 'femaletotal'), (1, 'female65'), (1, 'female55'), (1, 'female25'), (1, 'female15'), (1, 'female0'), (1, 'fatalities'), (1, 'factional'), (1, 'factbook'), (1, 'facility'), (1, 'expenditures2'), (1, 'expenditure8'), (1, 'ethnicitypeople'), (1, 'es'), (1, 'erosion'), (1, 'entry'), (1, 'english'), (1, 'empire'), (1, 'emap'), (1, 'elevation'), (1, 'element'), (1, 'education'), (1, 'eastareatotal'), (1, 'dust'), (1, 'due'), (1, 'druze'), (1, 'dioxide'), (1, 'develop'), (1, 'deterioration'), (1, 'description'), (1, 'descendants'), (1, 'densityurbanizationurban'), (1, 'densitynatural'), (1, 'demarcated'), (1, 'deficit'), (1, 'deathsmajor'), (1, 'crossing'), (1, 'crisis'), (1, 'countries'), (1, 'counterattacks'), (1, 'coordinates33'), (1, 'continued'), (1, 'continental'), (1, 'conservationgeography'), (1, 'conservationair'), (1, 'comparativeabout'), (1, 'commission'), (1, 'coalcoal'), (1, 'climatemediterranean'), (1, 'clan'), (1, 'claimsterritorial'), (1, 'civil'), (1, 'citizen'), (1, 'children'), (1, 'catholics'), (1, 'carbon'), (1, 'canaanites'), (1, 'can'), (1, 'called'), (1, 'burning'), (1, 'built'), (1, 'buddhists'), (1, 'brief'), (1, 'boundary'), (1, 'boundariestotal'), (1, 'born'), (1, 'borders'), (1, 'bordering'), (1, 'birthtotal'), (1, 'birthsmale'), (1, 'birthsfemale'), (1, 'birth'), (1, 'between'), (1, 'beqaa'), (1, 'been'), (1, 'beds'), (1, 'bed'), (1, 'be'), (1, 'basic'), (1, 'baha'), (1, 'august'), (1, 'audio'), (1, 'attacks'), (1, 'armenianmajor'), (1, 'armenian'), (1, 'areas'), (1, 'are'), (1, 'arab'), (1, 'anti'), (1, 'ancient'), (1, 'alawites'), (1, 'air'), (1, 'aids2'), (1, 'agricultural'), (1, 'aggregate'), (1, 'agetotal'), (1, 'ages'), (1, 'age'), (1, 'against'), (1, 'after'), (1, 'affiliationfile'), (1, 'affiliation'), (1, 'adjective'), (1, 'additional'), (1, 'acquired'), (1, 'accessimproved'), (1, '')]\n"
     ]
    }
   ],
   "source": [
    "# get rid of stopwords and return sorted dictionary of words and frequencies\n",
    "stopwords = ['a','of','the','is', 'an', 'by', 'this', 'in', 'on', 's', 'i', 'over', 'and', 'or', 'to']\n",
    "\n",
    "def removeStopWords(word_bag, stopwords):\n",
    "    return [w for w in word_bag if w not in stopwords]\n",
    "\n",
    "test_words = removeStopWords(test_words, stopwords)\n",
    "\n",
    "counted_words = wordsToDictionary(test_words)\n",
    "counted_words = sortDictionary(counted_words)\n",
    "print(counted_words)"
   ]
  },
  {
   "cell_type": "code",
   "execution_count": 95,
   "metadata": {},
   "outputs": [
    {
     "name": "stdout",
     "output_type": "stream",
     "text": [
      "Top 5 frequent words:\n",
      "\test ocurred: 41 Times\n",
      "\tpopulation ocurred: 31 Times\n",
      "\tworld ocurred: 19 Times\n",
      "\tcountry ocurred: 19 Times\n",
      "\tcomparison ocurred: 18 Times\n"
     ]
    }
   ],
   "source": [
    "# print top 5 most frequent words\n",
    "print(\"Top 5 frequent words:\")\n",
    "for i in range(5):\n",
    "    print (\"\\t\" + counted_words[i][1] + \" ocurred: \" + str( counted_words[i][0] ) + \" Times\" )\n"
   ]
  },
  {
   "cell_type": "code",
   "execution_count": 96,
   "metadata": {},
   "outputs": [
    {
     "name": "stdout",
     "output_type": "stream",
     "text": [
      "lebanon occured more than lebanese\n",
      "lebanon occured more than armenian\n",
      "lebanon occured more than christian\n",
      "lebanese occured more than armenian\n",
      "lebanese occured the same as christian\n",
      "armenian occured less than  christian\n"
     ]
    }
   ],
   "source": [
    "\n",
    "key_words = ['lebanon', 'lebanese', 'armenian', 'christian']\n",
    "\n",
    "# function to extract key words (along with their frequencies) to a smaller dictionary \n",
    "def addKeyWords(word_bag, key_words):\n",
    "    return [w for w in word_bag if w in key_words]\n",
    "\n",
    "\n",
    "freq_bag = addKeyWords( word_bag, key_words) \n",
    "\n",
    "freq_dict = wordsToDictionary(freq_bag)\n",
    "# loop to compare ferquencies of the key words and print out how they compare to each other\n",
    "for i in range (len (key_words )):\n",
    "    for j in range (i + 1,len(key_words) ):\n",
    "        if freq_dict.get(key_words[i]) == freq_dict.get(key_words[j]):\n",
    "            print( key_words[ i ] + \" occured the same as \" + key_words[ j ])\n",
    "        elif freq_dict.get(key_words[i]) < freq_dict.get(key_words[j]):\n",
    "            print( key_words[ i ] + \" occured less than  \" + key_words[ j ])\n",
    "        elif freq_dict.get(key_words[i]) >freq_dict.get(key_words[j]):\n",
    "            print( key_words[ i ] + \" occured more than \" + key_words[ j ])\n",
    " \n"
   ]
  },
  {
   "cell_type": "code",
   "execution_count": null,
   "metadata": {},
   "outputs": [],
   "source": []
  }
 ],
 "metadata": {
  "interpreter": {
   "hash": "2625eeba1221bd1f09cde5f4b1faf290787104de5008c34474d169cef37368c5"
  },
  "kernelspec": {
   "display_name": "Python 3 (ipykernel)",
   "language": "python",
   "name": "python3"
  },
  "language_info": {
   "codemirror_mode": {
    "name": "ipython",
    "version": 3
   },
   "file_extension": ".py",
   "mimetype": "text/x-python",
   "name": "python",
   "nbconvert_exporter": "python",
   "pygments_lexer": "ipython3",
   "version": "3.8.3"
  }
 },
 "nbformat": 4,
 "nbformat_minor": 4
}
