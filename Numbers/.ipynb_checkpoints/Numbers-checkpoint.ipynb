{
 "cells": [
  {
   "cell_type": "markdown",
   "metadata": {},
   "source": [
    "<h1> Numbers </h1>\n",
    "    <h3> GSS Data Exploration Using Science News Sources Variables</h3>\n",
    "    <h4> Import the needed libraries.\n",
    "    <br> Choose the variables of interest and make them into a list.\n",
    "    <br> Read the file at the selected columns.\n",
    "    <br> Limit the dataframe to selected years.\n",
    "    </h4>"
   ]
  },
  {
   "cell_type": "code",
   "execution_count": 2,
   "metadata": {},
   "outputs": [
    {
     "data": {
      "text/html": [
       "<div>\n",
       "<style scoped>\n",
       "    .dataframe tbody tr th:only-of-type {\n",
       "        vertical-align: middle;\n",
       "    }\n",
       "\n",
       "    .dataframe tbody tr th {\n",
       "        vertical-align: top;\n",
       "    }\n",
       "\n",
       "    .dataframe thead th {\n",
       "        text-align: right;\n",
       "    }\n",
       "</style>\n",
       "<table border=\"1\" class=\"dataframe\">\n",
       "  <thead>\n",
       "    <tr style=\"text-align: right;\">\n",
       "      <th></th>\n",
       "      <th>id</th>\n",
       "      <th>year</th>\n",
       "      <th>age</th>\n",
       "      <th>sex</th>\n",
       "      <th>race</th>\n",
       "      <th>degree</th>\n",
       "      <th>scifrom</th>\n",
       "      <th>SCINEWS1</th>\n",
       "      <th>SCINEWS2</th>\n",
       "      <th>SCINEWS3</th>\n",
       "    </tr>\n",
       "  </thead>\n",
       "  <tbody>\n",
       "    <tr>\n",
       "      <th>53043</th>\n",
       "      <td>1</td>\n",
       "      <td>2010</td>\n",
       "      <td>31</td>\n",
       "      <td>male</td>\n",
       "      <td>other</td>\n",
       "      <td>bachelor</td>\n",
       "      <td>NaN</td>\n",
       "      <td>NaN</td>\n",
       "      <td>NaN</td>\n",
       "      <td>NaN</td>\n",
       "    </tr>\n",
       "    <tr>\n",
       "      <th>53044</th>\n",
       "      <td>2</td>\n",
       "      <td>2010</td>\n",
       "      <td>23</td>\n",
       "      <td>female</td>\n",
       "      <td>white</td>\n",
       "      <td>bachelor</td>\n",
       "      <td>NaN</td>\n",
       "      <td>NaN</td>\n",
       "      <td>NaN</td>\n",
       "      <td>NaN</td>\n",
       "    </tr>\n",
       "    <tr>\n",
       "      <th>53045</th>\n",
       "      <td>3</td>\n",
       "      <td>2010</td>\n",
       "      <td>71</td>\n",
       "      <td>female</td>\n",
       "      <td>black</td>\n",
       "      <td>LT HIGH SCHOOL</td>\n",
       "      <td>NaN</td>\n",
       "      <td>NaN</td>\n",
       "      <td>NaN</td>\n",
       "      <td>NaN</td>\n",
       "    </tr>\n",
       "    <tr>\n",
       "      <th>53046</th>\n",
       "      <td>4</td>\n",
       "      <td>2010</td>\n",
       "      <td>82</td>\n",
       "      <td>female</td>\n",
       "      <td>white</td>\n",
       "      <td>LT HIGH SCHOOL</td>\n",
       "      <td>NaN</td>\n",
       "      <td>NaN</td>\n",
       "      <td>NaN</td>\n",
       "      <td>NaN</td>\n",
       "    </tr>\n",
       "    <tr>\n",
       "      <th>53047</th>\n",
       "      <td>5</td>\n",
       "      <td>2010</td>\n",
       "      <td>78</td>\n",
       "      <td>female</td>\n",
       "      <td>black</td>\n",
       "      <td>LT HIGH SCHOOL</td>\n",
       "      <td>NaN</td>\n",
       "      <td>NaN</td>\n",
       "      <td>NaN</td>\n",
       "      <td>NaN</td>\n",
       "    </tr>\n",
       "    <tr>\n",
       "      <th>...</th>\n",
       "      <td>...</td>\n",
       "      <td>...</td>\n",
       "      <td>...</td>\n",
       "      <td>...</td>\n",
       "      <td>...</td>\n",
       "      <td>...</td>\n",
       "      <td>...</td>\n",
       "      <td>...</td>\n",
       "      <td>...</td>\n",
       "      <td>...</td>\n",
       "    </tr>\n",
       "    <tr>\n",
       "      <th>64809</th>\n",
       "      <td>2344</td>\n",
       "      <td>2018</td>\n",
       "      <td>37</td>\n",
       "      <td>female</td>\n",
       "      <td>white</td>\n",
       "      <td>HIGH SCHOOL</td>\n",
       "      <td>The Internet</td>\n",
       "      <td>NaN</td>\n",
       "      <td>NaN</td>\n",
       "      <td>Online newspapers</td>\n",
       "    </tr>\n",
       "    <tr>\n",
       "      <th>64810</th>\n",
       "      <td>2345</td>\n",
       "      <td>2018</td>\n",
       "      <td>75</td>\n",
       "      <td>female</td>\n",
       "      <td>white</td>\n",
       "      <td>HIGH SCHOOL</td>\n",
       "      <td>tv</td>\n",
       "      <td>NaN</td>\n",
       "      <td>NaN</td>\n",
       "      <td>NaN</td>\n",
       "    </tr>\n",
       "    <tr>\n",
       "      <th>64811</th>\n",
       "      <td>2346</td>\n",
       "      <td>2018</td>\n",
       "      <td>67</td>\n",
       "      <td>female</td>\n",
       "      <td>white</td>\n",
       "      <td>HIGH SCHOOL</td>\n",
       "      <td>NaN</td>\n",
       "      <td>NaN</td>\n",
       "      <td>NaN</td>\n",
       "      <td>NaN</td>\n",
       "    </tr>\n",
       "    <tr>\n",
       "      <th>64812</th>\n",
       "      <td>2347</td>\n",
       "      <td>2018</td>\n",
       "      <td>72</td>\n",
       "      <td>male</td>\n",
       "      <td>white</td>\n",
       "      <td>HIGH SCHOOL</td>\n",
       "      <td>The Internet</td>\n",
       "      <td>NaN</td>\n",
       "      <td>NaN</td>\n",
       "      <td>Search engine (Google, Bing)</td>\n",
       "    </tr>\n",
       "    <tr>\n",
       "      <th>64813</th>\n",
       "      <td>2348</td>\n",
       "      <td>2018</td>\n",
       "      <td>79</td>\n",
       "      <td>female</td>\n",
       "      <td>white</td>\n",
       "      <td>HIGH SCHOOL</td>\n",
       "      <td>The Internet</td>\n",
       "      <td>NaN</td>\n",
       "      <td>NaN</td>\n",
       "      <td>DON'T KNOW</td>\n",
       "    </tr>\n",
       "  </tbody>\n",
       "</table>\n",
       "<p>11771 rows × 10 columns</p>\n",
       "</div>"
      ],
      "text/plain": [
       "         id  year age     sex   race          degree       scifrom SCINEWS1  \\\n",
       "53043     1  2010  31    male  other        bachelor           NaN      NaN   \n",
       "53044     2  2010  23  female  white        bachelor           NaN      NaN   \n",
       "53045     3  2010  71  female  black  LT HIGH SCHOOL           NaN      NaN   \n",
       "53046     4  2010  82  female  white  LT HIGH SCHOOL           NaN      NaN   \n",
       "53047     5  2010  78  female  black  LT HIGH SCHOOL           NaN      NaN   \n",
       "...     ...   ...  ..     ...    ...             ...           ...      ...   \n",
       "64809  2344  2018  37  female  white     HIGH SCHOOL  The Internet      NaN   \n",
       "64810  2345  2018  75  female  white     HIGH SCHOOL            tv      NaN   \n",
       "64811  2346  2018  67  female  white     HIGH SCHOOL           NaN      NaN   \n",
       "64812  2347  2018  72    male  white     HIGH SCHOOL  The Internet      NaN   \n",
       "64813  2348  2018  79  female  white     HIGH SCHOOL  The Internet      NaN   \n",
       "\n",
       "      SCINEWS2                      SCINEWS3  \n",
       "53043      NaN                           NaN  \n",
       "53044      NaN                           NaN  \n",
       "53045      NaN                           NaN  \n",
       "53046      NaN                           NaN  \n",
       "53047      NaN                           NaN  \n",
       "...        ...                           ...  \n",
       "64809      NaN             Online newspapers  \n",
       "64810      NaN                           NaN  \n",
       "64811      NaN                           NaN  \n",
       "64812      NaN  Search engine (Google, Bing)  \n",
       "64813      NaN                    DON'T KNOW  \n",
       "\n",
       "[11771 rows x 10 columns]"
      ]
     },
     "execution_count": 2,
     "metadata": {},
     "output_type": "execute_result"
    }
   ],
   "source": [
    "import pandas as pd\n",
    "import matplotlib.pyplot as plt\n",
    "\n",
    "\n",
    "columns = ['id', 'year', 'age', 'sex', 'race', 'degree', 'scifrom', 'SCINEWS1', 'SCINEWS2', 'SCINEWS3']\n",
    "df = pd.read_stata(\"/Users/nada/Downloads/GSS_stata/GSS7218_R1.dta\", columns=columns)\n",
    "df = df.loc[df['year'].isin({2010, 2012, 2014, 2016, 2018})]\n",
    "df"
   ]
  },
  {
   "cell_type": "markdown",
   "metadata": {},
   "source": [
    "<h3> Explore the dataframe and the categories included in each column.</h3>"
   ]
  },
  {
   "cell_type": "code",
   "execution_count": 3,
   "metadata": {},
   "outputs": [
    {
     "data": {
      "text/plain": [
       "[Printed newspapers, OTHER SPECIFY, Online newspapers]\n",
       "Categories (3, object): [Printed newspapers < Online newspapers < OTHER SPECIFY]"
      ]
     },
     "execution_count": 3,
     "metadata": {},
     "output_type": "execute_result"
    }
   ],
   "source": [
    "\n",
    "df1 = df.loc[df['SCINEWS1'].notnull()]\n",
    "df1.SCINEWS1.unique()"
   ]
  },
  {
   "cell_type": "code",
   "execution_count": 4,
   "metadata": {},
   "outputs": [
    {
     "data": {
      "text/plain": [
       "[Printed magazines, Online magazines, OTHER SPECIFY]\n",
       "Categories (3, object): [Printed magazines < Online magazines < OTHER SPECIFY]"
      ]
     },
     "execution_count": 4,
     "metadata": {},
     "output_type": "execute_result"
    }
   ],
   "source": [
    "df2 = df.loc[df['SCINEWS2'].notnull()]\n",
    "\n",
    "df2.SCINEWS2.unique()"
   ]
  },
  {
   "cell_type": "code",
   "execution_count": 5,
   "metadata": {},
   "outputs": [
    {
     "data": {
      "text/plain": [
       "[Science site, Online newspapers, No answer, Online magazines, DON'T KNOW, ..., Search engine (Google, Bing), Electronic books & reports, Other, Wikipedia, Government site]\n",
       "Length: 11\n",
       "Categories (11, object): [Online newspapers < Online magazines < Science site < News site ... Other < Search engine (Google, Bing) < DON'T KNOW < No answer]"
      ]
     },
     "execution_count": 5,
     "metadata": {},
     "output_type": "execute_result"
    }
   ],
   "source": [
    "df3 = df.loc[df['SCINEWS3'].notnull()]\n",
    "df3.SCINEWS3.unique()"
   ]
  },
  {
   "cell_type": "code",
   "execution_count": 6,
   "metadata": {},
   "outputs": [
    {
     "data": {
      "text/plain": [
       "[tv, The Internet, Magazines, Newspapers, Books Other printed material, ..., Other, Radio, Family, Friends Colleagues, Ted Talks]\n",
       "Length: 11\n",
       "Categories (11, object): [Newspapers < Magazines < The Internet < Books Other printed material ... Family < Friends Colleagues < Other < Ted Talks]"
      ]
     },
     "execution_count": 6,
     "metadata": {},
     "output_type": "execute_result"
    }
   ],
   "source": [
    "df4 = df.loc[df['scifrom'].notnull()]\n",
    "df4.scifrom.unique()"
   ]
  },
  {
   "cell_type": "code",
   "execution_count": 7,
   "metadata": {},
   "outputs": [
    {
     "data": {
      "text/plain": [
       "[bachelor, LT HIGH SCHOOL, JUNIOR COLLEGE, HIGH SCHOOL, graduate]\n",
       "Categories (5, object): [LT HIGH SCHOOL < HIGH SCHOOL < JUNIOR COLLEGE < bachelor < graduate]"
      ]
     },
     "execution_count": 7,
     "metadata": {},
     "output_type": "execute_result"
    }
   ],
   "source": [
    "df5 = df.loc[df['degree'].notnull()]\n",
    "df5.degree.unique()"
   ]
  },
  {
   "cell_type": "markdown",
   "metadata": {},
   "source": [
    "<h3> Visualize the relationship between ScienceNews3 and year.</h3>"
   ]
  },
  {
   "cell_type": "code",
   "execution_count": 9,
   "metadata": {
    "scrolled": true
   },
   "outputs": [
    {
     "data": {
      "image/png": "[encoded data removed]",
      "text/plain": [
       "<Figure size 720x360 with 1 Axes>"
      ]
     },
     "metadata": {
      "needs_background": "light"
     },
     "output_type": "display_data"
    }
   ],
   "source": [
    "df.groupby('SCINEWS3')['year'].plot(kind='hist', bins=30, figsize = (10,5))\n",
    "plt.xlabel('Sci. info')\n",
    "plt.legend();"
   ]
  },
  {
   "cell_type": "markdown",
   "metadata": {},
   "source": [
    "<h3> Remove the non-numerical category in age.</h3>"
   ]
  },
  {
   "cell_type": "code",
   "execution_count": 47,
   "metadata": {},
   "outputs": [
    {
     "data": {
      "text/plain": [
       "count    11632.000000\n",
       "mean        48.356431\n",
       "std         17.365963\n",
       "min         18.000000\n",
       "25%         34.000000\n",
       "50%         48.000000\n",
       "75%         61.000000\n",
       "max         88.000000\n",
       "Name: age, dtype: float64"
      ]
     },
     "execution_count": 47,
     "metadata": {},
     "output_type": "execute_result"
    }
   ],
   "source": [
    "df6 = df.loc[df['age'].notnull()]\n",
    "\n",
    "df6=df6[ df6['age'] != '89 OR OLDER' ]\n",
    "\n",
    "df6['age'] = [ int (x) for x in df6['age'] ]\n",
    "df6.age.describe()\n"
   ]
  },
  {
   "cell_type": "markdown",
   "metadata": {},
   "source": [
    "<h3> Visualize the relationship between ScienceNews3 and age. </h3>"
   ]
  },
  {
   "cell_type": "code",
   "execution_count": 48,
   "metadata": {},
   "outputs": [
    {
     "data": {
      "image/png": "[encoded data removed]",
      "text/plain": [
       "<Figure size 1080x720 with 1 Axes>"
      ]
     },
     "metadata": {
      "needs_background": "light"
     },
     "output_type": "display_data"
    }
   ],
   "source": [
    "df6.groupby('SCINEWS3')['age'].plot(kind='hist', bins=30, figsize = (15,10))\n",
    "plt.xlabel('age')\n",
    "plt.legend();"
   ]
  },
  {
   "cell_type": "markdown",
   "metadata": {},
   "source": [
    "<h3> Visualize the relationship between Scifrom and year. </h3>"
   ]
  },
  {
   "cell_type": "code",
   "execution_count": 49,
   "metadata": {},
   "outputs": [
    {
     "data": {
      "image/png": "[encoded data removed]",
      "text/plain": [
       "<Figure size 1080x720 with 1 Axes>"
      ]
     },
     "metadata": {
      "needs_background": "light"
     },
     "output_type": "display_data"
    }
   ],
   "source": [
    "df4.groupby('scifrom')['year'].plot(kind='hist', bins = 30, figsize = (15,10))\n",
    "plt.xlabel('year')\n",
    "plt.legend();"
   ]
  },
  {
   "cell_type": "markdown",
   "metadata": {},
   "source": [
    "<h3> Group by ScienceNews3 and degree, and get the average age for the groups. </h3>"
   ]
  },
  {
   "cell_type": "code",
   "execution_count": 193,
   "metadata": {},
   "outputs": [
    {
     "data": {
      "text/plain": [
       "SCINEWS3                      degree        \n",
       "Online newspapers             LT HIGH SCHOOL    37.0\n",
       "                              HIGH SCHOOL       39.0\n",
       "                              JUNIOR COLLEGE    44.0\n",
       "                              bachelor          44.0\n",
       "                              graduate          44.0\n",
       "Online magazines              LT HIGH SCHOOL    37.0\n",
       "                              HIGH SCHOOL       39.0\n",
       "                              JUNIOR COLLEGE    39.0\n",
       "                              bachelor          42.0\n",
       "                              graduate          45.0\n",
       "Science site                  LT HIGH SCHOOL    41.0\n",
       "                              HIGH SCHOOL       38.0\n",
       "                              JUNIOR COLLEGE    44.0\n",
       "                              bachelor          45.0\n",
       "                              graduate          47.0\n",
       "News site                     LT HIGH SCHOOL    52.0\n",
       "                              HIGH SCHOOL       38.0\n",
       "                              JUNIOR COLLEGE    42.0\n",
       "                              bachelor          44.0\n",
       "                              graduate          45.0\n",
       "Electronic books & reports    LT HIGH SCHOOL     NaN\n",
       "                              HIGH SCHOOL       45.0\n",
       "                              JUNIOR COLLEGE     NaN\n",
       "                              bachelor           NaN\n",
       "                              graduate          53.0\n",
       "Wikipedia                     LT HIGH SCHOOL     NaN\n",
       "                              HIGH SCHOOL       35.0\n",
       "                              JUNIOR COLLEGE    38.0\n",
       "                              bachelor          48.0\n",
       "                              graduate          55.0\n",
       "Government site               LT HIGH SCHOOL     NaN\n",
       "                              HIGH SCHOOL       45.0\n",
       "                              JUNIOR COLLEGE    44.0\n",
       "                              bachelor          52.0\n",
       "                              graduate          54.0\n",
       "Other                         LT HIGH SCHOOL    30.0\n",
       "                              HIGH SCHOOL       43.0\n",
       "                              JUNIOR COLLEGE    40.0\n",
       "                              bachelor          44.0\n",
       "                              graduate          51.0\n",
       "Search engine (Google, Bing)  LT HIGH SCHOOL    37.0\n",
       "                              HIGH SCHOOL       42.0\n",
       "                              JUNIOR COLLEGE    41.0\n",
       "                              bachelor          47.0\n",
       "                              graduate          55.0\n",
       "DON'T KNOW                    LT HIGH SCHOOL    33.0\n",
       "                              HIGH SCHOOL       45.0\n",
       "                              JUNIOR COLLEGE     NaN\n",
       "                              bachelor          37.0\n",
       "                              graduate          42.0\n",
       "No answer                     LT HIGH SCHOOL    48.0\n",
       "                              HIGH SCHOOL       41.0\n",
       "                              JUNIOR COLLEGE    49.0\n",
       "                              bachelor          34.0\n",
       "                              graduate          51.0\n",
       "Name: age, dtype: float64"
      ]
     },
     "execution_count": 193,
     "metadata": {},
     "output_type": "execute_result"
    }
   ],
   "source": [
    "df7 = df6.loc[ df[ 'degree' ].notnull() ]\n",
    "\n",
    "df7=df7.groupby( ['SCINEWS3', 'degree'] )['age'].mean().round()\n",
    "df7"
   ]
  },
  {
   "cell_type": "markdown",
   "metadata": {},
   "source": [
    "<h3> Replace the categorical value in the column \"sex\" with numerical values. Get mean and median. </h3>"
   ]
  },
  {
   "cell_type": "code",
   "execution_count": 139,
   "metadata": {},
   "outputs": [
    {
     "name": "stdout",
     "output_type": "stream",
     "text": [
      "59822    0\n",
      "56291    1\n",
      "54513    1\n",
      "59732    0\n",
      "60469    1\n",
      "56432    0\n",
      "64587    1\n",
      "61608    0\n",
      "Name: sex, dtype: int64\n",
      "Mean: 0.5\n",
      "Median: 0.5\n"
     ]
    }
   ],
   "source": [
    "sex_sample = df.loc[df['sex'].notnull()].sample(8)['sex']\n",
    "sex_sample = sex_sample.replace(['male', 'female'], [0, 1])\n",
    "print(sex_sample)\n",
    "\n",
    "print(\"Mean:\", sex_sample.mean())\n",
    "print(\"Median:\", sex_sample.median())\n"
   ]
  }
 ],
 "metadata": {
  "kernelspec": {
   "display_name": "Python 3",
   "language": "python",
   "name": "python3"
  },
  "language_info": {
   "codemirror_mode": {
    "name": "ipython",
    "version": 3
   },
   "file_extension": ".py",
   "mimetype": "text/x-python",
   "name": "python",
   "nbconvert_exporter": "python",
   "pygments_lexer": "ipython3",
   "version": "3.8.3"
  }
 },
 "nbformat": 4,
 "nbformat_minor": 4
}
