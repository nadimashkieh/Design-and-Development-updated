{
 "cells": [
  {
   "cell_type": "code",
   "execution_count": null,
   "id": "6a6d2a79",
   "metadata": {},
   "outputs": [],
   "source": [
    "import configparser\n",
    "CONFIG = configparser.ConfigParser()\n",
    "CONFIG.read('access_copy.ini')"
   ]
  },
  {
   "cell_type": "code",
   "execution_count": null,
   "id": "59eb69bd",
   "metadata": {},
   "outputs": [],
   "source": [
    "import tweepy\n",
    "import csv \n",
    "\n",
    "class StdOutListener(tweepy.Stream):\n",
    "    def on_status(self, status):\n",
    "        # saves the tweet object\n",
    "        user = status.author.screen_name\n",
    "        location = status.user.location\n",
    "        timeTweet = status.created_at\n",
    "        source = status.source\n",
    "        tweet = status.text\n",
    "        writer.writerow([tweet,timeTweet,user,location,source])"
   ]
  },
  {
   "cell_type": "code",
   "execution_count": null,
   "id": "a92db9a1",
   "metadata": {},
   "outputs": [],
   "source": [
    "def start_streaming():\n",
    "     # Opening a CSV file to save the gathered tweets\n",
    "        with open(\"new_tweets.csv\", 'w', encoding=\"utf-8\", errors=\"ignore\") as file:\n",
    "            global writer\n",
    "            writer = csv.writer(file)\n",
    "\n",
    "            # Add a header row to the CSV\n",
    "            writer.writerow([\"Tweet\", \"Date\", \"User\",\"Location\",\"Source\"])\n",
    "\n",
    "            # Creating a Stream\n",
    "            try:\n",
    "                listener = StdOutListener(CONFIG['DEFAULT']['consumer_key'], CONFIG['DEFAULT']['consumer_secret'], CONFIG['DEFAULT']['access_token'], CONFIG['DEFAULT']['access_token_secret'])\n",
    "                listener.filter(track=[\"COVIDvaccin\"])  \n",
    "            except KeyboardInterrupt:\n",
    "                #User pressed ctrl+c or cmd+c -- get ready to exit the program\n",
    "                print(\"- KeyboardInterrupt caught. Closing stream and exiting.\")\n",
    "                listener.disconnect()\n",
    "                pass "
   ]
  }
 ],
 "metadata": {
  "kernelspec": {
   "display_name": "Python 3 (ipykernel)",
   "language": "python",
   "name": "python3"
  },
  "language_info": {
   "codemirror_mode": {
    "name": "ipython",
    "version": 3
   },
   "file_extension": ".py",
   "mimetype": "text/x-python",
   "name": "python",
   "nbconvert_exporter": "python",
   "pygments_lexer": "ipython3",
   "version": "3.8.3"
  }
 },
 "nbformat": 4,
 "nbformat_minor": 5
}
