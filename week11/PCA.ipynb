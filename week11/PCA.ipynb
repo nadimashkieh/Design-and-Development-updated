{
 "cells": [
  {
   "cell_type": "markdown",
   "id": "ef7dd712",
   "metadata": {},
   "source": [
    "<h1> PCA </h1>\n",
    "    <h3> Import libraries. </h3>"
   ]
  },
  {
   "cell_type": "code",
   "execution_count": 32,
   "id": "4e4681b2",
   "metadata": {},
   "outputs": [
    {
     "name": "stderr",
     "output_type": "stream",
     "text": [
      "[nltk_data] Downloading package averaged_perceptron_tagger to\n",
      "[nltk_data]     /Users/nada/nltk_data...\n",
      "[nltk_data]   Package averaged_perceptron_tagger is already up-to-\n",
      "[nltk_data]       date!\n",
      "[nltk_data] Downloading package punkt to /Users/nada/nltk_data...\n",
      "[nltk_data]   Package punkt is already up-to-date!\n"
     ]
    }
   ],
   "source": [
    "import nltk\n",
    "nltk.download('averaged_perceptron_tagger')\n",
    "nltk.download('punkt')\n",
    "#OS is for navigating directories on the computer\n",
    "import os\n"
   ]
  },
  {
   "cell_type": "markdown",
   "id": "f5a865a6",
   "metadata": {},
   "source": [
    "<h3> Using os, import text files from directory. </h3>"
   ]
  },
  {
   "cell_type": "code",
   "execution_count": 33,
   "id": "2de8aba6",
   "metadata": {},
   "outputs": [],
   "source": [
    "textdir = '/Users/nada/Documents/GitHub/Design-and-Development-updated/week11/text_files'\n",
    "os.chdir(textdir)"
   ]
  },
  {
   "cell_type": "markdown",
   "id": "1389c250",
   "metadata": {},
   "source": [
    "<h4> Create a for loop to add an output name to the filename.\n",
    "    <br> Open the output file, read the text from the file.\n",
    "    <br> Splikt the text into a list of sentences.\n",
    "    <br> For each word and each part-of-speech tag that you get.\n",
    "    <br> When NLTK tokenizes the sentence, If the part-of-speech is noun,\n",
    "    <br> Write the word to the output file.\n",
    "</h4>    "
   ]
  },
  {
   "cell_type": "code",
   "execution_count": 34,
   "id": "3f6324b7",
   "metadata": {},
   "outputs": [
    {
     "name": "stdout",
     "output_type": "stream",
     "text": [
      "7-mdp-39015037691857-1636155613-nouns.txt\n",
      "0-uc1-c086758171-1636155719-nouns.txt\n",
      "6-uc1-31822035016773-1636155543-nouns.txt\n",
      "2-uc1-c066942036-1636155899-nouns.txt\n",
      ".DS_Store\n",
      "5-mdp-39015037691857-1636155384.txt\n",
      "1-mdp-39015032273156-1636155235.txt\n",
      "9-pur1-32754064850740-1636155478.txt\n",
      "4-uc1-c066942036-1636155806-nouns.txt\n",
      "9-pur1-32754064850740-1636155478-nouns.txt\n",
      "6-uc1-31822035016773-1636155543.txt\n",
      "8-uc1-31822034405175-1636154922.txt\n",
      "1-mdp-39015032273156-1636155235-nouns.txt\n",
      "0-uc1-c086758171-1636155719.txt\n",
      "3-mdp-39015034887615-1636155317-nouns.txt\n",
      "4-uc1-c066942036-1636155806.txt\n",
      "7-mdp-39015037691857-1636155613.txt\n",
      "5-mdp-39015037691857-1636155384-nouns.txt\n",
      "8-uc1-31822034405175-1636154922-nouns.txt\n",
      "2-uc1-c066942036-1636155899.txt\n",
      "3-mdp-39015034887615-1636155317.txt\n"
     ]
    }
   ],
   "source": [
    "for filename in os.listdir(textdir):\n",
    "    #If the filename ends with .txt...\n",
    "    if not filename.endswith('-adj.txt'):\n",
    "        #Create an output name that adds '-nouns' to the filename\n",
    "        outname = filename.replace('.txt','-adj.txt')\n",
    "        #Open the file\n",
    "        with open(filename, 'r', encoding=\"utf-8\") as f:\n",
    "            #Open the output file\n",
    "            print(filename)\n",
    "            with open(outname, 'w') as out:\n",
    "                #Read the text from the file\n",
    "                text = f.read()\n",
    "                #print(text)\n",
    "                #Split the text into a list of sentences\n",
    "                sentences = nltk.sent_tokenize(text)\n",
    "                #print( sentences )\n",
    "                #For each sentence in the list of sentences...\n",
    "                for sentence in sentences:\n",
    "                    #For each word and each part-of-speech tag that you get\n",
    "                    #When NLTK tokenizes the sentence (splitting words from punctuation, etc.)\n",
    "                    for word,pos in nltk.pos_tag(nltk.word_tokenize(str(sentence))):\n",
    "                        #If the part-of-speech is noun\n",
    "                        #if (pos == 'NN' or pos == 'NNS'):\n",
    "                        #You can sub in other parts of speech, too\n",
    "                        #Just comment out the noun code, and uncomment one of these\n",
    "                        #Adverbs\n",
    "                        #if (pos == 'RB' or pos == 'RBR' or pos == 'RBS'):\n",
    "                        #Adjectives\n",
    "                        if (pos == 'JJ' or pos == 'JJR' or pos == 'JJS'):\n",
    "                        #Verbs\n",
    "                        #if (pos == 'VB' or pos == 'VBD' or pos == 'VBG' or pos == 'VBN' or pos == 'VBP' or pos == 'VBZ'):\n",
    "                            #Write the word (which should be a noun) to the output file\n",
    "                            out.write(word)\n",
    "                            #Write a space so the words don't smush together\n",
    "                            out.write(' ')"
   ]
  },
  {
   "cell_type": "markdown",
   "id": "5e1a0cfc",
   "metadata": {},
   "source": [
    "<h3> Load the documents and titles into lists.\n",
    "    <br> Create a for loop to populate the lists with the nouns.\n",
    "    <br> Convert into lower case and split.\n",
    "    <br> Extract slices from the text using start and end indeces, and segment count.\n",
    " </h3>   "
   ]
  },
  {
   "cell_type": "code",
   "execution_count": 35,
   "id": "8bc684c3",
   "metadata": {},
   "outputs": [],
   "source": [
    "def load_directory(directory, max_length):\n",
    "    documents, titles = [], []\n",
    "    for filename in os.scandir(directory):\n",
    "        #change this to analyze a different component after changing the save above\n",
    "        if not filename.name.endswith('-adj.txt'):\n",
    "            continue\n",
    "\n",
    "        with open(filename.path) as f:\n",
    "            contents = f.read()\n",
    "        \n",
    "        lemmas = contents.lower().split()\n",
    "\n",
    "        start_idx, end_idx, segm_cnt = 0, max_length, 1\n",
    "        \n",
    "        # extract slices from the text:\n",
    "        #print(len(lemmas), start_idx, end_idx)\n",
    "        while end_idx < len(lemmas):\n",
    "            #print(len(lemmas), start_idx, end_idx)\n",
    "            documents.append(' '.join(lemmas[start_idx:end_idx]))\n",
    "            title = filename.name.replace('-adj.txt', '')\n",
    "            titles.append(f\"{title}-{segm_cnt}\")\n",
    "\n",
    "            start_idx += max_length\n",
    "            end_idx += max_length\n",
    "            segm_cnt += 1\n",
    "\n",
    "    return documents, titles"
   ]
  },
  {
   "cell_type": "markdown",
   "id": "e6f1e957",
   "metadata": {},
   "source": [
    "<h3> Run the contents through vectorize.</h3>"
   ]
  },
  {
   "cell_type": "code",
   "execution_count": 48,
   "id": "b47816c3",
   "metadata": {},
   "outputs": [
    {
     "name": "stdout",
     "output_type": "stream",
     "text": [
      "20\n",
      "(20, 30)\n",
      "['1', 'adverse', 'available', 'clinical', 'common', 'dose', 'effective', 'first', 'high', 'human']\n"
     ]
    },
    {
     "name": "stderr",
     "output_type": "stream",
     "text": [
      "/Users/nada/opt/anaconda3/lib/python3.8/site-packages/sklearn/utils/deprecation.py:87: FutureWarning: Function get_feature_names is deprecated; get_feature_names is deprecated in 1.0 and will be removed in 1.2. Please use get_feature_names_out instead.\n",
      "  warnings.warn(msg, category=FutureWarning)\n"
     ]
    }
   ],
   "source": [
    "documents, titles = load_directory(textdir, 10000)\n",
    "print(len(documents))\n",
    "import sklearn.feature_extraction.text as text\n",
    "#print(textdir)\n",
    "\n",
    "vectorizer = text.CountVectorizer(max_features=30, token_pattern=r\"(?u)\\b\\w+\\b\")\n",
    "v_documents = vectorizer.fit_transform(documents).toarray()\n",
    "\n",
    "print(v_documents.shape)\n",
    "\n",
    "print(vectorizer.get_feature_names()[:10])"
   ]
  },
  {
   "cell_type": "markdown",
   "id": "3f941f25",
   "metadata": {},
   "source": [
    "<h3> Run a 2 word vizualization comparing all texts. </h3>"
   ]
  },
  {
   "cell_type": "code",
   "execution_count": 49,
   "id": "54bb5097",
   "metadata": {},
   "outputs": [
    {
     "data": {
      "text/plain": [
       "[Text(0.5, 0, 'adverse'), Text(0, 0.5, 'effective')]"
      ]
     },
     "execution_count": 49,
     "metadata": {},
     "output_type": "execute_result"
    },
    {
     "data": {
      "image/png": "[encoded data removed]",
      "text/plain": [
       "<Figure size 432x288 with 1 Axes>"
      ]
     },
     "metadata": {
      "needs_background": "light"
     },
     "output_type": "display_data"
    }
   ],
   "source": [
    "import matplotlib.pyplot as plt\n",
    "import numpy as np\n",
    "\n",
    "words = vectorizer.get_feature_names()\n",
    "\n",
    "titles = np.array(titles)\n",
    "\n",
    "x = v_documents[:, words.index('adverse')]\n",
    "y = v_documents[:, words.index('effective')]\n",
    "\n",
    "fig, ax = plt.subplots()\n",
    "\n",
    "for title in set(titles):\n",
    "    ax.scatter(x[titles==title], y[titles==title], label=title)\n",
    "ax.set(xlabel='adverse', ylabel='effective')\n",
    "#plt.legend();"
   ]
  },
  {
   "cell_type": "markdown",
   "id": "afc8fd4d",
   "metadata": {},
   "source": [
    "<h3> Import sklearn to transform the documents. </h3>"
   ]
  },
  {
   "cell_type": "code",
   "execution_count": 50,
   "id": "647d6a08",
   "metadata": {},
   "outputs": [
    {
     "name": "stdout",
     "output_type": "stream",
     "text": [
      "(20, 30)\n"
     ]
    }
   ],
   "source": [
    "import sklearn.decomposition\n",
    "\n",
    "pca = sklearn.decomposition.PCA(n_components=2)\n",
    "documents_proj = pca.fit_transform( v_documents )\n",
    "\n",
    "print(v_documents.shape)\n"
   ]
  },
  {
   "cell_type": "markdown",
   "id": "84f145dd",
   "metadata": {},
   "source": [
    "<h3> Run a full (PCA) vizualization comparing all texts using the provided PCA boilerplate.</h3>"
   ]
  },
  {
   "cell_type": "code",
   "execution_count": 51,
   "id": "21a90f98",
   "metadata": {},
   "outputs": [
    {
     "data": {
      "image/png": "[encoded data removed]",
      "text/plain": [
       "<Figure size 432x288 with 1 Axes>"
      ]
     },
     "metadata": {
      "needs_background": "light"
     },
     "output_type": "display_data"
    }
   ],
   "source": [
    "c1, c2 = documents_proj[:, 0], documents_proj[:, 1]\n",
    "\n",
    "fig, ax = plt.subplots()\n",
    "ax.scatter(c1, c2, facecolors='none')\n",
    "\n",
    "for p1, p2, title in zip(c1, c2, titles):\n",
    "\n",
    "    ax.text(p1, p2, title[0], fontsize=12,\n",
    "            ha='center', va='center')\n",
    "\n",
    "ax.set(xlabel='PC1', ylabel='PC2');"
   ]
  },
  {
   "cell_type": "markdown",
   "id": "105bfed2",
   "metadata": {},
   "source": [
    "<h3> Data Analysis. </h3>\n",
    "    <p>\n",
    "    <h4>\n",
    "     The documents used in the analysis contain information and recommendations on the epidemiology and \n",
    "     vaccines preventable diseases over several years. The goal of the analysis is to spot the variation over\n",
    "     time, and see which documents have more in common regarding the chosen parameters.\n",
    "     Documents 7 and 3, and documents 2 and 4 for example are similar in content.\n",
    "     Documents 7 and 3 were published in 1996 and 1993 respectively, meaning there was not much of new\n",
    "     contents between these 2 years. Documents 2 and 4 were both published in 1999, which explains the \n",
    "     confounding data.  \n",
    "     Documents 0 and 8 have minimum variation. Both documents were published in 2006.\n",
    "     Documents 3 and 6 are far apart, doc.3 being published in 1993, and doc. 6 in 2011. Throughout the period\n",
    "     spanning over 18 years, much information on the epidemiology and prevention of vaccine preventable \n",
    "     diseases must have changed.\n",
    "     Finally, it would be nice to use bookeh to create an interactive plot with titles, years, publisher, for \n",
    "     example, that appear once we hover over the data points. My attempt to create such a figure failed \n",
    "     unfortunately.\n",
    "</h4>\n",
    "</p>"
   ]
  }
 ],
 "metadata": {
  "kernelspec": {
   "display_name": "Python 3 (ipykernel)",
   "language": "python",
   "name": "python3"
  },
  "language_info": {
   "codemirror_mode": {
    "name": "ipython",
    "version": 3
   },
   "file_extension": ".py",
   "mimetype": "text/x-python",
   "name": "python",
   "nbconvert_exporter": "python",
   "pygments_lexer": "ipython3",
   "version": "3.8.3"
  }
 },
 "nbformat": 4,
 "nbformat_minor": 5
}
