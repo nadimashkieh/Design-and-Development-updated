{
 "cells": [
  {
   "cell_type": "code",
   "execution_count": 212,
   "metadata": {},
   "outputs": [
    {
     "name": "stdout",
     "output_type": "stream",
     "text": [
      "{'titles': ['Narrative of a trip to the Bahamas.', 'The isles of summer, or, Nassau and the Bahamas', 'Isles of summer | Nassau and the Bahamas', 'Enforcement of United States matrimonial property awards in the Bahamas', 'Nassau, island of New Providence, Bahamas. A guide to the sanitarium of the western hemisphere, its attractions, and how to get there;', 'The cruise of Columbus in the Bahamas, 1492.', 'A fight with distances; the States, the Hawaiian Islands, Canada, British Columbia, Cuba, the Bahamas,', 'The Bahama Islands,', 'History of the Bahama Islands, with a special study of the abolition of slavery in the colony,', 'Bahama Islands', 'Ethnic Music of French Louisiana, the Spanish Southwest, and the Bahamas AFS L5', 'A description of East and West Florida and the Bahama Islands, &c. &c.', 'General Conference, Grand Chapters, Holy Royal Arch Masons, Prince Hall Affiliation, United States and the Bahamas ; General Conference of Grand Courts, Heroines of Jericho of the United States and Bahamas, Prince ...', 'General Conference of Grand Courts, Heroines of Jericho of the United States and Bahamas, Prince Hall Affiliates, Inc', 'The standard guide, St. Augustine, east coast of Florida and Nassau ...', 'The standard guide, St. Augustine, east coast of Florida and Nassau.', 'Bahama songs and stories.', 'The standard guide, St. Augustine, east coast of Florida, Nassau and Havana.', 'The natural history of Carolina, Florida, and the Bahama Islands : containing the figures of birds, beasts, fishes, serpents, insects, and plants: particularly the forest-trees, shrubs, and other plants, not hitherto described, ...', 'Histoire naturelle de la Caroline, de la Floride, & des iles de Bahama', 'The effects of combined sea temperature, light, and carbon dioxide on coral bleaching, settlement, and growth : the first annual Combined Effects Think Tank to Support CREWS Modeling', \"Offshore drilling in Cuba and the Bahamas : the U.S. Coast Guard's oil spill readiness and response planning : hearing before the Subcommittee on Coast Guard and Maritime Transportation of the Committee ...\", 'About the Natural History of the Indies.', 'De la natural hystoria de las Indias', 'The natural history of Carolina, Florida and the Bahama Islands : containing the figures of birds, beasts, fishes, serpents, insects, and plants : particularly the forest-trees, shrubs, and other plants, not hitherto ...', 'Histoire naturelle de la Caroline, la Floride, & les isles Bahama', 'North American offshore energy : Mexico and Canada boundary treaties and new drilling by Cuba and Bahamas : oversight hearing before the Subcommittee on Energy and Mineral Resources of the Committee on ...', 'Constitution finder', 'Caribbean newspapers, Series 1, 1718-1876', 'MARC Code List for Countries: Part I - Code Sequence'], 'authors': ['Barbour, Thomas - Allen, Glover M. (Glover Morrill)', 'Jay I. Kislak Collection (Library of Congress) - Ives, Charles', 'Library of Congress. American-British Law Division - Clarke, Stephen F.', 'New York, Nassau and West India Mail Steamship Line', 'Murdock, Joseph Ballard', 'Aubertin, J. J. (John James)', 'Shattuck, George Burbank', 'Geographical Society of Baltimore - Wright, James M. - Shattuck, George Burbank', 'Swartz, Jean V. - Library of Congress. American-British Law Division', 'Edited by Alan Lomax', 'Melish, John', 'Foster & Reynolds Co.', 'Foster & Reynolds Co.', 'Edwards, Charles Lincoln', 'Foster & Reynolds Co.', 'Catesby, Mark - Edwards, George', 'Hendee, James C. - United States. National Oceanic and Atmospheric Administration. Office of Oceanic and Atmospheric Research', 'United States. Congress. House. Committee on Transportation and Infrastructure. Subcommittee on Coast Guard and Maritime Transportation', 'Fernández De Oviedo Y Valdés, Gonzalo', 'Catesby, Mark - Hunnewell, James Frothingham - Hartopp, Edmund C.', 'United States. Congress. House. Committee on Natural Resources. Subcommittee on Energy and Mineral Resources', 'Readex (Firm)', 'Library of Congress Network Development and Marc Standards Office'], 'dates': ['1904', '1880', '1981', '1877', '1884', '1888', '1905', '1905', '1975', '1813', '1906', '1905', '1895', '1905', '1754', '2004', '2012', '1526', '1731', '2012', '2002', '200?']}\n"
     ]
    }
   ],
   "source": [
    "from bs4 import BeautifulSoup\n",
    "import requests  \n",
    "import re\n",
    "\n",
    "url = \"https://www.loc.gov/books/?q=bahamas\"\n",
    "                 \n",
    "user_agent = {'User-agent': 'Mozilla/5.0'}\n",
    "response = requests.get( url, headers = user_agent )\n",
    "soup = BeautifulSoup(response.text, 'html.parser')\n",
    "             \n",
    "#print(soup.prettify())\n",
    "\n",
    "source_dict = { 'titles' : [], 'contributors' : [], 'dates' : [] }\n",
    "\n",
    "#for line in soup.find_all([\"span\", \"li\"], class_=[\"item-description-title\", \"date\",\"contributor\"]):\n",
    "\n",
    "for line in soup.find_all([\"li\"], class_=[\"contributor\"]):\n",
    "    for str in line.stripped_strings:\n",
    "        if not ( str.find(\"Contributor:\") == 0 ):\n",
    "            source_dict['contributors'].append(str)\n",
    "\n",
    "for line in soup.find_all([\"li\"], class_=[\"date\"]):\n",
    "    for str in line.stripped_strings:\n",
    "        if not ( str.find(\"Date:\") == 0 ):\n",
    "            source_dict['dates'].append(str)\n",
    "  \n",
    "for line in soup.find_all([\"span\"], class_=[\"item-description-title\"]):\n",
    "    for str in line.stripped_strings:\n",
    "        if not ( str.find(\"Catalog Record - Electronic Resource Available\") == 0 ):\n",
    "            source_dict['titles'].append(str)\n",
    "\n",
    "   \n",
    "print(source_dict)\n",
    "    \n"
   ]
  },
  {
   "cell_type": "code",
   "execution_count": 146,
   "metadata": {},
   "outputs": [
    {
     "name": "stdout",
     "output_type": "stream",
     "text": [
      "hello\n"
     ]
    }
   ],
   "source": [
    "if(1):\n",
    "    print()"
   ]
  },
  {
   "cell_type": "code",
   "execution_count": 163,
   "metadata": {},
   "outputs": [
    {
     "name": "stdout",
     "output_type": "stream",
     "text": [
      "hello\n"
     ]
    }
   ],
   "source": [
    "str = 'efgabc'\n",
    "if( str.find('abc') != -1):\n",
    "    print('hello')"
   ]
  },
  {
   "cell_type": "code",
   "execution_count": null,
   "metadata": {},
   "outputs": [],
   "source": []
  },
  {
   "cell_type": "code",
   "execution_count": null,
   "metadata": {},
   "outputs": [],
   "source": []
  },
  {
   "cell_type": "code",
   "execution_count": null,
   "metadata": {},
   "outputs": [],
   "source": []
  },
  {
   "cell_type": "code",
   "execution_count": null,
   "metadata": {},
   "outputs": [],
   "source": []
  }
 ],
 "metadata": {
  "kernelspec": {
   "display_name": "Python 3",
   "language": "python",
   "name": "python3"
  },
  "language_info": {
   "codemirror_mode": {
    "name": "ipython",
    "version": 3
   },
   "file_extension": ".py",
   "mimetype": "text/x-python",
   "name": "python",
   "nbconvert_exporter": "python",
   "pygments_lexer": "ipython3",
   "version": "3.8.3"
  }
 },
 "nbformat": 4,
 "nbformat_minor": 4
}
