{
 "cells": [
  {
   "cell_type": "code",
   "execution_count": 3,
   "metadata": {},
   "outputs": [
    {
     "name": "stdout",
     "output_type": "stream",
     "text": [
      "b'\\r\\n\\r\\n<!DOCTYPE html>\\r\\n<html lang=\"en-US\" dir=\"ltr\"  class=\"unknown unknown0\" \\txmlns:fb=\"http://www.facebook.com/2008/fbml\" >\\r\\n<head runat=\"server\" \\tprefix=\"og: http://ogp.me/ns# fb: http://ogp.me/ns/fb# knoema-com: http://ogp.me/ns/fb/knoema-com#\" >\\r\\n    \\t\\t<!-- Google Tag Manager -->\\n\\t\\t<script>(function(w,d,s,l,i){w[l]=w[l]||[];w[l].push({\\'gtm.start\\':\\n\\t\\tnew Date().getTime(),event:\\'gtm.js\\'});var f=d.getElementsByTagName(s)[0],\\n\\t\\tj=d.createElement(s),dl=l!=\\'dataLayer\\'?\\'&l=\\'+l:\\'\\';j.async=true;j.src=\\n\\t\\t\\'https://www.googletagmanager.com/gtm.js?id=\\'+i+dl;f.parentNode.insertBefore(j,f);\\n\\t\\t})(window,document,\\'script\\',\\'dataLayer\\',\\'GTM-NTMKTKM\\');</script>\\n\\t\\t<!-- End Google Tag Manager -->\\n\\r\\n    \\r\\n\\t\\r\\n\\t<link rel=\"amphtml\" href=\"http://knoema.com/atlas/Lebanon?mode=amp\" />\\r\\n\\r\\n\\r\\n    <meta charset=\"utf-8\" /><script type=\"text/javascript\">window.NREUM||(NREUM={});NREUM.info = {\"beacon\":\"bam-cell.nr-data.net\",\"errorBeacon\":\"bam-cell.nr-data.net\",\"licenseKey\":\"313cca50ec\",\"applicationID\":\"548961827\",\"tra'\n"
     ]
    }
   ],
   "source": [
    "#import libraries \n",
    "import urllib.request, urllib.error, urllib.parse\n",
    "#assign a variable for the needed url \n",
    "url = 'https://knoema.com/atlas/Lebanon'\n",
    "#assign a variable to store the url content; read the contents\n",
    "response = urllib.request.urlopen(url)\n",
    "webContent = response.read()\n",
    "\n",
    "print(webContent[0:1000])"
   ]
  },
  {
   "cell_type": "code",
   "execution_count": 5,
   "metadata": {},
   "outputs": [],
   "source": [
    "#assign a variable to store the url content; read the contents\n",
    "response = urllib.request.urlopen(url)\n",
    "webContent = response.read()\n",
    "#open the html page of interest; write in binary; write into webContent; close.\n",
    "f = open('lebinfo.html', 'wb')\n",
    "f.write(webContent)\n",
    "f.close()"
   ]
  },
  {
   "cell_type": "code",
   "execution_count": 6,
   "metadata": {},
   "outputs": [],
   "source": [
    "#store another page in the url varianble\n",
    "url = 'https://knoema.com/atlas/Syria'\n",
    "#open and read the contents\n",
    "response = urllib.request.urlopen(url)\n",
    "webContent = response.read()\n",
    "#append the contents of the first page with the second using append binary; write into webContent; close.\n",
    "f = open('lebinfo.html', 'ab')\n",
    "f.write(webContent)\n",
    "f.close()"
   ]
  },
  {
   "cell_type": "code",
   "execution_count": 58,
   "metadata": {},
   "outputs": [
    {
     "name": "stdout",
     "output_type": "stream",
     "text": [
      "b'\\r\\n\\r\\n<!DOCTYPE html>\\r\\n<html lang=\"en-US\" dir=\"ltr\"  class=\"unknown unknown0\" \\txmlns:fb=\"http://www.facebook.com/2008/fbml\" >\\r\\n<head runat=\"server\" \\tprefix=\"og: http://ogp.me/ns# fb: http://ogp.me/ns/fb# knoema-com: http://ogp.me/ns/fb/knoema-com#\" >\\r\\n    \\t\\t<!-- Google Tag Manager -->\\n\\t\\t<script>(function(w,d,s,l,i){w[l]=w[l]||[];w[l].push({\\'gtm.start\\':\\n\\t\\tnew Date().getTime(),event:\\'gtm.js\\'});var f=d.getElementsByTagName(s)[0],\\n\\t\\tj=d.createElement(s),dl=l!=\\'dataLayer\\'?\\'&l=\\'+l:\\'\\';j.async=true;j.src=\\n\\t\\t\\'https://www.googletagmanager.com/gtm.js?id=\\'+i+dl;f.parentNode.insertBefore(j,f);\\n\\t\\t})(window,document,\\'script\\',\\'dataLayer\\',\\'GTM-NTMKTKM\\');</script>\\n\\t\\t<!-- End Google Tag Manager -->\\n\\r\\n    \\r\\n\\t\\r\\n\\t<link rel=\"amphtml\" href=\"http://knoema.com/atlas/Syrian-Arab-Republic?mode=amp\" />\\r\\n\\r\\n\\r\\n    <meta charset=\"utf-8\" /><script type=\"text/javascript\">window.NREUM||(NREUM={});NREUM.info = {\"beacon\":\"bam-cell.nr-data.net\",\"errorBeacon\":\"bam-cell.nr-data.net\",\"licenseKey\":\"313cca50ec\",\"applicationID\":\"54'\n"
     ]
    }
   ],
   "source": [
    "#open the html in read mode\n",
    "f = open('lebinfo.html', 'r')\n",
    "#assign a variable to the read contents; print a subset of the contents; close file.\n",
    "myStr = f.read()\n",
    "print(webContent[0:1000])\n",
    "f.close()\n",
    "\n",
    " "
   ]
  },
  {
   "cell_type": "raw",
   "metadata": {},
   "source": []
  },
  {
   "cell_type": "code",
   "execution_count": 56,
   "metadata": {},
   "outputs": [
    {
     "name": "stdout",
     "output_type": "stream",
     "text": [
      "Occurences of Lebanon: 227\n"
     ]
    }
   ],
   "source": [
    "#print occurences of the word \"Lebanon\"\n",
    "print(\"Occurences of Lebanon: \" + str(myStr.count(\"Lebanon\")) )\n"
   ]
  },
  {
   "cell_type": "code",
   "execution_count": 59,
   "metadata": {},
   "outputs": [
    {
     "name": "stdout",
     "output_type": "stream",
     "text": [
      "['html>\\n<html', 'lang=\"en-US\"', 'dir=\"ltr\"', '', 'class=\"unknown', 'unknown0\"', '\\txmlns:fb=\"http://www.facebook.com/2008/fbml\"', '>\\n<head', 'runat=\"server\"', '\\tprefix=\"og:', 'http://ogp.me/ns#', 'fb:', 'http://ogp.me/ns/fb#', 'knoema-com:']\n"
     ]
    }
   ],
   "source": [
    "#Split the strings into words by using one space as a divider and print a subset.\n",
    "myWords = myStr.split(\" \")\n",
    "print(myWords[1:15])"
   ]
  },
  {
   "cell_type": "code",
   "execution_count": 68,
   "metadata": {},
   "outputs": [
    {
     "name": "stdout",
     "output_type": "stream",
     "text": [
      "-at-dollar19-a-day\">Poverty rate at $1.9 a day</a>\n",
      "\t\t\t\t\t</li>\n",
      "\t\t\t\t\t<li>\n",
      "\t\t\t\t\t\t<a href=\"https://knoema.com/atlas/Lebanon/Poverty-rate-at-doll\n"
     ]
    }
   ],
   "source": [
    "#find a string of interest and print it with the surrounding words.\n",
    "myIndex = myStr.index(\"Poverty rate at\")\n",
    "print(myStr[myIndex-20:myIndex+120])"
   ]
  },
  {
   "cell_type": "code",
   "execution_count": 75,
   "metadata": {},
   "outputs": [
    {
     "name": "stdout",
     "output_type": "stream",
     "text": [
      "same\n",
      "227 227\n"
     ]
    }
   ],
   "source": [
    "#use an if statemnent to compare the count of two key words.\n",
    "val1 = myStr.count(\"Lebanon\")\n",
    "val2 = myStr.count(\"Syria\")\n",
    "\n",
    "if val1 > val2:\n",
    "    print(\"Lebanon\")\n",
    "elif val2 > val1:\n",
    "    print(\"Syria\")\n",
    "else: \n",
    "    print(\"same\")\n",
    "\n",
    "print(str(val1) + \" \" + str(val2) )"
   ]
  },
  {
   "cell_type": "code",
   "execution_count": 78,
   "metadata": {},
   "outputs": [
    {
     "name": "stdout",
     "output_type": "stream",
     "text": [
      "True.\n"
     ]
    }
   ],
   "source": [
    "#search for the word \"Lebanon\" and print true if found\n",
    "if \"Lebanon\" in myStr:\n",
    "    print(\"True.\")\n",
    "else:\n",
    "    print(\"False.\")"
   ]
  },
  {
   "cell_type": "code",
   "execution_count": null,
   "metadata": {},
   "outputs": [],
   "source": [
    "#Bonus exercise\n",
    "\n",
    "#url1 = 'https://knoema.com/atlas/Lebanon/Population-growth-rate'\n",
    "#url2 = 'https://knoema.com/atlas/Syria/Population-growth-rate'\n",
    "#response = urllib.request.urlopen(url1)\n",
    "#webContent1 = response.read()\n",
    "\n",
    "#response = urllib.request.urlopen(url2)\n",
    "#webContent2 = response.read()\n",
    "\n",
    "#s1 = str(webContent1).split(\" \")\n",
    "\n",
    "#s2 = str(webContent2).split(\" \")\n",
    "\n",
    "#for i in range(len(s1)):\n",
    "    #found = false\n",
    "    #for j in range(len(s2)):\n",
    "        #if( s1[i].find(s2[j])== 1 ):\n",
    "            #found = true;\n",
    "    #if not found: \n",
    "        #print(\"Element: \" + str(i) + \"===> \" + s1[i])\n",
    "\n",
    "\n",
    "#s = set(s2).union(set(s1))\n",
    "\n",
    "#print(str(len(s1)) + ' ' + str(len(s2)) + \" \" + str(len(p)))\n",
    "\n",
    "#for i in range(len(s)):\n",
    "#    p = s.pop()\n",
    "#    if( p.find('Employment')!= -1 ):\n",
    "#          print(\"Element: \" + str(i) + \"===> \" + p)\n",
    "          "
   ]
  },
  {
   "cell_type": "code",
   "execution_count": null,
   "metadata": {},
   "outputs": [],
   "source": []
  }
 ],
 "metadata": {
  "kernelspec": {
   "display_name": "Python 3 (ipykernel)",
   "language": "python",
   "name": "python3"
  },
  "language_info": {
   "codemirror_mode": {
    "name": "ipython",
    "version": 3
   },
   "file_extension": ".py",
   "mimetype": "text/x-python",
   "name": "python",
   "nbconvert_exporter": "python",
   "pygments_lexer": "ipython3",
   "version": "3.8.3"
  }
 },
 "nbformat": 4,
 "nbformat_minor": 4
}
