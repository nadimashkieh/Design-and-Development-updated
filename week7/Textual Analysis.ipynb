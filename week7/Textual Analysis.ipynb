{
 "cells": [
  {
   "cell_type": "markdown",
   "metadata": {},
   "source": [
    "<h1> Textual Analysis</h1>\n",
    "    <h3> Compare Three History Books on Lebanon </h3>\n",
    "    <h4> Import Libraries </h4>"
   ]
  },
  {
   "cell_type": "code",
   "execution_count": 1,
   "metadata": {},
   "outputs": [],
   "source": [
    "import PyPDF2 as PDF\n",
    "import numpy as np\n",
    "import re\n",
    "from collections import Counter\n",
    "import matplotlib.pyplot as plt\n",
    "import pandas as pd"
   ]
  },
  {
   "cell_type": "markdown",
   "metadata": {},
   "source": [
    "<h1> Import the Documents for Analysis </h1>\n",
    "    <h4> Declare two lists that contain: \n",
    "    <br>   1) the document names - PDF files \n",
    "    <br>   2) list of words of interest. \n",
    "    <br> The words will be compared across the documents\n",
    "    </h4>"
   ]
  },
  {
   "cell_type": "code",
   "execution_count": 18,
   "metadata": {},
   "outputs": [],
   "source": [
    "books = [\n",
    "        'books/A History of Modern Lebanon by Fawwaz Traboulsi (z-lib.org).pdf',\n",
    "        'books/A House of Many Mansions, The History of Lebanon Reconsidered by Salibi, Kamal S (z-lib.org).pdf',\n",
    "        'books/Lebanon The Fractured Country by David Gilmour (z-lib.org).pdf'\n",
    "        ]\n",
    "\n",
    "vocabulary = [\"lebanon\", \"syria\", \"sunni\", \"christian\", \"druze\"]\n"
   ]
  },
  {
   "cell_type": "markdown",
   "metadata": {},
   "source": [
    " <h1> Preprocess Text </h1>   \n",
    "    <h4>  Get-dictionary is a function that reads a PDF file and returns a dictionary object. \n",
    "    <br> The function will utilize a PDF file reader to extract all the words, excluding puntutions, and build a list. \n",
    "    <br> The process also uses a regular expression, via the \"findall\" function in the PDF module, to create a list.\n",
    "    <br> Return will leverage the \"Counter\" function in the module collection to count the occurences of each word in the text.\n",
    "    <br> The dictionary function will convert the list of words into a key-value pair, and return a dictionary. \n",
    "    </h4>\n",
    "   "
   ]
  },
  {
   "cell_type": "code",
   "execution_count": 19,
   "metadata": {},
   "outputs": [],
   "source": [
    "def get_dict( book_title ):\n",
    "    with open( book_title, 'rb' ) as f1:\n",
    "        pdf = PDF.PdfFileReader(f1)\n",
    "   \n",
    "        book_words = []\n",
    "        for n in range(pdf.getNumPages()):\n",
    "            book_words += re.findall(r'\\w+', pdf.getPage(n).extractText().lower())\n",
    "        \n",
    "    return( dict( Counter( book_words ) ) )\n",
    "\n"
   ]
  },
  {
   "cell_type": "markdown",
   "metadata": {},
   "source": [
    "<h3> This subsection builds a matrix of individual word frequencies across all books</h3>\n",
    "<h4>\n",
    "    <br> The following example shows the count of each word of interest across all books. \n",
    "    <br> In this example, we have five words and three books. \n",
    "    <br> Part 1: invokes the dictionary creation function and places one dictionary for each book in the books dictionary.\n",
    "    <br> Part 2: for each word of interest, build a matrix that collects the word counts across each book.\n",
    "</h4>\n",
    "\n",
    "<h4>[[901, 632, 573], [236, 328, 128], [39, 3, 61], [218, 248, 61], [183, 150, 38]]\n",
    "    \n",
    "<br> Part 3: leverage pandas to build a data frame. \n",
    "    <ul>               Lebanon The Fractured Country   \n",
    "    <li>lebanon                               573  \n",
    "    <li>syria                                 128  \n",
    "    <li>sunni                                  61  \n",
    "    <li>christian                              61  \n",
    "    <li>druze                                  38 \n",
    "    </ul>\n",
    "</h4>"
   ]
  },
  {
   "cell_type": "code",
   "execution_count": 20,
   "metadata": {},
   "outputs": [
    {
     "name": "stdout",
     "output_type": "stream",
     "text": [
      "books/A History of Modern Lebanon by Fawwaz Traboulsi (z-lib.org).pdf\n",
      "books/A House of Many Mansions, The History of Lebanon Reconsidered by Salibi, Kamal S (z-lib.org).pdf\n",
      "books/Lebanon The Fractured Country by David Gilmour (z-lib.org).pdf\n"
     ]
    }
   ],
   "source": [
    "book_dicts = []\n",
    "for book in books:\n",
    "    print(book)\n",
    "    book_dicts.append( get_dict( book ) )\n",
    "\n",
    "matrix = []\n",
    "for vocab in vocabulary:\n",
    "    book_list = []\n",
    "    for i in range(len(book_dicts)):\n",
    "        book_list.append( book_dicts[i][vocab])\n",
    "    matrix.append( book_list )\n",
    "\n",
    "df = pd.DataFrame(matrix, index = vocabulary,columns = titles)\n"
   ]
  },
  {
   "cell_type": "markdown",
   "metadata": {},
   "source": [
    "<h1> Plot the Data </h1>\n",
    "<h4> The dataframe is a key-value pair, grouped by each book, where the word is the key, and the number of occurrences is the value. \n",
    "   <br> Build a list of book titles from the books' list. \n",
    "   <br> Plot the data using pandas dataframe.\n",
    "</h4>"
   ]
  },
  {
   "cell_type": "code",
   "execution_count": 21,
   "metadata": {},
   "outputs": [
    {
     "data": {
      "image/png": "[encoded data removed]",
      "text/plain": [
       "<Figure size 432x288 with 1 Axes>"
      ]
     },
     "metadata": {
      "needs_background": "light"
     },
     "output_type": "display_data"
    }
   ],
   "source": [
    "                       \n",
    "titles = []\n",
    "for title in books:\n",
    "    titles.append( title[ title.index('/') + 1 : title.index('by') -1 ])\n",
    "\n",
    "\n",
    "ax= df.plot.bar()\n",
    "ax.set_xlabel('vocabulary')\n",
    "ax.set_ylabel('frequency')\n",
    "plt.show()"
   ]
  },
  {
   "cell_type": "markdown",
   "metadata": {},
   "source": [
    "<h1> Euclidean Distance </h1>\n",
    "<h4> Compute the Euclidean distance between two vectors, for each of the selected words, in each document pair</h4>\n",
    "\n",
    "\n",
    "\n"
   ]
  },
  {
   "cell_type": "code",
   "execution_count": 98,
   "metadata": {},
   "outputs": [
    {
     "name": "stdout",
     "output_type": "stream",
     "text": [
      "Euclidean distance for the word [lebanon]\n",
      " in [A History of Modern Lebanon] vs. [A House of Many Mansion]: 269.00\n",
      " in [A History of Modern Lebanon] vs. [Lebanon The Fractured Country]: 328.00\n",
      " in [A House of Many Mansions] vs. [Lebanon The Fractured Country]: 59.00\n",
      "\n",
      "\n",
      "Euclidean distance for the word [syria]\n",
      " in [A History of Modern Lebanon] vs. [A House of Many Mansion]: 92.00\n",
      " in [A History of Modern Lebanon] vs. [Lebanon The Fractured Country]: 108.00\n",
      " in [A House of Many Mansions] vs. [Lebanon The Fractured Country]: 200.00\n",
      "\n",
      "\n",
      "Euclidean distance for the word [sunni]\n",
      " in [A History of Modern Lebanon] vs. [A House of Many Mansion]: 36.00\n",
      " in [A History of Modern Lebanon] vs. [Lebanon The Fractured Country]: 22.00\n",
      " in [A House of Many Mansions] vs. [Lebanon The Fractured Country]: 58.00\n",
      "\n",
      "\n",
      "Euclidean distance for the word [christian]\n",
      " in [A History of Modern Lebanon] vs. [A House of Many Mansion]: 30.00\n",
      " in [A History of Modern Lebanon] vs. [Lebanon The Fractured Country]: 157.00\n",
      " in [A House of Many Mansions] vs. [Lebanon The Fractured Country]: 187.00\n",
      "\n",
      "\n",
      "Euclidean distance for the word [druze]\n",
      " in [A History of Modern Lebanon] vs. [A House of Many Mansion]: 33.00\n",
      " in [A History of Modern Lebanon] vs. [Lebanon The Fractured Country]: 145.00\n",
      " in [A House of Many Mansions] vs. [Lebanon The Fractured Country]: 112.00\n",
      "\n",
      "\n"
     ]
    }
   ],
   "source": [
    "def euclidean_distance(a, b):\n",
    "    return np.sqrt(np.sum((a - b) ** 2))\n",
    "\n",
    "for i in range(len(vocabulary)):\n",
    "    modern    = np.array( matrix[i][0] )\n",
    "    mansions  = np.array( matrix[i][1] )\n",
    "    fractured = np.array( matrix[i][2] )\n",
    "    modernmansions = euclidean_distance (modern , mansions)\n",
    "    print('Euclidean distance for the word [' + vocabulary[ i ] + ']')\n",
    "    print(' in [' + titles[ 0 ] + '] vs. [' + titles [ 1 ][:23] + f']: {modernmansions:.2f}')\n",
    "\n",
    "    modernfractured = euclidean_distance(modern, fractured)\n",
    "    print(' in [' + titles[ 0 ] + '] vs. [' + titles [ 2 ] + f']: {modernfractured:.2f}')\n",
    " \n",
    "    mansionsfractured = euclidean_distance(mansions, fractured)\n",
    "    print(' in [' + titles[ 1 ][:24] + '] vs. [' + titles [ 2 ] + f']: {mansionsfractured:.2f}')\n",
    "\n",
    "    print('\\n')\n"
   ]
  }
 ],
 "metadata": {
  "kernelspec": {
   "display_name": "Python 3 (ipykernel)",
   "language": "python",
   "name": "python3"
  },
  "language_info": {
   "codemirror_mode": {
    "name": "ipython",
    "version": 3
   },
   "file_extension": ".py",
   "mimetype": "text/x-python",
   "name": "python",
   "nbconvert_exporter": "python",
   "pygments_lexer": "ipython3",
   "version": "3.8.3"
  }
 },
 "nbformat": 4,
 "nbformat_minor": 4
}
